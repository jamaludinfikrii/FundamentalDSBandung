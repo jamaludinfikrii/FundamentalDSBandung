{
 "cells": [
  {
   "cell_type": "markdown",
   "metadata": {},
   "source": [
    "# Melbourne House Analysis"
   ]
  },
  {
   "cell_type": "code",
   "execution_count": 1,
   "metadata": {},
   "outputs": [],
   "source": [
    "import pandas as pd\n",
    "import numpy as np \n",
    "import matplotlib.pyplot as plt\n",
    "import seaborn as sns\n",
    "import warnings \n",
    "warnings.filterwarnings('ignore')"
   ]
  },
  {
   "cell_type": "code",
   "execution_count": 2,
   "metadata": {},
   "outputs": [],
   "source": [
    "pd.set_option('display.max_column',100)\n",
    "mh = pd.read_csv('Melbourne_housing_FULL.csv')"
   ]
  },
  {
   "cell_type": "code",
   "execution_count": 3,
   "metadata": {},
   "outputs": [
    {
     "data": {
      "text/html": [
       "<div>\n",
       "<style scoped>\n",
       "    .dataframe tbody tr th:only-of-type {\n",
       "        vertical-align: middle;\n",
       "    }\n",
       "\n",
       "    .dataframe tbody tr th {\n",
       "        vertical-align: top;\n",
       "    }\n",
       "\n",
       "    .dataframe thead th {\n",
       "        text-align: right;\n",
       "    }\n",
       "</style>\n",
       "<table border=\"1\" class=\"dataframe\">\n",
       "  <thead>\n",
       "    <tr style=\"text-align: right;\">\n",
       "      <th></th>\n",
       "      <th>Suburb</th>\n",
       "      <th>Address</th>\n",
       "      <th>Rooms</th>\n",
       "      <th>Type</th>\n",
       "      <th>Price</th>\n",
       "      <th>Method</th>\n",
       "      <th>SellerG</th>\n",
       "      <th>Date</th>\n",
       "      <th>Distance</th>\n",
       "      <th>Postcode</th>\n",
       "      <th>Bedroom2</th>\n",
       "      <th>Bathroom</th>\n",
       "      <th>Car</th>\n",
       "      <th>Landsize</th>\n",
       "      <th>BuildingArea</th>\n",
       "      <th>YearBuilt</th>\n",
       "      <th>CouncilArea</th>\n",
       "      <th>Lattitude</th>\n",
       "      <th>Longtitude</th>\n",
       "      <th>Regionname</th>\n",
       "      <th>Propertycount</th>\n",
       "    </tr>\n",
       "  </thead>\n",
       "  <tbody>\n",
       "    <tr>\n",
       "      <th>0</th>\n",
       "      <td>Abbotsford</td>\n",
       "      <td>68 Studley St</td>\n",
       "      <td>2</td>\n",
       "      <td>h</td>\n",
       "      <td>NaN</td>\n",
       "      <td>SS</td>\n",
       "      <td>Jellis</td>\n",
       "      <td>3/09/2016</td>\n",
       "      <td>2.5</td>\n",
       "      <td>3067.0</td>\n",
       "      <td>2.0</td>\n",
       "      <td>1.0</td>\n",
       "      <td>1.0</td>\n",
       "      <td>126.0</td>\n",
       "      <td>NaN</td>\n",
       "      <td>NaN</td>\n",
       "      <td>Yarra City Council</td>\n",
       "      <td>-37.8014</td>\n",
       "      <td>144.9958</td>\n",
       "      <td>Northern Metropolitan</td>\n",
       "      <td>4019.0</td>\n",
       "    </tr>\n",
       "    <tr>\n",
       "      <th>1</th>\n",
       "      <td>Abbotsford</td>\n",
       "      <td>85 Turner St</td>\n",
       "      <td>2</td>\n",
       "      <td>h</td>\n",
       "      <td>1480000.0</td>\n",
       "      <td>S</td>\n",
       "      <td>Biggin</td>\n",
       "      <td>3/12/2016</td>\n",
       "      <td>2.5</td>\n",
       "      <td>3067.0</td>\n",
       "      <td>2.0</td>\n",
       "      <td>1.0</td>\n",
       "      <td>1.0</td>\n",
       "      <td>202.0</td>\n",
       "      <td>NaN</td>\n",
       "      <td>NaN</td>\n",
       "      <td>Yarra City Council</td>\n",
       "      <td>-37.7996</td>\n",
       "      <td>144.9984</td>\n",
       "      <td>Northern Metropolitan</td>\n",
       "      <td>4019.0</td>\n",
       "    </tr>\n",
       "    <tr>\n",
       "      <th>2</th>\n",
       "      <td>Abbotsford</td>\n",
       "      <td>25 Bloomburg St</td>\n",
       "      <td>2</td>\n",
       "      <td>h</td>\n",
       "      <td>1035000.0</td>\n",
       "      <td>S</td>\n",
       "      <td>Biggin</td>\n",
       "      <td>4/02/2016</td>\n",
       "      <td>2.5</td>\n",
       "      <td>3067.0</td>\n",
       "      <td>2.0</td>\n",
       "      <td>1.0</td>\n",
       "      <td>0.0</td>\n",
       "      <td>156.0</td>\n",
       "      <td>79.0</td>\n",
       "      <td>1900.0</td>\n",
       "      <td>Yarra City Council</td>\n",
       "      <td>-37.8079</td>\n",
       "      <td>144.9934</td>\n",
       "      <td>Northern Metropolitan</td>\n",
       "      <td>4019.0</td>\n",
       "    </tr>\n",
       "    <tr>\n",
       "      <th>3</th>\n",
       "      <td>Abbotsford</td>\n",
       "      <td>18/659 Victoria St</td>\n",
       "      <td>3</td>\n",
       "      <td>u</td>\n",
       "      <td>NaN</td>\n",
       "      <td>VB</td>\n",
       "      <td>Rounds</td>\n",
       "      <td>4/02/2016</td>\n",
       "      <td>2.5</td>\n",
       "      <td>3067.0</td>\n",
       "      <td>3.0</td>\n",
       "      <td>2.0</td>\n",
       "      <td>1.0</td>\n",
       "      <td>0.0</td>\n",
       "      <td>NaN</td>\n",
       "      <td>NaN</td>\n",
       "      <td>Yarra City Council</td>\n",
       "      <td>-37.8114</td>\n",
       "      <td>145.0116</td>\n",
       "      <td>Northern Metropolitan</td>\n",
       "      <td>4019.0</td>\n",
       "    </tr>\n",
       "    <tr>\n",
       "      <th>4</th>\n",
       "      <td>Abbotsford</td>\n",
       "      <td>5 Charles St</td>\n",
       "      <td>3</td>\n",
       "      <td>h</td>\n",
       "      <td>1465000.0</td>\n",
       "      <td>SP</td>\n",
       "      <td>Biggin</td>\n",
       "      <td>4/03/2017</td>\n",
       "      <td>2.5</td>\n",
       "      <td>3067.0</td>\n",
       "      <td>3.0</td>\n",
       "      <td>2.0</td>\n",
       "      <td>0.0</td>\n",
       "      <td>134.0</td>\n",
       "      <td>150.0</td>\n",
       "      <td>1900.0</td>\n",
       "      <td>Yarra City Council</td>\n",
       "      <td>-37.8093</td>\n",
       "      <td>144.9944</td>\n",
       "      <td>Northern Metropolitan</td>\n",
       "      <td>4019.0</td>\n",
       "    </tr>\n",
       "  </tbody>\n",
       "</table>\n",
       "</div>"
      ],
      "text/plain": [
       "       Suburb             Address  Rooms Type      Price Method SellerG  \\\n",
       "0  Abbotsford       68 Studley St      2    h        NaN     SS  Jellis   \n",
       "1  Abbotsford        85 Turner St      2    h  1480000.0      S  Biggin   \n",
       "2  Abbotsford     25 Bloomburg St      2    h  1035000.0      S  Biggin   \n",
       "3  Abbotsford  18/659 Victoria St      3    u        NaN     VB  Rounds   \n",
       "4  Abbotsford        5 Charles St      3    h  1465000.0     SP  Biggin   \n",
       "\n",
       "        Date  Distance  Postcode  Bedroom2  Bathroom  Car  Landsize  \\\n",
       "0  3/09/2016       2.5    3067.0       2.0       1.0  1.0     126.0   \n",
       "1  3/12/2016       2.5    3067.0       2.0       1.0  1.0     202.0   \n",
       "2  4/02/2016       2.5    3067.0       2.0       1.0  0.0     156.0   \n",
       "3  4/02/2016       2.5    3067.0       3.0       2.0  1.0       0.0   \n",
       "4  4/03/2017       2.5    3067.0       3.0       2.0  0.0     134.0   \n",
       "\n",
       "   BuildingArea  YearBuilt         CouncilArea  Lattitude  Longtitude  \\\n",
       "0           NaN        NaN  Yarra City Council   -37.8014    144.9958   \n",
       "1           NaN        NaN  Yarra City Council   -37.7996    144.9984   \n",
       "2          79.0     1900.0  Yarra City Council   -37.8079    144.9934   \n",
       "3           NaN        NaN  Yarra City Council   -37.8114    145.0116   \n",
       "4         150.0     1900.0  Yarra City Council   -37.8093    144.9944   \n",
       "\n",
       "              Regionname  Propertycount  \n",
       "0  Northern Metropolitan         4019.0  \n",
       "1  Northern Metropolitan         4019.0  \n",
       "2  Northern Metropolitan         4019.0  \n",
       "3  Northern Metropolitan         4019.0  \n",
       "4  Northern Metropolitan         4019.0  "
      ]
     },
     "execution_count": 3,
     "metadata": {},
     "output_type": "execute_result"
    }
   ],
   "source": [
    "mh.head()"
   ]
  },
  {
   "cell_type": "code",
   "execution_count": 4,
   "metadata": {
    "scrolled": false
   },
   "outputs": [
    {
     "data": {
      "text/plain": [
       "(34857, 21)"
      ]
     },
     "execution_count": 4,
     "metadata": {},
     "output_type": "execute_result"
    }
   ],
   "source": [
    "mh.shape"
   ]
  },
  {
   "cell_type": "code",
   "execution_count": 5,
   "metadata": {
    "collapsed": true
   },
   "outputs": [
    {
     "name": "stdout",
     "output_type": "stream",
     "text": [
      "<class 'pandas.core.frame.DataFrame'>\n",
      "RangeIndex: 34857 entries, 0 to 34856\n",
      "Data columns (total 21 columns):\n",
      "Suburb           34857 non-null object\n",
      "Address          34857 non-null object\n",
      "Rooms            34857 non-null int64\n",
      "Type             34857 non-null object\n",
      "Price            27247 non-null float64\n",
      "Method           34857 non-null object\n",
      "SellerG          34857 non-null object\n",
      "Date             34857 non-null object\n",
      "Distance         34856 non-null float64\n",
      "Postcode         34856 non-null float64\n",
      "Bedroom2         26640 non-null float64\n",
      "Bathroom         26631 non-null float64\n",
      "Car              26129 non-null float64\n",
      "Landsize         23047 non-null float64\n",
      "BuildingArea     13742 non-null float64\n",
      "YearBuilt        15551 non-null float64\n",
      "CouncilArea      34854 non-null object\n",
      "Lattitude        26881 non-null float64\n",
      "Longtitude       26881 non-null float64\n",
      "Regionname       34854 non-null object\n",
      "Propertycount    34854 non-null float64\n",
      "dtypes: float64(12), int64(1), object(8)\n",
      "memory usage: 5.6+ MB\n"
     ]
    }
   ],
   "source": [
    "mh.info()"
   ]
  },
  {
   "cell_type": "code",
   "execution_count": 6,
   "metadata": {
    "collapsed": true
   },
   "outputs": [
    {
     "data": {
      "text/plain": [
       "Suburb             351\n",
       "Address          34009\n",
       "Rooms               12\n",
       "Type                 3\n",
       "Price             2871\n",
       "Method               9\n",
       "SellerG            388\n",
       "Date                78\n",
       "Distance           215\n",
       "Postcode           211\n",
       "Bedroom2            15\n",
       "Bathroom            11\n",
       "Car                 15\n",
       "Landsize          1684\n",
       "BuildingArea       740\n",
       "YearBuilt          160\n",
       "CouncilArea         33\n",
       "Lattitude        13402\n",
       "Longtitude       14524\n",
       "Regionname           8\n",
       "Propertycount      342\n",
       "dtype: int64"
      ]
     },
     "execution_count": 6,
     "metadata": {},
     "output_type": "execute_result"
    }
   ],
   "source": [
    "mh.nunique()"
   ]
  },
  {
   "cell_type": "code",
   "execution_count": 7,
   "metadata": {},
   "outputs": [],
   "source": [
    "# landsize di isi dari rata2 type nya tersebut bray \n",
    "# building area di isi berdasarkan landsize \n",
    "# bathroom dan bedroom diisi berdasarkan building area\n",
    "# price di isi dengan facility \n",
    "# car bisa diisi dengan landsize nya\n",
    "# landsize di isi dengan building tyep\n",
    "# Bedroom2 \n",
    "# Longitude dan Latitude "
   ]
  },
  {
   "cell_type": "markdown",
   "metadata": {},
   "source": [
    "## Check Percentage Missing Value each Column & Data Corelation"
   ]
  },
  {
   "cell_type": "code",
   "execution_count": 8,
   "metadata": {
    "collapsed": true
   },
   "outputs": [
    {
     "data": {
      "text/html": [
       "<div>\n",
       "<style scoped>\n",
       "    .dataframe tbody tr th:only-of-type {\n",
       "        vertical-align: middle;\n",
       "    }\n",
       "\n",
       "    .dataframe tbody tr th {\n",
       "        vertical-align: top;\n",
       "    }\n",
       "\n",
       "    .dataframe thead th {\n",
       "        text-align: right;\n",
       "    }\n",
       "</style>\n",
       "<table border=\"1\" class=\"dataframe\">\n",
       "  <thead>\n",
       "    <tr style=\"text-align: right;\">\n",
       "      <th></th>\n",
       "      <th>Total</th>\n",
       "      <th>Percent</th>\n",
       "    </tr>\n",
       "  </thead>\n",
       "  <tbody>\n",
       "    <tr>\n",
       "      <th>BuildingArea</th>\n",
       "      <td>21115</td>\n",
       "      <td>60.576068</td>\n",
       "    </tr>\n",
       "    <tr>\n",
       "      <th>YearBuilt</th>\n",
       "      <td>19306</td>\n",
       "      <td>55.386293</td>\n",
       "    </tr>\n",
       "    <tr>\n",
       "      <th>Landsize</th>\n",
       "      <td>11810</td>\n",
       "      <td>33.881286</td>\n",
       "    </tr>\n",
       "    <tr>\n",
       "      <th>Car</th>\n",
       "      <td>8728</td>\n",
       "      <td>25.039447</td>\n",
       "    </tr>\n",
       "    <tr>\n",
       "      <th>Bathroom</th>\n",
       "      <td>8226</td>\n",
       "      <td>23.599277</td>\n",
       "    </tr>\n",
       "    <tr>\n",
       "      <th>Bedroom2</th>\n",
       "      <td>8217</td>\n",
       "      <td>23.573457</td>\n",
       "    </tr>\n",
       "    <tr>\n",
       "      <th>Longtitude</th>\n",
       "      <td>7976</td>\n",
       "      <td>22.882061</td>\n",
       "    </tr>\n",
       "    <tr>\n",
       "      <th>Lattitude</th>\n",
       "      <td>7976</td>\n",
       "      <td>22.882061</td>\n",
       "    </tr>\n",
       "    <tr>\n",
       "      <th>Price</th>\n",
       "      <td>7610</td>\n",
       "      <td>21.832057</td>\n",
       "    </tr>\n",
       "    <tr>\n",
       "      <th>Regionname</th>\n",
       "      <td>3</td>\n",
       "      <td>0.008607</td>\n",
       "    </tr>\n",
       "    <tr>\n",
       "      <th>Propertycount</th>\n",
       "      <td>3</td>\n",
       "      <td>0.008607</td>\n",
       "    </tr>\n",
       "    <tr>\n",
       "      <th>CouncilArea</th>\n",
       "      <td>3</td>\n",
       "      <td>0.008607</td>\n",
       "    </tr>\n",
       "    <tr>\n",
       "      <th>Postcode</th>\n",
       "      <td>1</td>\n",
       "      <td>0.002869</td>\n",
       "    </tr>\n",
       "    <tr>\n",
       "      <th>Distance</th>\n",
       "      <td>1</td>\n",
       "      <td>0.002869</td>\n",
       "    </tr>\n",
       "    <tr>\n",
       "      <th>Date</th>\n",
       "      <td>0</td>\n",
       "      <td>0.000000</td>\n",
       "    </tr>\n",
       "    <tr>\n",
       "      <th>SellerG</th>\n",
       "      <td>0</td>\n",
       "      <td>0.000000</td>\n",
       "    </tr>\n",
       "    <tr>\n",
       "      <th>Method</th>\n",
       "      <td>0</td>\n",
       "      <td>0.000000</td>\n",
       "    </tr>\n",
       "    <tr>\n",
       "      <th>Type</th>\n",
       "      <td>0</td>\n",
       "      <td>0.000000</td>\n",
       "    </tr>\n",
       "    <tr>\n",
       "      <th>Rooms</th>\n",
       "      <td>0</td>\n",
       "      <td>0.000000</td>\n",
       "    </tr>\n",
       "    <tr>\n",
       "      <th>Address</th>\n",
       "      <td>0</td>\n",
       "      <td>0.000000</td>\n",
       "    </tr>\n",
       "    <tr>\n",
       "      <th>Suburb</th>\n",
       "      <td>0</td>\n",
       "      <td>0.000000</td>\n",
       "    </tr>\n",
       "  </tbody>\n",
       "</table>\n",
       "</div>"
      ],
      "text/plain": [
       "               Total    Percent\n",
       "BuildingArea   21115  60.576068\n",
       "YearBuilt      19306  55.386293\n",
       "Landsize       11810  33.881286\n",
       "Car             8728  25.039447\n",
       "Bathroom        8226  23.599277\n",
       "Bedroom2        8217  23.573457\n",
       "Longtitude      7976  22.882061\n",
       "Lattitude       7976  22.882061\n",
       "Price           7610  21.832057\n",
       "Regionname         3   0.008607\n",
       "Propertycount      3   0.008607\n",
       "CouncilArea        3   0.008607\n",
       "Postcode           1   0.002869\n",
       "Distance           1   0.002869\n",
       "Date               0   0.000000\n",
       "SellerG            0   0.000000\n",
       "Method             0   0.000000\n",
       "Type               0   0.000000\n",
       "Rooms              0   0.000000\n",
       "Address            0   0.000000\n",
       "Suburb             0   0.000000"
      ]
     },
     "execution_count": 8,
     "metadata": {},
     "output_type": "execute_result"
    }
   ],
   "source": [
    "total = mh.isnull().sum().sort_values(ascending=False)\n",
    "percent = ((mh.isnull().sum()/mh.isnull().count())*100).sort_values(ascending=False)\n",
    "missing_data = pd.concat([total,percent], axis=1, keys = ['Total','Percent'])\n",
    "missing_data"
   ]
  },
  {
   "cell_type": "code",
   "execution_count": 9,
   "metadata": {
    "collapsed": true
   },
   "outputs": [
    {
     "data": {
      "text/plain": [
       "<matplotlib.axes._subplots.AxesSubplot at 0x279ae8a65c0>"
      ]
     },
     "execution_count": 9,
     "metadata": {},
     "output_type": "execute_result"
    },
    {
     "data": {
      "image/png": "[encoded data removed]",
      "text/plain": [
       "<Figure size 1080x576 with 2 Axes>"
      ]
     },
     "metadata": {
      "needs_background": "light"
     },
     "output_type": "display_data"
    }
   ],
   "source": [
    "# Show corelation between another column \n",
    "figure = plt.figure(figsize=(15,8))\n",
    "sns.heatmap(mh.corr(), cmap ='ocean_r', linewidth = 0.1, annot=True)"
   ]
  },
  {
   "cell_type": "markdown",
   "metadata": {},
   "source": [
    "## Cleaning Data"
   ]
  },
  {
   "cell_type": "markdown",
   "metadata": {},
   "source": [
    " #### Drop all column Year Built & row property count"
   ]
  },
  {
   "cell_type": "code",
   "execution_count": 10,
   "metadata": {},
   "outputs": [],
   "source": [
    "mh.drop('YearBuilt', axis = 1, inplace=True)"
   ]
  },
  {
   "cell_type": "code",
   "execution_count": 11,
   "metadata": {},
   "outputs": [],
   "source": [
    "mh.dropna(subset=['Propertycount'],inplace=True)"
   ]
  },
  {
   "cell_type": "code",
   "execution_count": null,
   "metadata": {},
   "outputs": [],
   "source": [
    "mh.drop('Bedroom2', axis =1, inplace=True)"
   ]
  },
  {
   "cell_type": "markdown",
   "metadata": {},
   "source": [
    "#### Fill Data Landsize"
   ]
  },
  {
   "cell_type": "code",
   "execution_count": 12,
   "metadata": {
    "collapsed": true
   },
   "outputs": [
    {
     "data": {
      "text/plain": [
       "Type  Rooms\n",
       "h     1         330.0\n",
       "      2         364.0\n",
       "      3         624.0\n",
       "      4         726.0\n",
       "      5         863.0\n",
       "      6        1174.0\n",
       "      7        1008.0\n",
       "      8        1571.0\n",
       "      9        1021.0\n",
       "      10        595.0\n",
       "      12        960.0\n",
       "      16          NaN\n",
       "t     1         346.0\n",
       "      2         310.0\n",
       "      3         282.0\n",
       "      4         340.0\n",
       "      5         266.0\n",
       "      8         650.0\n",
       "      9           NaN\n",
       "u     1         409.0\n",
       "      2         512.0\n",
       "      3         447.0\n",
       "      4         274.0\n",
       "      5           NaN\n",
       "      6           0.0\n",
       "      8         983.0\n",
       "Name: Landsize, dtype: float64"
      ]
     },
     "execution_count": 12,
     "metadata": {},
     "output_type": "execute_result"
    }
   ],
   "source": [
    "group_Landsize = round(mh.groupby(['Type','Rooms']).mean()['Landsize'])\n",
    "group_Landsize"
   ]
  },
  {
   "cell_type": "code",
   "execution_count": 13,
   "metadata": {},
   "outputs": [],
   "source": [
    "def applyLandsize(x):\n",
    "    if (x['Landsize']) > 0:\n",
    "        return x['Landsize']\n",
    "    else :\n",
    "        return (group_Landsize.loc[x['Type']][x['Rooms']])"
   ]
  },
  {
   "cell_type": "code",
   "execution_count": 14,
   "metadata": {},
   "outputs": [],
   "source": [
    "mh['Landsize'] = mh[['Landsize','Type','Rooms']].apply(applyLandsize,axis = 1)"
   ]
  },
  {
   "cell_type": "code",
   "execution_count": 15,
   "metadata": {},
   "outputs": [],
   "source": [
    "# Drop Nan yang ada di Landsize (tidak bisa di korelasikan)\n",
    "mh.dropna(subset=['Landsize'],inplace=True)"
   ]
  },
  {
   "cell_type": "markdown",
   "metadata": {},
   "source": [
    "#### Fill Data Building Area "
   ]
  },
  {
   "cell_type": "code",
   "execution_count": 16,
   "metadata": {
    "collapsed": true
   },
   "outputs": [
    {
     "data": {
      "text/plain": [
       "Type  Landsize\n",
       "h     1.0         102.000000\n",
       "      5.0                NaN\n",
       "      29.0               NaN\n",
       "      34.0               NaN\n",
       "      35.0               NaN\n",
       "      36.0               NaN\n",
       "      43.0        205.000000\n",
       "      45.0               NaN\n",
       "      46.0               NaN\n",
       "      50.0        141.000000\n",
       "      55.0               NaN\n",
       "      56.0        106.000000\n",
       "      57.0        110.000000\n",
       "      58.0        118.333333\n",
       "      60.0        128.333333\n",
       "      61.0        112.000000\n",
       "      63.0               NaN\n",
       "      64.0        125.000000\n",
       "      66.0         99.500000\n",
       "      67.0         72.000000\n",
       "      69.0               NaN\n",
       "      70.0         87.150000\n",
       "      71.0         85.500000\n",
       "      72.0               NaN\n",
       "      73.0        104.000000\n",
       "      74.0         95.000000\n",
       "      75.0        106.000000\n",
       "      76.0        129.000000\n",
       "      78.0        110.000000\n",
       "      79.0         81.000000\n",
       "                     ...    \n",
       "u     5973.0             NaN\n",
       "      6111.0             NaN\n",
       "      6186.0             NaN\n",
       "      6367.0       75.000000\n",
       "      6494.0       77.500000\n",
       "      6712.0             NaN\n",
       "      6830.0             NaN\n",
       "      6866.0       63.000000\n",
       "      6996.0      136.000000\n",
       "      7159.0       61.000000\n",
       "      7170.0             NaN\n",
       "      7455.0       59.000000\n",
       "      7458.0             NaN\n",
       "      8140.0       86.500000\n",
       "      8220.0       87.000000\n",
       "      8223.0       51.000000\n",
       "      8680.0             NaN\n",
       "      8888.0       77.500000\n",
       "      9838.0      152.000000\n",
       "      14196.0      86.000000\n",
       "      14294.0      77.000000\n",
       "      14500.0            NaN\n",
       "      15100.0      66.000000\n",
       "      15900.0            NaN\n",
       "      15946.0      92.000000\n",
       "      16000.0      68.500000\n",
       "      17200.0      86.500000\n",
       "      21700.0            NaN\n",
       "      21715.0      99.000000\n",
       "      37000.0      90.000000\n",
       "Name: BuildingArea, Length: 2758, dtype: float64"
      ]
     },
     "execution_count": 16,
     "metadata": {},
     "output_type": "execute_result"
    }
   ],
   "source": [
    "group_BuildingArea = mh.groupby(['Type','Landsize']).mean()['BuildingArea']\n",
    "group_BuildingArea"
   ]
  },
  {
   "cell_type": "code",
   "execution_count": 17,
   "metadata": {},
   "outputs": [
    {
     "data": {
      "text/plain": [
       "186"
      ]
     },
     "execution_count": 17,
     "metadata": {},
     "output_type": "execute_result"
    }
   ],
   "source": [
    "# Contoh Penggunaan argmin\n",
    "# mencari nilai terkecil dari function yang di inputkan\n",
    "np.argmin(abs(mh[(mh['BuildingArea'].notnull())]['Landsize'] - 79))"
   ]
  },
  {
   "cell_type": "code",
   "execution_count": 18,
   "metadata": {},
   "outputs": [],
   "source": [
    "def applyBuildingArea(x):\n",
    "    buildingArea_notnull = mh[(mh['Type']==x['Type']) & (mh['BuildingArea'].notnull())]['Landsize']\n",
    "    if pd.notnull(x['BuildingArea']):\n",
    "        return x['BuildingArea']\n",
    "    else:\n",
    "        idx = np.argmin(np.abs(buildingArea_notnull - x['Landsize']))\n",
    "        return round(mh.groupby(['Landsize','Type']).mean()['BuildingArea'].loc[mh['Landsize'][idx]][x['Type']])"
   ]
  },
  {
   "cell_type": "code",
   "execution_count": 19,
   "metadata": {},
   "outputs": [],
   "source": [
    "mh['BuildingArea'] = mh[['BuildingArea','Type','Landsize']].apply(applyBuildingArea,axis = 1)"
   ]
  },
  {
   "cell_type": "markdown",
   "metadata": {},
   "source": [
    "#### Fill Data Bathroom"
   ]
  },
  {
   "cell_type": "code",
   "execution_count": 20,
   "metadata": {
    "collapsed": true
   },
   "outputs": [
    {
     "data": {
      "text/plain": [
       "BuildingArea  Rooms\n",
       "0.0000        2        1.0\n",
       "              3        2.0\n",
       "              4        2.0\n",
       "              5        2.0\n",
       "              6        2.0\n",
       "0.0100        3        2.0\n",
       "1.0000        1        2.0\n",
       "              2        1.0\n",
       "              3        2.0\n",
       "              4        2.0\n",
       "              5        4.0\n",
       "2.0000        1        0.0\n",
       "              2        1.0\n",
       "3.0000        3        2.0\n",
       "4.0000        3        2.0\n",
       "              4        2.0\n",
       "5.0000        5        3.0\n",
       "              6        1.0\n",
       "7.0000        1        1.0\n",
       "9.0000        2        1.0\n",
       "10.0000       2        1.0\n",
       "11.0000       3        2.0\n",
       "12.0000       2        1.0\n",
       "13.0000       2        1.0\n",
       "              3        1.0\n",
       "14.0000       3        2.0\n",
       "              4        2.0\n",
       "15.0000       1        1.0\n",
       "              2        1.0\n",
       "              3        2.0\n",
       "                      ... \n",
       "808.0000      4        1.0\n",
       "826.8367      5        3.0\n",
       "836.0000      4        4.0\n",
       "857.0000      4        3.0\n",
       "859.0000      4        2.0\n",
       "924.0000      3        2.0\n",
       "934.0000      3        1.0\n",
       "948.0000      3        1.0\n",
       "              4        2.0\n",
       "              5        2.0\n",
       "958.0000      4        2.0\n",
       "999.0000      1        1.0\n",
       "1022.0000     5        2.0\n",
       "1041.0000     3        1.0\n",
       "1044.0000     5        3.0\n",
       "1143.0000     2        1.0\n",
       "1561.0000     2        1.0\n",
       "2002.0000     5        3.0\n",
       "3112.0000     5        2.0\n",
       "3558.0000     2        3.0\n",
       "              3        3.0\n",
       "3647.0000     3        2.0\n",
       "              4        2.0\n",
       "4645.0000     5        5.0\n",
       "6178.0000     3        2.0\n",
       "              4        3.0\n",
       "6791.0000     4        1.0\n",
       "44515.0000    3        2.0\n",
       "              4        2.0\n",
       "              5        2.0\n",
       "Name: Bathroom, Length: 1863, dtype: float64"
      ]
     },
     "execution_count": 20,
     "metadata": {},
     "output_type": "execute_result"
    }
   ],
   "source": [
    "group_Bathroom = round(mh.groupby(['BuildingArea','Rooms']).mean()['Bathroom'])\n",
    "group_Bathroom"
   ]
  },
  {
   "cell_type": "code",
   "execution_count": 21,
   "metadata": {},
   "outputs": [],
   "source": [
    "def applyBathroom(x):\n",
    "    bathroom_notnull = mh[(mh['Rooms'] == x['Rooms']) & (mh['Bathroom'].notnull())]['BuildingArea']\n",
    "    if pd.notnull(x['Bathroom']):\n",
    "        return x['Bathroom']\n",
    "    else:\n",
    "        idx = np.argmin(np.abs(bathroom_notnull - x['BuildingArea']))\n",
    "        return round(group_Bathroom.loc[mh['BuildingArea'][idx]][x['Rooms']])"
   ]
  },
  {
   "cell_type": "code",
   "execution_count": 22,
   "metadata": {},
   "outputs": [],
   "source": [
    "mh['Bathroom'] = mh[['Bathroom','Rooms','BuildingArea']].apply(applyBathroom,axis = 1)"
   ]
  },
  {
   "cell_type": "code",
   "execution_count": 23,
   "metadata": {
    "collapsed": true
   },
   "outputs": [
    {
     "name": "stdout",
     "output_type": "stream",
     "text": [
      "<class 'pandas.core.frame.DataFrame'>\n",
      "Int64Index: 34851 entries, 0 to 34856\n",
      "Data columns (total 20 columns):\n",
      "Suburb           34851 non-null object\n",
      "Address          34851 non-null object\n",
      "Rooms            34851 non-null int64\n",
      "Type             34851 non-null object\n",
      "Price            27243 non-null float64\n",
      "Method           34851 non-null object\n",
      "SellerG          34851 non-null object\n",
      "Date             34851 non-null object\n",
      "Distance         34851 non-null float64\n",
      "Postcode         34851 non-null float64\n",
      "Bedroom2         26638 non-null float64\n",
      "Bathroom         34851 non-null float64\n",
      "Car              26127 non-null float64\n",
      "Landsize         34851 non-null float64\n",
      "BuildingArea     34851 non-null float64\n",
      "CouncilArea      34851 non-null object\n",
      "Lattitude        26878 non-null float64\n",
      "Longtitude       26878 non-null float64\n",
      "Regionname       34851 non-null object\n",
      "Propertycount    34851 non-null float64\n",
      "dtypes: float64(11), int64(1), object(8)\n",
      "memory usage: 6.8+ MB\n"
     ]
    }
   ],
   "source": [
    "mh.info()"
   ]
  },
  {
   "cell_type": "markdown",
   "metadata": {},
   "source": [
    "#### Fill Data Car"
   ]
  },
  {
   "cell_type": "code",
   "execution_count": 24,
   "metadata": {
    "collapsed": true
   },
   "outputs": [
    {
     "data": {
      "text/plain": [
       "Distance  Type\n",
       "0.0       u       0.0\n",
       "0.7       h       1.0\n",
       "          u       1.0\n",
       "1.2       h       0.0\n",
       "          u       1.0\n",
       "1.3       h       2.0\n",
       "          t       1.0\n",
       "          u       1.0\n",
       "1.4       h       3.0\n",
       "          u       NaN\n",
       "1.5       h       2.0\n",
       "          t       1.0\n",
       "          u       1.0\n",
       "1.6       h       1.0\n",
       "          t       1.0\n",
       "          u       1.0\n",
       "1.8       h       1.0\n",
       "          t       1.0\n",
       "          u       1.0\n",
       "1.9       h       1.0\n",
       "          t       1.0\n",
       "          u       1.0\n",
       "2.0       h       1.0\n",
       "          t       1.0\n",
       "          u       1.0\n",
       "2.1       h       1.0\n",
       "          t       1.0\n",
       "          u       1.0\n",
       "2.3       h       1.0\n",
       "          t       1.0\n",
       "                 ... \n",
       "34.1      u       1.0\n",
       "34.6      h       2.0\n",
       "34.7      h       2.0\n",
       "34.9      h       2.0\n",
       "          u       2.0\n",
       "35.2      h       2.0\n",
       "          u       NaN\n",
       "35.4      h       2.0\n",
       "          t       1.0\n",
       "          u       2.0\n",
       "35.5      h       1.0\n",
       "36.9      h       2.0\n",
       "37.5      h       3.0\n",
       "38.0      h       2.0\n",
       "          t       NaN\n",
       "          u       1.0\n",
       "39.0      h       3.0\n",
       "          u       1.0\n",
       "39.8      h       2.0\n",
       "41.0      h       2.0\n",
       "          u       2.0\n",
       "43.3      h       2.0\n",
       "43.4      h       2.0\n",
       "44.2      h       2.0\n",
       "45.2      h       3.0\n",
       "45.9      h       3.0\n",
       "47.3      h       2.0\n",
       "          t       NaN\n",
       "47.4      h       5.0\n",
       "48.1      h       3.0\n",
       "Name: Car, Length: 555, dtype: float64"
      ]
     },
     "execution_count": 24,
     "metadata": {},
     "output_type": "execute_result"
    }
   ],
   "source": [
    "group_car= round(mh.groupby(['Distance','Type']).mean()['Car'])\n",
    "group_car"
   ]
  },
  {
   "cell_type": "code",
   "execution_count": 25,
   "metadata": {},
   "outputs": [],
   "source": [
    "def applyCar(x): \n",
    "    car_notnull = mh[(mh['Type'] == x['Type']) & (mh['Car'].notnull())]['Distance']\n",
    "    if pd.notnull(x['Car']):\n",
    "        return x['Car']\n",
    "    else:\n",
    "        idx = np.argmin(np.abs(car_notnull - x['Distance']))\n",
    "        return round(group_car.loc[mh['Distance'][idx]][x['Type']])"
   ]
  },
  {
   "cell_type": "code",
   "execution_count": 26,
   "metadata": {},
   "outputs": [],
   "source": [
    "mh['Car'] = mh[['Car','Distance','Type']].apply(applyCar, axis=1)"
   ]
  },
  {
   "cell_type": "markdown",
   "metadata": {},
   "source": [
    "#### Fill Data Bedroom2"
   ]
  },
  {
   "cell_type": "code",
   "execution_count": 27,
   "metadata": {
    "collapsed": true
   },
   "outputs": [
    {
     "data": {
      "text/plain": [
       "Rooms  Type\n",
       "1      h        1.0\n",
       "       t        1.0\n",
       "       u        1.0\n",
       "2      h        2.0\n",
       "       t        2.0\n",
       "       u        2.0\n",
       "3      h        3.0\n",
       "       t        3.0\n",
       "       u        3.0\n",
       "4      h        4.0\n",
       "       t        4.0\n",
       "       u        4.0\n",
       "5      h        5.0\n",
       "       t        5.0\n",
       "6      h        6.0\n",
       "       u        4.0\n",
       "7      h        7.0\n",
       "8      h        8.0\n",
       "       t        8.0\n",
       "       u        4.0\n",
       "9      h        5.0\n",
       "10     h       10.0\n",
       "12     h       12.0\n",
       "Name: Bedroom2, dtype: float64"
      ]
     },
     "execution_count": 27,
     "metadata": {},
     "output_type": "execute_result"
    }
   ],
   "source": [
    "group_bedroom2 = round(mh.groupby(['Rooms','Type']).mean()['Bedroom2'])\n",
    "group_bedroom2"
   ]
  },
  {
   "cell_type": "code",
   "execution_count": 28,
   "metadata": {},
   "outputs": [],
   "source": [
    "def applyBedroom2(x):\n",
    "    if pd.notnull(x['Bedroom2']):\n",
    "        return x['Bedroom2']\n",
    "    else :\n",
    "        return group_bedroom2.loc[x['Rooms']][x['Type']]"
   ]
  },
  {
   "cell_type": "code",
   "execution_count": 29,
   "metadata": {},
   "outputs": [],
   "source": [
    "mh['Bedroom2'] = mh[['Bedroom2', 'Rooms','Type']].apply(applyBedroom2, axis =1)"
   ]
  },
  {
   "cell_type": "code",
   "execution_count": 30,
   "metadata": {
    "collapsed": true
   },
   "outputs": [
    {
     "name": "stdout",
     "output_type": "stream",
     "text": [
      "<class 'pandas.core.frame.DataFrame'>\n",
      "Int64Index: 34851 entries, 0 to 34856\n",
      "Data columns (total 20 columns):\n",
      "Suburb           34851 non-null object\n",
      "Address          34851 non-null object\n",
      "Rooms            34851 non-null int64\n",
      "Type             34851 non-null object\n",
      "Price            27243 non-null float64\n",
      "Method           34851 non-null object\n",
      "SellerG          34851 non-null object\n",
      "Date             34851 non-null object\n",
      "Distance         34851 non-null float64\n",
      "Postcode         34851 non-null float64\n",
      "Bedroom2         34851 non-null float64\n",
      "Bathroom         34851 non-null float64\n",
      "Car              34851 non-null float64\n",
      "Landsize         34851 non-null float64\n",
      "BuildingArea     34851 non-null float64\n",
      "CouncilArea      34851 non-null object\n",
      "Lattitude        26878 non-null float64\n",
      "Longtitude       26878 non-null float64\n",
      "Regionname       34851 non-null object\n",
      "Propertycount    34851 non-null float64\n",
      "dtypes: float64(11), int64(1), object(8)\n",
      "memory usage: 6.8+ MB\n"
     ]
    }
   ],
   "source": [
    "mh.info()"
   ]
  },
  {
   "cell_type": "markdown",
   "metadata": {},
   "source": [
    "#### Fill Data Longitude "
   ]
  },
  {
   "cell_type": "markdown",
   "metadata": {},
   "source": [
    "##### Fill Data with Suburb"
   ]
  },
  {
   "cell_type": "code",
   "execution_count": 31,
   "metadata": {
    "collapsed": true
   },
   "outputs": [
    {
     "data": {
      "text/plain": [
       "Suburb\n",
       "Abbotsford            144.9974\n",
       "Aberfeldie            144.8973\n",
       "Airport West          144.8796\n",
       "Albanvale             144.7696\n",
       "Albert Park           144.9533\n",
       "Albion                144.8189\n",
       "Alphington            145.0287\n",
       "Altona                144.8211\n",
       "Altona Meadows        144.7809\n",
       "Altona North          144.8493\n",
       "Ardeer                144.8019\n",
       "Armadale              145.0191\n",
       "Ascot Vale            144.9161\n",
       "Ashburton             145.0805\n",
       "Ashwood               145.1040\n",
       "Aspendale             145.1014\n",
       "Aspendale Gardens     145.1196\n",
       "Attwood               144.8891\n",
       "Avondale Heights      144.8607\n",
       "Avonsleigh            145.4674\n",
       "Bacchus Marsh         144.4339\n",
       "Balaclava             144.9949\n",
       "Balwyn                145.0821\n",
       "Balwyn North          145.0854\n",
       "Bayswater             145.2598\n",
       "Bayswater North       145.2829\n",
       "Beaconsfield          145.3791\n",
       "Beaconsfield Upper    145.4104\n",
       "Beaumaris             145.0390\n",
       "Belgrave              145.3443\n",
       "                        ...   \n",
       "Wallan                144.9804\n",
       "Wandin North          145.4147\n",
       "Wantirna              145.2299\n",
       "Wantirna South        145.2323\n",
       "Warrandyte            145.2075\n",
       "Warranwood            145.2475\n",
       "Waterways             145.1332\n",
       "Watsonia              145.0823\n",
       "Watsonia North        145.0863\n",
       "Wattle Glen           145.1824\n",
       "Werribee              144.6563\n",
       "Werribee South        144.7216\n",
       "West Footscray        144.8712\n",
       "West Melbourne        144.9478\n",
       "Westmeadows           144.8885\n",
       "Wheelers Hill         145.1841\n",
       "Whittlesea            145.1202\n",
       "Wildwood              144.8060\n",
       "Williams Landing      144.7409\n",
       "Williamstown          144.8928\n",
       "Williamstown North    144.8800\n",
       "Windsor               144.9951\n",
       "Wollert               145.0279\n",
       "Wonga Park            145.2813\n",
       "Wyndham Vale          144.6187\n",
       "Yallambie             145.0951\n",
       "Yarra Glen            145.3739\n",
       "Yarraville            144.8839\n",
       "croydon                    NaN\n",
       "viewbank                   NaN\n",
       "Name: Longtitude, Length: 350, dtype: float64"
      ]
     },
     "execution_count": 31,
     "metadata": {},
     "output_type": "execute_result"
    }
   ],
   "source": [
    "group_Longitude = round(mh.groupby('Suburb').mean()['Longtitude'],4)\n",
    "group_Longitude"
   ]
  },
  {
   "cell_type": "code",
   "execution_count": 32,
   "metadata": {},
   "outputs": [],
   "source": [
    "def applyLong(x):\n",
    "    if pd.notnull(x['Longtitude']):\n",
    "        return x['Longtitude']\n",
    "    else:\n",
    "        return group_Longitude.loc[x['Suburb']]"
   ]
  },
  {
   "cell_type": "code",
   "execution_count": 33,
   "metadata": {},
   "outputs": [],
   "source": [
    "mh['Longtitude'] = mh[['Longtitude', 'Suburb']].apply(applyLong,axis = 1)"
   ]
  },
  {
   "cell_type": "markdown",
   "metadata": {},
   "source": [
    "##### Fill Data with Postcode"
   ]
  },
  {
   "cell_type": "code",
   "execution_count": 34,
   "metadata": {
    "collapsed": true
   },
   "outputs": [
    {
     "data": {
      "text/plain": [
       "Postcode\n",
       "3000.0    144.9626\n",
       "3002.0    144.9846\n",
       "3003.0    144.9478\n",
       "3006.0    144.9650\n",
       "3008.0    144.9429\n",
       "3011.0    144.8922\n",
       "3012.0    144.8713\n",
       "3013.0    144.8839\n",
       "3015.0    144.8778\n",
       "3016.0    144.8912\n",
       "3018.0    144.8242\n",
       "3019.0    144.8516\n",
       "3020.0    144.8251\n",
       "3021.0    144.8021\n",
       "3022.0    144.8019\n",
       "3023.0    144.7620\n",
       "3024.0    144.6187\n",
       "3025.0    144.8493\n",
       "3027.0    144.7409\n",
       "3028.0    144.7760\n",
       "3029.0    144.6911\n",
       "3030.0    144.6955\n",
       "3031.0    144.9282\n",
       "3032.0    144.9046\n",
       "3033.0    144.8659\n",
       "3034.0    144.8607\n",
       "3036.0    144.8264\n",
       "3037.0    144.7538\n",
       "3038.0    144.7957\n",
       "3039.0    144.9198\n",
       "            ...   \n",
       "3437.0    144.5816\n",
       "3438.0    144.5963\n",
       "3750.0    145.0279\n",
       "3752.0    145.0829\n",
       "3754.0    145.0976\n",
       "3756.0    144.9804\n",
       "3757.0    145.1202\n",
       "3765.0    145.3517\n",
       "3770.0    145.3846\n",
       "3775.0    145.3739\n",
       "3777.0    145.5250\n",
       "3782.0    145.4519\n",
       "3786.0    145.3286\n",
       "3788.0         NaN\n",
       "3793.0    145.4129\n",
       "3795.0    145.4503\n",
       "3796.0    145.3801\n",
       "3802.0    145.2618\n",
       "3803.0    145.2697\n",
       "3805.0    145.3034\n",
       "3806.0    145.3450\n",
       "3807.0    145.3801\n",
       "3808.0    145.4104\n",
       "3809.0    145.4250\n",
       "3810.0    145.4708\n",
       "3910.0    145.1979\n",
       "3975.0    145.2566\n",
       "3976.0    145.2647\n",
       "3977.0    145.2597\n",
       "3978.0    145.3248\n",
       "Name: Longtitude, Length: 211, dtype: float64"
      ]
     },
     "execution_count": 34,
     "metadata": {},
     "output_type": "execute_result"
    }
   ],
   "source": [
    "group_Longitude1 = round(mh.groupby('Postcode').mean()['Longtitude'],4)\n",
    "group_Longitude1"
   ]
  },
  {
   "cell_type": "code",
   "execution_count": 35,
   "metadata": {},
   "outputs": [],
   "source": [
    "def applyLong1(x):\n",
    "    if pd.notnull(x['Longtitude']):\n",
    "        return x['Longtitude']\n",
    "    else:\n",
    "        return group_Longitude1.loc[x['Postcode']]"
   ]
  },
  {
   "cell_type": "code",
   "execution_count": 36,
   "metadata": {},
   "outputs": [],
   "source": [
    "mh['Longtitude']= mh[['Longtitude', 'Postcode']].apply(applyLong1,axis = 1)"
   ]
  },
  {
   "cell_type": "markdown",
   "metadata": {},
   "source": [
    "##### Fill Data with Council Area"
   ]
  },
  {
   "cell_type": "code",
   "execution_count": 37,
   "metadata": {
    "collapsed": true
   },
   "outputs": [
    {
     "data": {
      "text/plain": [
       "CouncilArea\n",
       "Banyule City Council              145.0766\n",
       "Bayside City Council              145.0187\n",
       "Boroondara City Council           145.0666\n",
       "Brimbank City Council             144.8196\n",
       "Cardinia Shire Council            145.4417\n",
       "Casey City Council                145.2910\n",
       "Darebin City Council              144.9996\n",
       "Frankston City Council            145.1487\n",
       "Glen Eira City Council            145.0489\n",
       "Greater Dandenong City Council    145.1859\n",
       "Hobsons Bay City Council          144.8629\n",
       "Hume City Council                 144.8972\n",
       "Kingston City Council             145.0933\n",
       "Knox City Council                 145.2547\n",
       "Macedon Ranges Shire Council      144.5989\n",
       "Manningham City Council           145.1358\n",
       "Maribyrnong City Council          144.8818\n",
       "Maroondah City Council            145.2581\n",
       "Melbourne City Council            144.9590\n",
       "Melton City Council               144.6454\n",
       "Mitchell Shire Council            144.9804\n",
       "Monash City Council               145.1288\n",
       "Moonee Valley City Council        144.9025\n",
       "Moorabool Shire Council           144.4416\n",
       "Moreland City Council             144.9465\n",
       "Nillumbik Shire Council           145.1484\n",
       "Port Phillip City Council         144.9780\n",
       "Stonnington City Council          145.0271\n",
       "Whitehorse City Council           145.1597\n",
       "Whittlesea City Council           145.0460\n",
       "Wyndham City Council              144.6826\n",
       "Yarra City Council                144.9954\n",
       "Yarra Ranges Shire Council        145.3354\n",
       "Name: Longtitude, dtype: float64"
      ]
     },
     "execution_count": 37,
     "metadata": {},
     "output_type": "execute_result"
    }
   ],
   "source": [
    "group_Longitude2 = round(mh.groupby('CouncilArea').mean()['Longtitude'],4)\n",
    "group_Longitude2"
   ]
  },
  {
   "cell_type": "code",
   "execution_count": 38,
   "metadata": {
    "collapsed": true
   },
   "outputs": [
    {
     "data": {
      "text/html": [
       "<div>\n",
       "<style scoped>\n",
       "    .dataframe tbody tr th:only-of-type {\n",
       "        vertical-align: middle;\n",
       "    }\n",
       "\n",
       "    .dataframe tbody tr th {\n",
       "        vertical-align: top;\n",
       "    }\n",
       "\n",
       "    .dataframe thead th {\n",
       "        text-align: right;\n",
       "    }\n",
       "</style>\n",
       "<table border=\"1\" class=\"dataframe\">\n",
       "  <thead>\n",
       "    <tr style=\"text-align: right;\">\n",
       "      <th></th>\n",
       "      <th>Suburb</th>\n",
       "      <th>Address</th>\n",
       "      <th>Rooms</th>\n",
       "      <th>Type</th>\n",
       "      <th>Price</th>\n",
       "      <th>Method</th>\n",
       "      <th>SellerG</th>\n",
       "      <th>Date</th>\n",
       "      <th>Distance</th>\n",
       "      <th>Postcode</th>\n",
       "      <th>Bedroom2</th>\n",
       "      <th>Bathroom</th>\n",
       "      <th>Car</th>\n",
       "      <th>Landsize</th>\n",
       "      <th>BuildingArea</th>\n",
       "      <th>CouncilArea</th>\n",
       "      <th>Lattitude</th>\n",
       "      <th>Longtitude</th>\n",
       "      <th>Regionname</th>\n",
       "      <th>Propertycount</th>\n",
       "    </tr>\n",
       "  </thead>\n",
       "  <tbody>\n",
       "    <tr>\n",
       "      <th>18669</th>\n",
       "      <td>Olinda</td>\n",
       "      <td>30 Monash Av</td>\n",
       "      <td>4</td>\n",
       "      <td>h</td>\n",
       "      <td>NaN</td>\n",
       "      <td>SA</td>\n",
       "      <td>Fletchers</td>\n",
       "      <td>15/07/2017</td>\n",
       "      <td>30.6</td>\n",
       "      <td>3788.0</td>\n",
       "      <td>4.0</td>\n",
       "      <td>2.0</td>\n",
       "      <td>2.0</td>\n",
       "      <td>726.0</td>\n",
       "      <td>209.0</td>\n",
       "      <td>Yarra Ranges Shire Council</td>\n",
       "      <td>NaN</td>\n",
       "      <td>NaN</td>\n",
       "      <td>Eastern Victoria</td>\n",
       "      <td>794.0</td>\n",
       "    </tr>\n",
       "  </tbody>\n",
       "</table>\n",
       "</div>"
      ],
      "text/plain": [
       "       Suburb       Address  Rooms Type  Price Method    SellerG        Date  \\\n",
       "18669  Olinda  30 Monash Av      4    h    NaN     SA  Fletchers  15/07/2017   \n",
       "\n",
       "       Distance  Postcode  Bedroom2  Bathroom  Car  Landsize  BuildingArea  \\\n",
       "18669      30.6    3788.0       4.0       2.0  2.0     726.0         209.0   \n",
       "\n",
       "                      CouncilArea  Lattitude  Longtitude        Regionname  \\\n",
       "18669  Yarra Ranges Shire Council        NaN         NaN  Eastern Victoria   \n",
       "\n",
       "       Propertycount  \n",
       "18669          794.0  "
      ]
     },
     "execution_count": 38,
     "metadata": {},
     "output_type": "execute_result"
    }
   ],
   "source": [
    "# Nan at Yarra Ranges Shire Council fillna with mean from Yarra Ranges Shire Council\n",
    "mh[mh['Longtitude'].isnull()]"
   ]
  },
  {
   "cell_type": "code",
   "execution_count": 39,
   "metadata": {},
   "outputs": [],
   "source": [
    "mh['Longtitude'].fillna(145.3354, inplace=True)"
   ]
  },
  {
   "cell_type": "markdown",
   "metadata": {},
   "source": [
    "#### Fill Data Latitude"
   ]
  },
  {
   "cell_type": "markdown",
   "metadata": {},
   "source": [
    "##### Fill Data with Suburb"
   ]
  },
  {
   "cell_type": "code",
   "execution_count": 40,
   "metadata": {
    "collapsed": true
   },
   "outputs": [
    {
     "data": {
      "text/plain": [
       "Suburb\n",
       "Abbotsford           -37.8041\n",
       "Aberfeldie           -37.7592\n",
       "Airport West         -37.7233\n",
       "Albanvale            -37.7451\n",
       "Albert Park          -37.8444\n",
       "Albion               -37.7805\n",
       "Alphington           -37.7784\n",
       "Altona               -37.8666\n",
       "Altona Meadows       -37.8794\n",
       "Altona North         -37.8348\n",
       "Ardeer               -37.7784\n",
       "Armadale             -37.8567\n",
       "Ascot Vale           -37.7764\n",
       "Ashburton            -37.8672\n",
       "Ashwood              -37.8656\n",
       "Aspendale            -38.0218\n",
       "Aspendale Gardens    -38.0214\n",
       "Attwood              -37.6716\n",
       "Avondale Heights     -37.7612\n",
       "Avonsleigh           -37.9212\n",
       "Bacchus Marsh        -37.6701\n",
       "Balaclava            -37.8707\n",
       "Balwyn               -37.8093\n",
       "Balwyn North         -37.7927\n",
       "Bayswater            -37.8484\n",
       "Bayswater North      -37.8258\n",
       "Beaconsfield         -38.0543\n",
       "Beaconsfield Upper   -38.0039\n",
       "Beaumaris            -37.9830\n",
       "Belgrave             -37.9126\n",
       "                       ...   \n",
       "Wallan               -37.4088\n",
       "Wandin North         -37.7700\n",
       "Wantirna             -37.8537\n",
       "Wantirna South       -37.8735\n",
       "Warrandyte           -37.7474\n",
       "Warranwood           -37.7732\n",
       "Waterways            -38.0128\n",
       "Watsonia             -37.7113\n",
       "Watsonia North       -37.6977\n",
       "Wattle Glen          -37.6677\n",
       "Werribee             -37.8940\n",
       "Werribee South       -37.9408\n",
       "West Footscray       -37.7976\n",
       "West Melbourne       -37.8082\n",
       "Westmeadows          -37.6775\n",
       "Wheelers Hill        -37.9073\n",
       "Whittlesea           -37.5103\n",
       "Wildwood             -37.6040\n",
       "Williams Landing     -37.8565\n",
       "Williamstown         -37.8603\n",
       "Williamstown North   -37.8555\n",
       "Windsor              -37.8551\n",
       "Wollert              -37.6145\n",
       "Wonga Park           -37.7391\n",
       "Wyndham Vale         -37.8891\n",
       "Yallambie            -37.7262\n",
       "Yarra Glen           -37.6539\n",
       "Yarraville           -37.8168\n",
       "croydon                   NaN\n",
       "viewbank                  NaN\n",
       "Name: Lattitude, Length: 350, dtype: float64"
      ]
     },
     "execution_count": 40,
     "metadata": {},
     "output_type": "execute_result"
    }
   ],
   "source": [
    "group_Latitude= round(mh.groupby('Suburb').mean()['Lattitude'],4)\n",
    "group_Latitude"
   ]
  },
  {
   "cell_type": "code",
   "execution_count": 41,
   "metadata": {},
   "outputs": [],
   "source": [
    "def applyLat(x):\n",
    "    if pd.notnull(x['Lattitude']):\n",
    "        return x['Lattitude']\n",
    "    else:\n",
    "        return group_Latitude.loc[x['Suburb']]"
   ]
  },
  {
   "cell_type": "code",
   "execution_count": 42,
   "metadata": {},
   "outputs": [],
   "source": [
    "mh['Lattitude'] = mh[['Lattitude', 'Suburb']].apply(applyLat,axis = 1)"
   ]
  },
  {
   "cell_type": "markdown",
   "metadata": {},
   "source": [
    "##### Fill Data with Postcode"
   ]
  },
  {
   "cell_type": "code",
   "execution_count": 43,
   "metadata": {
    "collapsed": true
   },
   "outputs": [
    {
     "data": {
      "text/plain": [
       "Postcode\n",
       "3000.0   -37.8130\n",
       "3002.0   -37.8150\n",
       "3003.0   -37.8082\n",
       "3006.0   -37.8263\n",
       "3008.0   -37.8180\n",
       "3011.0   -37.7990\n",
       "3012.0   -37.7968\n",
       "3013.0   -37.8168\n",
       "3015.0   -37.8391\n",
       "3016.0   -37.8597\n",
       "3018.0   -37.8662\n",
       "3019.0   -37.7858\n",
       "3020.0   -37.7838\n",
       "3021.0   -37.7413\n",
       "3022.0   -37.7784\n",
       "3023.0   -37.7520\n",
       "3024.0   -37.8891\n",
       "3025.0   -37.8348\n",
       "3027.0   -37.8565\n",
       "3028.0   -37.8761\n",
       "3029.0   -37.8618\n",
       "3030.0   -37.8905\n",
       "3031.0   -37.7901\n",
       "3032.0   -37.7765\n",
       "3033.0   -37.7420\n",
       "3034.0   -37.7612\n",
       "3036.0   -37.7178\n",
       "3037.0   -37.7028\n",
       "3038.0   -37.7076\n",
       "3039.0   -37.7659\n",
       "           ...   \n",
       "3437.0   -37.4961\n",
       "3438.0   -37.4643\n",
       "3750.0   -37.6145\n",
       "3752.0   -37.6356\n",
       "3754.0   -37.6002\n",
       "3756.0   -37.4088\n",
       "3757.0   -37.5103\n",
       "3765.0   -37.8082\n",
       "3770.0   -37.7246\n",
       "3775.0   -37.6539\n",
       "3777.0   -37.6495\n",
       "3782.0   -37.9275\n",
       "3786.0   -37.8773\n",
       "3788.0        NaN\n",
       "3793.0   -37.8793\n",
       "3795.0   -37.8398\n",
       "3796.0   -37.7854\n",
       "3802.0   -37.9767\n",
       "3803.0   -38.0023\n",
       "3805.0   -38.0191\n",
       "3806.0   -38.0414\n",
       "3807.0   -38.0486\n",
       "3808.0   -38.0039\n",
       "3809.0   -38.0681\n",
       "3810.0   -38.0769\n",
       "3910.0   -38.1504\n",
       "3975.0   -38.0542\n",
       "3976.0   -38.0376\n",
       "3977.0   -38.0951\n",
       "3978.0   -38.1124\n",
       "Name: Lattitude, Length: 211, dtype: float64"
      ]
     },
     "execution_count": 43,
     "metadata": {},
     "output_type": "execute_result"
    }
   ],
   "source": [
    "group_Latitude1= round(mh.groupby('Postcode').mean()['Lattitude'],4)\n",
    "group_Latitude1"
   ]
  },
  {
   "cell_type": "code",
   "execution_count": 44,
   "metadata": {},
   "outputs": [],
   "source": [
    "def applyLat1(x):\n",
    "    if pd.notnull(x['Lattitude']):\n",
    "        return x['Lattitude']\n",
    "    else:\n",
    "        return group_Latitude1.loc[x['Postcode']]"
   ]
  },
  {
   "cell_type": "code",
   "execution_count": 45,
   "metadata": {},
   "outputs": [],
   "source": [
    "mh['Lattitude'] = mh[['Lattitude', 'Postcode']].apply(applyLat1,axis = 1)"
   ]
  },
  {
   "cell_type": "markdown",
   "metadata": {},
   "source": [
    "##### Fill Data with Council Area"
   ]
  },
  {
   "cell_type": "code",
   "execution_count": 46,
   "metadata": {
    "collapsed": true
   },
   "outputs": [
    {
     "data": {
      "text/plain": [
       "CouncilArea\n",
       "Banyule City Council             -37.7321\n",
       "Bayside City Council             -37.9338\n",
       "Boroondara City Council          -37.8239\n",
       "Brimbank City Council            -37.7549\n",
       "Cardinia Shire Council           -38.0451\n",
       "Casey City Council               -38.0285\n",
       "Darebin City Council             -37.7410\n",
       "Frankston City Council           -38.1378\n",
       "Glen Eira City Council           -37.9060\n",
       "Greater Dandenong City Council   -37.9687\n",
       "Hobsons Bay City Council         -37.8496\n",
       "Hume City Council                -37.6420\n",
       "Kingston City Council            -37.9812\n",
       "Knox City Council                -37.8753\n",
       "Macedon Ranges Shire Council     -37.4861\n",
       "Manningham City Council          -37.7787\n",
       "Maribyrnong City Council         -37.7969\n",
       "Maroondah City Council           -37.8077\n",
       "Melbourne City Council           -37.8167\n",
       "Melton City Council              -37.7164\n",
       "Mitchell Shire Council           -37.4088\n",
       "Monash City Council              -37.8842\n",
       "Moonee Valley City Council       -37.7526\n",
       "Moorabool Shire Council          -37.6701\n",
       "Moreland City Council            -37.7413\n",
       "Nillumbik Shire Council          -37.6461\n",
       "Port Phillip City Council        -37.8601\n",
       "Stonnington City Council         -37.8578\n",
       "Whitehorse City Council          -37.8289\n",
       "Whittlesea City Council          -37.6461\n",
       "Wyndham City Council             -37.8823\n",
       "Yarra City Council               -37.8098\n",
       "Yarra Ranges Shire Council       -37.7800\n",
       "Name: Lattitude, dtype: float64"
      ]
     },
     "execution_count": 46,
     "metadata": {},
     "output_type": "execute_result"
    }
   ],
   "source": [
    "group_Latitude2= round(mh.groupby('CouncilArea').mean()['Lattitude'],4)\n",
    "group_Latitude2"
   ]
  },
  {
   "cell_type": "code",
   "execution_count": 47,
   "metadata": {
    "collapsed": true
   },
   "outputs": [
    {
     "data": {
      "text/html": [
       "<div>\n",
       "<style scoped>\n",
       "    .dataframe tbody tr th:only-of-type {\n",
       "        vertical-align: middle;\n",
       "    }\n",
       "\n",
       "    .dataframe tbody tr th {\n",
       "        vertical-align: top;\n",
       "    }\n",
       "\n",
       "    .dataframe thead th {\n",
       "        text-align: right;\n",
       "    }\n",
       "</style>\n",
       "<table border=\"1\" class=\"dataframe\">\n",
       "  <thead>\n",
       "    <tr style=\"text-align: right;\">\n",
       "      <th></th>\n",
       "      <th>Suburb</th>\n",
       "      <th>Address</th>\n",
       "      <th>Rooms</th>\n",
       "      <th>Type</th>\n",
       "      <th>Price</th>\n",
       "      <th>Method</th>\n",
       "      <th>SellerG</th>\n",
       "      <th>Date</th>\n",
       "      <th>Distance</th>\n",
       "      <th>Postcode</th>\n",
       "      <th>Bedroom2</th>\n",
       "      <th>Bathroom</th>\n",
       "      <th>Car</th>\n",
       "      <th>Landsize</th>\n",
       "      <th>BuildingArea</th>\n",
       "      <th>CouncilArea</th>\n",
       "      <th>Lattitude</th>\n",
       "      <th>Longtitude</th>\n",
       "      <th>Regionname</th>\n",
       "      <th>Propertycount</th>\n",
       "    </tr>\n",
       "  </thead>\n",
       "  <tbody>\n",
       "    <tr>\n",
       "      <th>18669</th>\n",
       "      <td>Olinda</td>\n",
       "      <td>30 Monash Av</td>\n",
       "      <td>4</td>\n",
       "      <td>h</td>\n",
       "      <td>NaN</td>\n",
       "      <td>SA</td>\n",
       "      <td>Fletchers</td>\n",
       "      <td>15/07/2017</td>\n",
       "      <td>30.6</td>\n",
       "      <td>3788.0</td>\n",
       "      <td>4.0</td>\n",
       "      <td>2.0</td>\n",
       "      <td>2.0</td>\n",
       "      <td>726.0</td>\n",
       "      <td>209.0</td>\n",
       "      <td>Yarra Ranges Shire Council</td>\n",
       "      <td>NaN</td>\n",
       "      <td>145.3354</td>\n",
       "      <td>Eastern Victoria</td>\n",
       "      <td>794.0</td>\n",
       "    </tr>\n",
       "  </tbody>\n",
       "</table>\n",
       "</div>"
      ],
      "text/plain": [
       "       Suburb       Address  Rooms Type  Price Method    SellerG        Date  \\\n",
       "18669  Olinda  30 Monash Av      4    h    NaN     SA  Fletchers  15/07/2017   \n",
       "\n",
       "       Distance  Postcode  Bedroom2  Bathroom  Car  Landsize  BuildingArea  \\\n",
       "18669      30.6    3788.0       4.0       2.0  2.0     726.0         209.0   \n",
       "\n",
       "                      CouncilArea  Lattitude  Longtitude        Regionname  \\\n",
       "18669  Yarra Ranges Shire Council        NaN    145.3354  Eastern Victoria   \n",
       "\n",
       "       Propertycount  \n",
       "18669          794.0  "
      ]
     },
     "execution_count": 47,
     "metadata": {},
     "output_type": "execute_result"
    }
   ],
   "source": [
    "# Nan at Yarra Ranges Shire Council fillna with mean from Yarra Ranges Shire Council\n",
    "mh[mh['Lattitude'].isnull()]"
   ]
  },
  {
   "cell_type": "code",
   "execution_count": 48,
   "metadata": {},
   "outputs": [],
   "source": [
    "mh['Lattitude'].fillna(-37.7800, inplace=True)"
   ]
  },
  {
   "cell_type": "code",
   "execution_count": null,
   "metadata": {},
   "outputs": [],
   "source": []
  },
  {
   "cell_type": "markdown",
   "metadata": {},
   "source": [
    "#### Fill Data Price"
   ]
  },
  {
   "cell_type": "code",
   "execution_count": 49,
   "metadata": {
    "collapsed": true
   },
   "outputs": [
    {
     "data": {
      "text/plain": [
       "BuildingArea  Type\n",
       "0.0000        h       1111643.0\n",
       "              t       1267200.0\n",
       "              u        633286.0\n",
       "0.0100        h             NaN\n",
       "1.0000        h       1562840.0\n",
       "              t        840000.0\n",
       "              u        533187.0\n",
       "2.0000        h        870571.0\n",
       "              t        704167.0\n",
       "              u        910100.0\n",
       "3.0000        h        775429.0\n",
       "              t        885600.0\n",
       "              u       1165000.0\n",
       "4.0000        h        953750.0\n",
       "              t       1308500.0\n",
       "5.0000        h       2010000.0\n",
       "7.0000        u        460000.0\n",
       "9.0000        h        890000.0\n",
       "10.0000       u        570000.0\n",
       "11.0000       h        684000.0\n",
       "12.0000       u        520000.0\n",
       "13.0000       h        542500.0\n",
       "14.0000       h       1560000.0\n",
       "              u        735000.0\n",
       "15.0000       h        709333.0\n",
       "              u        678833.0\n",
       "16.0000       h        968750.0\n",
       "              t        836250.0\n",
       "              u             NaN\n",
       "17.0000       u             NaN\n",
       "                        ...    \n",
       "739.0000      h        941000.0\n",
       "766.0000      h       1150000.0\n",
       "782.0000      h             NaN\n",
       "784.0000      h             NaN\n",
       "789.0000      h       1100000.0\n",
       "792.0000      h       1365000.0\n",
       "802.0000      h        605000.0\n",
       "808.0000      h       1920000.0\n",
       "826.8367      h       3000000.0\n",
       "836.0000      t       2530000.0\n",
       "857.0000      h       2200000.0\n",
       "859.0000      h        748000.0\n",
       "924.0000      h             NaN\n",
       "934.0000      h        580500.0\n",
       "948.0000      h       1331615.0\n",
       "958.0000      h       1508000.0\n",
       "999.0000      u        411500.0\n",
       "1022.0000     h       1975000.0\n",
       "1041.0000     h       1053000.0\n",
       "1044.0000     h             NaN\n",
       "1143.0000     t        600000.0\n",
       "1561.0000     u        741000.0\n",
       "2002.0000     h             NaN\n",
       "3112.0000     h       2608000.0\n",
       "3558.0000     t        805000.0\n",
       "3647.0000     h       1606000.0\n",
       "4645.0000     h             NaN\n",
       "6178.0000     t       1086500.0\n",
       "6791.0000     h       1280000.0\n",
       "44515.0000    h       1536667.0\n",
       "Name: Price, Length: 1142, dtype: float64"
      ]
     },
     "execution_count": 49,
     "metadata": {},
     "output_type": "execute_result"
    }
   ],
   "source": [
    "group_Price= round(mh.groupby(['BuildingArea','Type']).mean()['Price'])\n",
    "group_Price"
   ]
  },
  {
   "cell_type": "code",
   "execution_count": 50,
   "metadata": {},
   "outputs": [],
   "source": [
    "def applyPrice(x): \n",
    "    price_notnull = mh[(mh['Type'] == x['Type']) & (mh['Price'].notnull())]['BuildingArea']\n",
    "    if pd.notnull(x['Price']):\n",
    "        return x['Price']\n",
    "    else:\n",
    "        idx = np.argmin(np.abs(price_notnull - x['BuildingArea']))\n",
    "        return round(group_Price.loc[mh['BuildingArea'][idx]][x['Type']])"
   ]
  },
  {
   "cell_type": "code",
   "execution_count": 51,
   "metadata": {
    "scrolled": true
   },
   "outputs": [],
   "source": [
    "mh['Price'] = mh[['Price','BuildingArea','Type']].apply(applyPrice, axis =1)"
   ]
  },
  {
   "cell_type": "code",
   "execution_count": 52,
   "metadata": {
    "collapsed": true
   },
   "outputs": [
    {
     "data": {
      "text/plain": [
       "<matplotlib.axes._subplots.AxesSubplot at 0x279aeb48da0>"
      ]
     },
     "execution_count": 52,
     "metadata": {},
     "output_type": "execute_result"
    },
    {
     "data": {
      "image/png": "[encoded data removed]",
      "text/plain": [
       "<Figure size 1080x576 with 2 Axes>"
      ]
     },
     "metadata": {
      "needs_background": "light"
     },
     "output_type": "display_data"
    }
   ],
   "source": [
    "figure = plt.figure(figsize=(15,8))\n",
    "sns.heatmap(mh.corr(), cmap ='ocean_r', linewidth = 0.1, annot=True)"
   ]
  },
  {
   "cell_type": "code",
   "execution_count": 53,
   "metadata": {
    "collapsed": true
   },
   "outputs": [
    {
     "data": {
      "text/html": [
       "<div>\n",
       "<style scoped>\n",
       "    .dataframe tbody tr th:only-of-type {\n",
       "        vertical-align: middle;\n",
       "    }\n",
       "\n",
       "    .dataframe tbody tr th {\n",
       "        vertical-align: top;\n",
       "    }\n",
       "\n",
       "    .dataframe thead th {\n",
       "        text-align: right;\n",
       "    }\n",
       "</style>\n",
       "<table border=\"1\" class=\"dataframe\">\n",
       "  <thead>\n",
       "    <tr style=\"text-align: right;\">\n",
       "      <th></th>\n",
       "      <th>Suburb</th>\n",
       "      <th>Address</th>\n",
       "      <th>Rooms</th>\n",
       "      <th>Type</th>\n",
       "      <th>Price</th>\n",
       "      <th>Method</th>\n",
       "      <th>SellerG</th>\n",
       "      <th>Date</th>\n",
       "      <th>Distance</th>\n",
       "      <th>Postcode</th>\n",
       "      <th>Bedroom2</th>\n",
       "      <th>Bathroom</th>\n",
       "      <th>Car</th>\n",
       "      <th>Landsize</th>\n",
       "      <th>BuildingArea</th>\n",
       "      <th>CouncilArea</th>\n",
       "      <th>Lattitude</th>\n",
       "      <th>Longtitude</th>\n",
       "      <th>Regionname</th>\n",
       "      <th>Propertycount</th>\n",
       "    </tr>\n",
       "  </thead>\n",
       "  <tbody>\n",
       "    <tr>\n",
       "      <th>0</th>\n",
       "      <td>Abbotsford</td>\n",
       "      <td>68 Studley St</td>\n",
       "      <td>2</td>\n",
       "      <td>h</td>\n",
       "      <td>938143.0</td>\n",
       "      <td>SS</td>\n",
       "      <td>Jellis</td>\n",
       "      <td>3/09/2016</td>\n",
       "      <td>2.5</td>\n",
       "      <td>3067.0</td>\n",
       "      <td>2.0</td>\n",
       "      <td>1.0</td>\n",
       "      <td>1.0</td>\n",
       "      <td>126.0</td>\n",
       "      <td>89.0</td>\n",
       "      <td>Yarra City Council</td>\n",
       "      <td>-37.8014</td>\n",
       "      <td>144.9958</td>\n",
       "      <td>Northern Metropolitan</td>\n",
       "      <td>4019.0</td>\n",
       "    </tr>\n",
       "    <tr>\n",
       "      <th>1</th>\n",
       "      <td>Abbotsford</td>\n",
       "      <td>85 Turner St</td>\n",
       "      <td>2</td>\n",
       "      <td>h</td>\n",
       "      <td>1480000.0</td>\n",
       "      <td>S</td>\n",
       "      <td>Biggin</td>\n",
       "      <td>3/12/2016</td>\n",
       "      <td>2.5</td>\n",
       "      <td>3067.0</td>\n",
       "      <td>2.0</td>\n",
       "      <td>1.0</td>\n",
       "      <td>1.0</td>\n",
       "      <td>202.0</td>\n",
       "      <td>205.0</td>\n",
       "      <td>Yarra City Council</td>\n",
       "      <td>-37.7996</td>\n",
       "      <td>144.9984</td>\n",
       "      <td>Northern Metropolitan</td>\n",
       "      <td>4019.0</td>\n",
       "    </tr>\n",
       "    <tr>\n",
       "      <th>2</th>\n",
       "      <td>Abbotsford</td>\n",
       "      <td>25 Bloomburg St</td>\n",
       "      <td>2</td>\n",
       "      <td>h</td>\n",
       "      <td>1035000.0</td>\n",
       "      <td>S</td>\n",
       "      <td>Biggin</td>\n",
       "      <td>4/02/2016</td>\n",
       "      <td>2.5</td>\n",
       "      <td>3067.0</td>\n",
       "      <td>2.0</td>\n",
       "      <td>1.0</td>\n",
       "      <td>0.0</td>\n",
       "      <td>156.0</td>\n",
       "      <td>79.0</td>\n",
       "      <td>Yarra City Council</td>\n",
       "      <td>-37.8079</td>\n",
       "      <td>144.9934</td>\n",
       "      <td>Northern Metropolitan</td>\n",
       "      <td>4019.0</td>\n",
       "    </tr>\n",
       "    <tr>\n",
       "      <th>3</th>\n",
       "      <td>Abbotsford</td>\n",
       "      <td>18/659 Victoria St</td>\n",
       "      <td>3</td>\n",
       "      <td>u</td>\n",
       "      <td>878520.0</td>\n",
       "      <td>VB</td>\n",
       "      <td>Rounds</td>\n",
       "      <td>4/02/2016</td>\n",
       "      <td>2.5</td>\n",
       "      <td>3067.0</td>\n",
       "      <td>3.0</td>\n",
       "      <td>2.0</td>\n",
       "      <td>1.0</td>\n",
       "      <td>447.0</td>\n",
       "      <td>120.0</td>\n",
       "      <td>Yarra City Council</td>\n",
       "      <td>-37.8114</td>\n",
       "      <td>145.0116</td>\n",
       "      <td>Northern Metropolitan</td>\n",
       "      <td>4019.0</td>\n",
       "    </tr>\n",
       "    <tr>\n",
       "      <th>4</th>\n",
       "      <td>Abbotsford</td>\n",
       "      <td>5 Charles St</td>\n",
       "      <td>3</td>\n",
       "      <td>h</td>\n",
       "      <td>1465000.0</td>\n",
       "      <td>SP</td>\n",
       "      <td>Biggin</td>\n",
       "      <td>4/03/2017</td>\n",
       "      <td>2.5</td>\n",
       "      <td>3067.0</td>\n",
       "      <td>3.0</td>\n",
       "      <td>2.0</td>\n",
       "      <td>0.0</td>\n",
       "      <td>134.0</td>\n",
       "      <td>150.0</td>\n",
       "      <td>Yarra City Council</td>\n",
       "      <td>-37.8093</td>\n",
       "      <td>144.9944</td>\n",
       "      <td>Northern Metropolitan</td>\n",
       "      <td>4019.0</td>\n",
       "    </tr>\n",
       "  </tbody>\n",
       "</table>\n",
       "</div>"
      ],
      "text/plain": [
       "       Suburb             Address  Rooms Type      Price Method SellerG  \\\n",
       "0  Abbotsford       68 Studley St      2    h   938143.0     SS  Jellis   \n",
       "1  Abbotsford        85 Turner St      2    h  1480000.0      S  Biggin   \n",
       "2  Abbotsford     25 Bloomburg St      2    h  1035000.0      S  Biggin   \n",
       "3  Abbotsford  18/659 Victoria St      3    u   878520.0     VB  Rounds   \n",
       "4  Abbotsford        5 Charles St      3    h  1465000.0     SP  Biggin   \n",
       "\n",
       "        Date  Distance  Postcode  Bedroom2  Bathroom  Car  Landsize  \\\n",
       "0  3/09/2016       2.5    3067.0       2.0       1.0  1.0     126.0   \n",
       "1  3/12/2016       2.5    3067.0       2.0       1.0  1.0     202.0   \n",
       "2  4/02/2016       2.5    3067.0       2.0       1.0  0.0     156.0   \n",
       "3  4/02/2016       2.5    3067.0       3.0       2.0  1.0     447.0   \n",
       "4  4/03/2017       2.5    3067.0       3.0       2.0  0.0     134.0   \n",
       "\n",
       "   BuildingArea         CouncilArea  Lattitude  Longtitude  \\\n",
       "0          89.0  Yarra City Council   -37.8014    144.9958   \n",
       "1         205.0  Yarra City Council   -37.7996    144.9984   \n",
       "2          79.0  Yarra City Council   -37.8079    144.9934   \n",
       "3         120.0  Yarra City Council   -37.8114    145.0116   \n",
       "4         150.0  Yarra City Council   -37.8093    144.9944   \n",
       "\n",
       "              Regionname  Propertycount  \n",
       "0  Northern Metropolitan         4019.0  \n",
       "1  Northern Metropolitan         4019.0  \n",
       "2  Northern Metropolitan         4019.0  \n",
       "3  Northern Metropolitan         4019.0  \n",
       "4  Northern Metropolitan         4019.0  "
      ]
     },
     "execution_count": 53,
     "metadata": {},
     "output_type": "execute_result"
    }
   ],
   "source": [
    "mh.head()"
   ]
  },
  {
   "cell_type": "code",
   "execution_count": 59,
   "metadata": {},
   "outputs": [],
   "source": [
    "mh.drop('Bedroom2', axis =1, inplace=True)"
   ]
  },
  {
   "cell_type": "code",
   "execution_count": 61,
   "metadata": {},
   "outputs": [],
   "source": [
    "mh.to_csv('Melbourne_House_Clean.csv')"
   ]
  }
 ],
 "metadata": {
  "kernelspec": {
   "display_name": "Python 3",
   "language": "python",
   "name": "python3"
  },
  "language_info": {
   "codemirror_mode": {
    "name": "ipython",
    "version": 3
   },
   "file_extension": ".py",
   "mimetype": "text/x-python",
   "name": "python",
   "nbconvert_exporter": "python",
   "pygments_lexer": "ipython3",
   "version": "3.7.3"
  }
 },
 "nbformat": 4,
 "nbformat_minor": 2
}
