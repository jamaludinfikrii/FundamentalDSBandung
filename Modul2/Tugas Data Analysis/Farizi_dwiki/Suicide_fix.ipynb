{
 "cells": [
  {
   "cell_type": "markdown",
   "metadata": {},
   "source": [
    "# 1. IMPORT LIBRARY"
   ]
  },
  {
   "cell_type": "code",
   "execution_count": 2,
   "metadata": {},
   "outputs": [],
   "source": [
    "import pandas as pd\n",
    "import numpy as np\n",
    "import matplotlib.pyplot as plt\n",
    "import seaborn as sns"
   ]
  },
  {
   "cell_type": "markdown",
   "metadata": {},
   "source": [
    "# 2. READ CSV FILE"
   ]
  },
  {
   "cell_type": "code",
   "execution_count": 3,
   "metadata": {},
   "outputs": [],
   "source": [
    "df = pd.read_csv('who_suicide_statistics.csv')"
   ]
  },
  {
   "cell_type": "markdown",
   "metadata": {},
   "source": [
    "# 3. DESCRIBE THE DATAFRAME"
   ]
  },
  {
   "cell_type": "code",
   "execution_count": 3,
   "metadata": {},
   "outputs": [
    {
     "data": {
      "text/html": [
       "<div>\n",
       "<style scoped>\n",
       "    .dataframe tbody tr th:only-of-type {\n",
       "        vertical-align: middle;\n",
       "    }\n",
       "\n",
       "    .dataframe tbody tr th {\n",
       "        vertical-align: top;\n",
       "    }\n",
       "\n",
       "    .dataframe thead th {\n",
       "        text-align: right;\n",
       "    }\n",
       "</style>\n",
       "<table border=\"1\" class=\"dataframe\">\n",
       "  <thead>\n",
       "    <tr style=\"text-align: right;\">\n",
       "      <th></th>\n",
       "      <th>year</th>\n",
       "      <th>suicides_no</th>\n",
       "      <th>population</th>\n",
       "    </tr>\n",
       "  </thead>\n",
       "  <tbody>\n",
       "    <tr>\n",
       "      <th>count</th>\n",
       "      <td>43776.000000</td>\n",
       "      <td>41520.000000</td>\n",
       "      <td>3.831600e+04</td>\n",
       "    </tr>\n",
       "    <tr>\n",
       "      <th>mean</th>\n",
       "      <td>1998.502467</td>\n",
       "      <td>193.315390</td>\n",
       "      <td>1.664091e+06</td>\n",
       "    </tr>\n",
       "    <tr>\n",
       "      <th>std</th>\n",
       "      <td>10.338711</td>\n",
       "      <td>800.589926</td>\n",
       "      <td>3.647231e+06</td>\n",
       "    </tr>\n",
       "    <tr>\n",
       "      <th>min</th>\n",
       "      <td>1979.000000</td>\n",
       "      <td>0.000000</td>\n",
       "      <td>2.590000e+02</td>\n",
       "    </tr>\n",
       "    <tr>\n",
       "      <th>25%</th>\n",
       "      <td>1990.000000</td>\n",
       "      <td>1.000000</td>\n",
       "      <td>8.511275e+04</td>\n",
       "    </tr>\n",
       "    <tr>\n",
       "      <th>50%</th>\n",
       "      <td>1999.000000</td>\n",
       "      <td>14.000000</td>\n",
       "      <td>3.806550e+05</td>\n",
       "    </tr>\n",
       "    <tr>\n",
       "      <th>75%</th>\n",
       "      <td>2007.000000</td>\n",
       "      <td>91.000000</td>\n",
       "      <td>1.305698e+06</td>\n",
       "    </tr>\n",
       "    <tr>\n",
       "      <th>max</th>\n",
       "      <td>2016.000000</td>\n",
       "      <td>22338.000000</td>\n",
       "      <td>4.380521e+07</td>\n",
       "    </tr>\n",
       "  </tbody>\n",
       "</table>\n",
       "</div>"
      ],
      "text/plain": [
       "               year   suicides_no    population\n",
       "count  43776.000000  41520.000000  3.831600e+04\n",
       "mean    1998.502467    193.315390  1.664091e+06\n",
       "std       10.338711    800.589926  3.647231e+06\n",
       "min     1979.000000      0.000000  2.590000e+02\n",
       "25%     1990.000000      1.000000  8.511275e+04\n",
       "50%     1999.000000     14.000000  3.806550e+05\n",
       "75%     2007.000000     91.000000  1.305698e+06\n",
       "max     2016.000000  22338.000000  4.380521e+07"
      ]
     },
     "execution_count": 3,
     "metadata": {},
     "output_type": "execute_result"
    }
   ],
   "source": [
    "df.describe()"
   ]
  },
  {
   "cell_type": "markdown",
   "metadata": {},
   "source": [
    "# 4. FIND THE UNIQUE VALUE FROM SOME COLOUMN ( EXAMPLE ['YEAR'] )"
   ]
  },
  {
   "cell_type": "code",
   "execution_count": 4,
   "metadata": {},
   "outputs": [
    {
     "data": {
      "text/plain": [
       "array([1985, 1986, 1987, 1988, 1989, 1990, 1991, 1992, 1993, 1994, 1995,\n",
       "       1996, 1997, 1998, 1999, 2000, 2001, 2002, 2003, 2004, 2005, 2006,\n",
       "       2007, 2008, 2009, 2010, 2011, 2012, 2013, 2014, 2015, 1983, 1984,\n",
       "       2016, 1979, 1980, 1981, 1982], dtype=int64)"
      ]
     },
     "execution_count": 4,
     "metadata": {},
     "output_type": "execute_result"
    }
   ],
   "source": [
    "df['year'].unique()"
   ]
  },
  {
   "cell_type": "markdown",
   "metadata": {},
   "source": [
    "# 5. LOOK FOR THE INFO OF DATAFRAME"
   ]
  },
  {
   "cell_type": "code",
   "execution_count": 5,
   "metadata": {},
   "outputs": [
    {
     "name": "stdout",
     "output_type": "stream",
     "text": [
      "<class 'pandas.core.frame.DataFrame'>\n",
      "RangeIndex: 43776 entries, 0 to 43775\n",
      "Data columns (total 6 columns):\n",
      "country        43776 non-null object\n",
      "year           43776 non-null int64\n",
      "sex            43776 non-null object\n",
      "age            43776 non-null object\n",
      "suicides_no    41520 non-null float64\n",
      "population     38316 non-null float64\n",
      "dtypes: float64(2), int64(1), object(3)\n",
      "memory usage: 2.0+ MB\n"
     ]
    }
   ],
   "source": [
    "df.info()                "
   ]
  },
  {
   "cell_type": "markdown",
   "metadata": {},
   "source": [
    "# 6. SORT THE DERANGED YEAR ORDER FROM THE OLDEST TO THE NEWEST"
   ]
  },
  {
   "cell_type": "code",
   "execution_count": 6,
   "metadata": {},
   "outputs": [],
   "source": [
    "df.sort_values(by=['year'], inplace=True)"
   ]
  },
  {
   "cell_type": "markdown",
   "metadata": {},
   "source": [
    "# 7. FIND THE AVERAGE VALUE OF MALE POPULATION"
   ]
  },
  {
   "cell_type": "code",
   "execution_count": 7,
   "metadata": {},
   "outputs": [
    {
     "data": {
      "text/plain": [
       "1624966.0543376135"
      ]
     },
     "execution_count": 7,
     "metadata": {},
     "output_type": "execute_result"
    }
   ],
   "source": [
    "df[df['sex'] == 'male']['population'].mean()"
   ]
  },
  {
   "cell_type": "markdown",
   "metadata": {},
   "source": [
    "# 8. FIND THE HIGHEST VALUE OF SUICIDE !"
   ]
  },
  {
   "cell_type": "code",
   "execution_count": 8,
   "metadata": {},
   "outputs": [
    {
     "data": {
      "text/plain": [
       "22338.0"
      ]
     },
     "execution_count": 8,
     "metadata": {},
     "output_type": "execute_result"
    }
   ],
   "source": [
    "df['suicides_no'].max()"
   ]
  },
  {
   "cell_type": "markdown",
   "metadata": {},
   "source": [
    "# 9. FIND THE HIGHEST AND LOWEST SUICIDE VALUE, SORTED BY THE COUNTRY NAME ! "
   ]
  },
  {
   "cell_type": "code",
   "execution_count": 9,
   "metadata": {},
   "outputs": [
    {
     "data": {
      "text/plain": [
       "country\n",
       "Russian Federation          1500992.0\n",
       "United States of America    1201401.0\n",
       "Japan                        937614.0\n",
       "France                       395500.0\n",
       "Ukraine                      365170.0\n",
       "Name: suicides_no, dtype: float64"
      ]
     },
     "execution_count": 9,
     "metadata": {},
     "output_type": "execute_result"
    }
   ],
   "source": [
    "df.groupby('country').sum()['suicides_no'].sort_values(ascending = False).head(5)"
   ]
  },
  {
   "cell_type": "code",
   "execution_count": 10,
   "metadata": {},
   "outputs": [
    {
     "data": {
      "text/plain": [
       "country\n",
       "Sao Tome and Principe          4.0\n",
       "Iraq                           3.0\n",
       "Anguilla                       2.0\n",
       "Falkland Islands (Malvinas)    1.0\n",
       "Montserrat                     1.0\n",
       "Name: suicides_no, dtype: float64"
      ]
     },
     "execution_count": 10,
     "metadata": {},
     "output_type": "execute_result"
    }
   ],
   "source": [
    "df.groupby('country').sum()['suicides_no'].sort_values(ascending = False).tail(5)"
   ]
  },
  {
   "cell_type": "markdown",
   "metadata": {},
   "source": [
    "# 10. FIND THE RATIO BETWEEN BOTH SEXS ABOUT HOW MUCH THE SUICIDE OCCURED"
   ]
  },
  {
   "cell_type": "code",
   "execution_count": 11,
   "metadata": {},
   "outputs": [
    {
     "data": {
      "text/plain": [
       "sex\n",
       "female     91.631599\n",
       "male      294.999181\n",
       "Name: suicides_no, dtype: float64"
      ]
     },
     "execution_count": 11,
     "metadata": {},
     "output_type": "execute_result"
    }
   ],
   "source": [
    "df.groupby('sex').mean()['suicides_no']"
   ]
  },
  {
   "cell_type": "markdown",
   "metadata": {},
   "source": [
    "# 11. DETECT THE OUTLIER VALUES FROM BOTH COLOUMN "
   ]
  },
  {
   "cell_type": "code",
   "execution_count": 12,
   "metadata": {},
   "outputs": [],
   "source": [
    "def detect_outlier(x) :\n",
    "    std = df[x].std()\n",
    "    lowerlimit = df[x].mean() - (3*std)\n",
    "    upperlimit = df[x].mean() + (3*std)\n",
    "    return len(df[(df[x]<lowerlimit) | (df[x]>upperlimit)])"
   ]
  },
  {
   "cell_type": "code",
   "execution_count": 13,
   "metadata": {},
   "outputs": [
    {
     "data": {
      "text/plain": [
       "575"
      ]
     },
     "execution_count": 13,
     "metadata": {},
     "output_type": "execute_result"
    }
   ],
   "source": [
    "detect_outlier('suicides_no')"
   ]
  },
  {
   "cell_type": "code",
   "execution_count": 14,
   "metadata": {},
   "outputs": [
    {
     "data": {
      "text/plain": [
       "903"
      ]
     },
     "execution_count": 14,
     "metadata": {},
     "output_type": "execute_result"
    }
   ],
   "source": [
    "detect_outlier('population')"
   ]
  },
  {
   "cell_type": "markdown",
   "metadata": {},
   "source": [
    "# 12. DETECT THE INDEX OF THE OUTLIER VALUES"
   ]
  },
  {
   "cell_type": "code",
   "execution_count": 15,
   "metadata": {},
   "outputs": [],
   "source": [
    " def detect_outlier_return_index(x) :\n",
    "    std = df[x].std()\n",
    "    lowerlimit = df[x].mean() - (3*std)\n",
    "    upperlimit = df[x].mean() + (3*std)\n",
    "    return df[(df[x]<lowerlimit) | (df[x]>upperlimit)].index"
   ]
  },
  {
   "cell_type": "code",
   "execution_count": 16,
   "metadata": {},
   "outputs": [],
   "source": [
    "idOut_S = list(detect_outlier_return_index('suicides_no'))"
   ]
  },
  {
   "cell_type": "code",
   "execution_count": 17,
   "metadata": {},
   "outputs": [],
   "source": [
    "idOut_P = list(detect_outlier_return_index('population'))"
   ]
  },
  {
   "cell_type": "markdown",
   "metadata": {},
   "source": [
    "# 13. MANAGE THE OUTLIER VALUES !"
   ]
  },
  {
   "cell_type": "code",
   "execution_count": 18,
   "metadata": {},
   "outputs": [
    {
     "data": {
      "text/plain": [
       "193.3153901734104"
      ]
     },
     "execution_count": 18,
     "metadata": {},
     "output_type": "execute_result"
    }
   ],
   "source": [
    "df['suicides_no'].mean()"
   ]
  },
  {
   "cell_type": "code",
   "execution_count": 19,
   "metadata": {},
   "outputs": [
    {
     "data": {
      "text/plain": [
       "1664091.1353742562"
      ]
     },
     "execution_count": 19,
     "metadata": {},
     "output_type": "execute_result"
    }
   ],
   "source": [
    "df['population'].mean()"
   ]
  },
  {
   "cell_type": "code",
   "execution_count": 20,
   "metadata": {},
   "outputs": [],
   "source": [
    "def applySUIoutlier(x) :\n",
    "    if x['index'] in idOut_S :\n",
    "        return df['suicides_no'].mean()\n",
    "    else :\n",
    "        return x['suicides_no']"
   ]
  },
  {
   "cell_type": "code",
   "execution_count": 21,
   "metadata": {},
   "outputs": [],
   "source": [
    "def applyPoutlier(x) :\n",
    "    if x['index'] in idOut_P :\n",
    "        return df['population'].mean()\n",
    "    else :\n",
    "        return x['population']"
   ]
  },
  {
   "cell_type": "code",
   "execution_count": 22,
   "metadata": {},
   "outputs": [],
   "source": [
    "df['index']=df.index"
   ]
  },
  {
   "cell_type": "code",
   "execution_count": 23,
   "metadata": {},
   "outputs": [],
   "source": [
    "df['suicides_no']= df[['index','suicides_no']].apply(applySUIoutlier,axis=1)"
   ]
  },
  {
   "cell_type": "code",
   "execution_count": 24,
   "metadata": {},
   "outputs": [],
   "source": [
    "df['population'] =  df[['index','population']].apply(applyPoutlier,axis=1)"
   ]
  },
  {
   "cell_type": "markdown",
   "metadata": {},
   "source": [
    "# 14. CREATE A NEW DATAFRAME, EACH COLOUMN INSIST :\n",
    "#       A. YEAR OF THE OCCURED SUICIDE\n",
    "#       B. WHICH COUNTRY THAT HAS THE HIGHEST SUICIDE VALUES \n",
    "#       C. HIGHEST SUICIDE COUNT FOR EACH COUNTRY"
   ]
  },
  {
   "cell_type": "code",
   "execution_count": 25,
   "metadata": {},
   "outputs": [
    {
     "data": {
      "text/html": [
       "<div>\n",
       "<style scoped>\n",
       "    .dataframe tbody tr th:only-of-type {\n",
       "        vertical-align: middle;\n",
       "    }\n",
       "\n",
       "    .dataframe tbody tr th {\n",
       "        vertical-align: top;\n",
       "    }\n",
       "\n",
       "    .dataframe thead th {\n",
       "        text-align: right;\n",
       "    }\n",
       "</style>\n",
       "<table border=\"1\" class=\"dataframe\">\n",
       "  <thead>\n",
       "    <tr style=\"text-align: right;\">\n",
       "      <th></th>\n",
       "      <th>Year</th>\n",
       "      <th>Country</th>\n",
       "      <th>Suicides</th>\n",
       "    </tr>\n",
       "  </thead>\n",
       "  <tbody>\n",
       "    <tr>\n",
       "      <th>0</th>\n",
       "      <td>1979</td>\n",
       "      <td>[Japan]</td>\n",
       "      <td>2564.0</td>\n",
       "    </tr>\n",
       "    <tr>\n",
       "      <th>1</th>\n",
       "      <td>1980</td>\n",
       "      <td>[Japan]</td>\n",
       "      <td>2489.0</td>\n",
       "    </tr>\n",
       "    <tr>\n",
       "      <th>2</th>\n",
       "      <td>1981</td>\n",
       "      <td>[United States of America]</td>\n",
       "      <td>2374.0</td>\n",
       "    </tr>\n",
       "    <tr>\n",
       "      <th>3</th>\n",
       "      <td>1982</td>\n",
       "      <td>[France]</td>\n",
       "      <td>2536.0</td>\n",
       "    </tr>\n",
       "    <tr>\n",
       "      <th>4</th>\n",
       "      <td>1983</td>\n",
       "      <td>[Japan]</td>\n",
       "      <td>2511.0</td>\n",
       "    </tr>\n",
       "    <tr>\n",
       "      <th>5</th>\n",
       "      <td>1984</td>\n",
       "      <td>[Japan]</td>\n",
       "      <td>2556.0</td>\n",
       "    </tr>\n",
       "    <tr>\n",
       "      <th>6</th>\n",
       "      <td>1985</td>\n",
       "      <td>[Japan]</td>\n",
       "      <td>2582.0</td>\n",
       "    </tr>\n",
       "    <tr>\n",
       "      <th>7</th>\n",
       "      <td>1986</td>\n",
       "      <td>[Russian Federation]</td>\n",
       "      <td>2524.0</td>\n",
       "    </tr>\n",
       "    <tr>\n",
       "      <th>8</th>\n",
       "      <td>1987</td>\n",
       "      <td>[United States of America]</td>\n",
       "      <td>2532.0</td>\n",
       "    </tr>\n",
       "    <tr>\n",
       "      <th>9</th>\n",
       "      <td>1988</td>\n",
       "      <td>[United States of America]</td>\n",
       "      <td>2548.0</td>\n",
       "    </tr>\n",
       "    <tr>\n",
       "      <th>10</th>\n",
       "      <td>1989</td>\n",
       "      <td>[Russian Federation]</td>\n",
       "      <td>2581.0</td>\n",
       "    </tr>\n",
       "    <tr>\n",
       "      <th>11</th>\n",
       "      <td>1990</td>\n",
       "      <td>[Russian Federation]</td>\n",
       "      <td>2467.0</td>\n",
       "    </tr>\n",
       "    <tr>\n",
       "      <th>12</th>\n",
       "      <td>1991</td>\n",
       "      <td>[Japan]</td>\n",
       "      <td>2561.0</td>\n",
       "    </tr>\n",
       "    <tr>\n",
       "      <th>13</th>\n",
       "      <td>1992</td>\n",
       "      <td>[United States of America]</td>\n",
       "      <td>2573.0</td>\n",
       "    </tr>\n",
       "    <tr>\n",
       "      <th>14</th>\n",
       "      <td>1993</td>\n",
       "      <td>[Germany]</td>\n",
       "      <td>2485.0</td>\n",
       "    </tr>\n",
       "    <tr>\n",
       "      <th>15</th>\n",
       "      <td>1994</td>\n",
       "      <td>[Germany]</td>\n",
       "      <td>2527.0</td>\n",
       "    </tr>\n",
       "    <tr>\n",
       "      <th>16</th>\n",
       "      <td>1995</td>\n",
       "      <td>[United States of America]</td>\n",
       "      <td>2580.0</td>\n",
       "    </tr>\n",
       "    <tr>\n",
       "      <th>17</th>\n",
       "      <td>1996</td>\n",
       "      <td>[United States of America]</td>\n",
       "      <td>2594.0</td>\n",
       "    </tr>\n",
       "    <tr>\n",
       "      <th>18</th>\n",
       "      <td>1997</td>\n",
       "      <td>[Japan]</td>\n",
       "      <td>2570.0</td>\n",
       "    </tr>\n",
       "    <tr>\n",
       "      <th>19</th>\n",
       "      <td>1998</td>\n",
       "      <td>[Germany]</td>\n",
       "      <td>2542.0</td>\n",
       "    </tr>\n",
       "    <tr>\n",
       "      <th>20</th>\n",
       "      <td>1999</td>\n",
       "      <td>[Japan]</td>\n",
       "      <td>2595.0</td>\n",
       "    </tr>\n",
       "    <tr>\n",
       "      <th>21</th>\n",
       "      <td>2000</td>\n",
       "      <td>[United States of America]</td>\n",
       "      <td>2589.0</td>\n",
       "    </tr>\n",
       "    <tr>\n",
       "      <th>22</th>\n",
       "      <td>2001</td>\n",
       "      <td>[United States of America]</td>\n",
       "      <td>2549.0</td>\n",
       "    </tr>\n",
       "    <tr>\n",
       "      <th>23</th>\n",
       "      <td>2002</td>\n",
       "      <td>[Russian Federation]</td>\n",
       "      <td>2472.0</td>\n",
       "    </tr>\n",
       "    <tr>\n",
       "      <th>24</th>\n",
       "      <td>2003</td>\n",
       "      <td>[United States of America]</td>\n",
       "      <td>2499.0</td>\n",
       "    </tr>\n",
       "    <tr>\n",
       "      <th>25</th>\n",
       "      <td>2004</td>\n",
       "      <td>[Republic of Korea]</td>\n",
       "      <td>2574.0</td>\n",
       "    </tr>\n",
       "    <tr>\n",
       "      <th>26</th>\n",
       "      <td>2005</td>\n",
       "      <td>[Brazil]</td>\n",
       "      <td>2490.0</td>\n",
       "    </tr>\n",
       "    <tr>\n",
       "      <th>27</th>\n",
       "      <td>2006</td>\n",
       "      <td>[Brazil]</td>\n",
       "      <td>2536.0</td>\n",
       "    </tr>\n",
       "    <tr>\n",
       "      <th>28</th>\n",
       "      <td>2007</td>\n",
       "      <td>[United States of America]</td>\n",
       "      <td>2566.0</td>\n",
       "    </tr>\n",
       "    <tr>\n",
       "      <th>29</th>\n",
       "      <td>2008</td>\n",
       "      <td>[United States of America]</td>\n",
       "      <td>2531.0</td>\n",
       "    </tr>\n",
       "    <tr>\n",
       "      <th>30</th>\n",
       "      <td>2009</td>\n",
       "      <td>[United States of America]</td>\n",
       "      <td>2552.0</td>\n",
       "    </tr>\n",
       "    <tr>\n",
       "      <th>31</th>\n",
       "      <td>2010</td>\n",
       "      <td>[Brazil]</td>\n",
       "      <td>2586.0</td>\n",
       "    </tr>\n",
       "    <tr>\n",
       "      <th>32</th>\n",
       "      <td>2011</td>\n",
       "      <td>[Germany]</td>\n",
       "      <td>2582.0</td>\n",
       "    </tr>\n",
       "    <tr>\n",
       "      <th>33</th>\n",
       "      <td>2012</td>\n",
       "      <td>[Germany]</td>\n",
       "      <td>2408.0</td>\n",
       "    </tr>\n",
       "    <tr>\n",
       "      <th>34</th>\n",
       "      <td>2013</td>\n",
       "      <td>[United States of America]</td>\n",
       "      <td>2484.0</td>\n",
       "    </tr>\n",
       "    <tr>\n",
       "      <th>35</th>\n",
       "      <td>2014</td>\n",
       "      <td>[France]</td>\n",
       "      <td>2536.0</td>\n",
       "    </tr>\n",
       "    <tr>\n",
       "      <th>36</th>\n",
       "      <td>2015</td>\n",
       "      <td>[Germany]</td>\n",
       "      <td>2304.0</td>\n",
       "    </tr>\n",
       "    <tr>\n",
       "      <th>37</th>\n",
       "      <td>2016</td>\n",
       "      <td>[Thailand]</td>\n",
       "      <td>1421.0</td>\n",
       "    </tr>\n",
       "  </tbody>\n",
       "</table>\n",
       "</div>"
      ],
      "text/plain": [
       "    Year                     Country  Suicides\n",
       "0   1979                     [Japan]    2564.0\n",
       "1   1980                     [Japan]    2489.0\n",
       "2   1981  [United States of America]    2374.0\n",
       "3   1982                    [France]    2536.0\n",
       "4   1983                     [Japan]    2511.0\n",
       "5   1984                     [Japan]    2556.0\n",
       "6   1985                     [Japan]    2582.0\n",
       "7   1986        [Russian Federation]    2524.0\n",
       "8   1987  [United States of America]    2532.0\n",
       "9   1988  [United States of America]    2548.0\n",
       "10  1989        [Russian Federation]    2581.0\n",
       "11  1990        [Russian Federation]    2467.0\n",
       "12  1991                     [Japan]    2561.0\n",
       "13  1992  [United States of America]    2573.0\n",
       "14  1993                   [Germany]    2485.0\n",
       "15  1994                   [Germany]    2527.0\n",
       "16  1995  [United States of America]    2580.0\n",
       "17  1996  [United States of America]    2594.0\n",
       "18  1997                     [Japan]    2570.0\n",
       "19  1998                   [Germany]    2542.0\n",
       "20  1999                     [Japan]    2595.0\n",
       "21  2000  [United States of America]    2589.0\n",
       "22  2001  [United States of America]    2549.0\n",
       "23  2002        [Russian Federation]    2472.0\n",
       "24  2003  [United States of America]    2499.0\n",
       "25  2004         [Republic of Korea]    2574.0\n",
       "26  2005                    [Brazil]    2490.0\n",
       "27  2006                    [Brazil]    2536.0\n",
       "28  2007  [United States of America]    2566.0\n",
       "29  2008  [United States of America]    2531.0\n",
       "30  2009  [United States of America]    2552.0\n",
       "31  2010                    [Brazil]    2586.0\n",
       "32  2011                   [Germany]    2582.0\n",
       "33  2012                   [Germany]    2408.0\n",
       "34  2013  [United States of America]    2484.0\n",
       "35  2014                    [France]    2536.0\n",
       "36  2015                   [Germany]    2304.0\n",
       "37  2016                  [Thailand]    1421.0"
      ]
     },
     "execution_count": 25,
     "metadata": {},
     "output_type": "execute_result"
    }
   ],
   "source": [
    "tahun = df['year'].unique()\n",
    "negara = []\n",
    "jumlah = []\n",
    "for item in list(tahun):\n",
    "    z = df[(df['year'] == item)]['suicides_no'].max()\n",
    "    negara.append(df[(df['year'] == item) & (df['suicides_no'] == z)]['country'].values)\n",
    "    jumlah.append(round(df[df['year'] == item]['suicides_no'].max()))\n",
    "data = {\n",
    "    'Year' : tahun,\n",
    "    'Country' : negara,\n",
    "    'Suicides' : jumlah\n",
    "}\n",
    "dfx = pd.DataFrame(data)\n",
    "dfx"
   ]
  },
  {
   "cell_type": "markdown",
   "metadata": {},
   "source": [
    "# 15. FILL THE NaN VALUES FOR EACH COLOUMN ( REFER TO DF.INFO( ))"
   ]
  },
  {
   "cell_type": "code",
   "execution_count": 26,
   "metadata": {},
   "outputs": [],
   "source": [
    "def suicide1(x):\n",
    "    if(x['suicides_no'] > 0):\n",
    "        return x['suicides_no']\n",
    "    elif (x['sex'] == 'male'):\n",
    "        return int(df[df['sex'] == 'male']['population'].mean())\n",
    "    else:\n",
    "        return int(df[df['sex'] == 'female']['population'].mean())"
   ]
  },
  {
   "cell_type": "code",
   "execution_count": 27,
   "metadata": {},
   "outputs": [],
   "source": [
    "def suicide2(x):\n",
    "    if(x['population'] > 0):\n",
    "        return x['population']\n",
    "    elif (x['sex'] == 'male'):\n",
    "        return int(df[df['sex'] == 'male']['population'].mean())\n",
    "    else:\n",
    "        return int(df[df['sex'] == 'female']['population'].mean())"
   ]
  },
  {
   "cell_type": "code",
   "execution_count": 28,
   "metadata": {},
   "outputs": [],
   "source": [
    "df['suicides_no'] = df[['suicides_no','sex']].apply(suicide1, axis = 1)\n",
    "df['population'] = df[['population','sex']].apply(suicide2, axis = 1)"
   ]
  },
  {
   "cell_type": "markdown",
   "metadata": {},
   "source": [
    "# 16. CHECK THE DF.INFO( ) TO ENSURE EVERY NaN IS ALREADY FILLED"
   ]
  },
  {
   "cell_type": "code",
   "execution_count": 29,
   "metadata": {},
   "outputs": [
    {
     "name": "stdout",
     "output_type": "stream",
     "text": [
      "<class 'pandas.core.frame.DataFrame'>\n",
      "Int64Index: 43776 entries, 6204 to 25858\n",
      "Data columns (total 7 columns):\n",
      "country        43776 non-null object\n",
      "year           43776 non-null int64\n",
      "sex            43776 non-null object\n",
      "age            43776 non-null object\n",
      "suicides_no    43776 non-null float64\n",
      "population     43776 non-null float64\n",
      "index          43776 non-null int64\n",
      "dtypes: float64(2), int64(2), object(3)\n",
      "memory usage: 2.7+ MB\n"
     ]
    }
   ],
   "source": [
    "df.info()"
   ]
  },
  {
   "cell_type": "markdown",
   "metadata": {},
   "source": [
    "# 17. CREATE A VISUALIZATION TO COMPARE THE PEAK SUICIDE RATE FROM SOME COUNTRY ( JAPAN AND USA  )"
   ]
  },
  {
   "cell_type": "code",
   "execution_count": 30,
   "metadata": {},
   "outputs": [
    {
     "data": {
      "text/plain": [
       "<matplotlib.legend.Legend at 0x1b5118991d0>"
      ]
     },
     "execution_count": 30,
     "metadata": {},
     "output_type": "execute_result"
    },
    {
     "data": {
      "image/png": "[encoded data removed]",
      "text/plain": [
       "<Figure size 432x288 with 2 Axes>"
      ]
     },
     "metadata": {
      "needs_background": "light"
     },
     "output_type": "display_data"
    }
   ],
   "source": [
    "# fig = plt.figure()\n",
    "# ax = fig.add_axes([0,0,1,1])\n",
    "# ax.plot(dfx[dfx['Country'] =='Japan']['Year'],dfx[dfx['Country'] == 'Japan']['Suicides'],color = 'red',label = 'Japan')\n",
    "# ax.plot(dfx[dfx['Country'] =='United States of America']['Year'],dfx[dfx['Country'] == 'United States of America']['Suicides'],color = 'blue',label = 'USA')\n",
    "# ax.set_title('Suicide Rates Comparison')\n",
    "# ax.legend()\n",
    "\n",
    "plt.subplot(1,2,1)\n",
    "plt.plot(dfx[dfx['Country'] =='Japan']['Year'],dfx[dfx['Country'] == 'Japan']['Suicides'],color = 'red',label = 'Japan')\n",
    "plt.xlabel('Year')\n",
    "plt.ylabel('Peak Suicide Rates')\n",
    "plt.tight_layout()\n",
    "plt.legend()\n",
    "\n",
    "plt.subplot(1,2,2)\n",
    "plt.plot(dfx[dfx['Country'] =='United States of America']['Year'],dfx[dfx['Country'] == 'United States of America']['Suicides'],color = 'blue',label = 'USA')\n",
    "plt.xlabel('Year')\n",
    "plt.ylabel('Peak Suicide Rates')\n",
    "plt.tight_layout()\n",
    "plt.legend()"
   ]
  },
  {
   "cell_type": "markdown",
   "metadata": {},
   "source": [
    "# 19. EXPORT THE ALREADY \"CLEAN\" DATAFRAME TO CSV"
   ]
  },
  {
   "cell_type": "code",
   "execution_count": 31,
   "metadata": {},
   "outputs": [],
   "source": [
    "df.to_csv (r'D:\\TT\\Purwadhika\\Master\\DS-slide-master\\PURWADHIKABANDUNG\\Suicide_clean.csv', index = None, header=True)"
   ]
  },
  {
   "cell_type": "markdown",
   "metadata": {},
   "source": [
    "# 20. PLEASE EXPLAIN THE VISUALIZATION  !"
   ]
  },
  {
   "cell_type": "markdown",
   "metadata": {},
   "source": [
    "1. For Japan trends, in the 1990's untill 2010, there was some economic bubble crisis where the market was collapsed, called The Lost Score or the Lost 20 Years (失われた二十年, Ushinawareta Nijūnen), turned Japan from the paragon of world economy into some \"second liner\", this situation become a catalyst for increased amount of suicide, this trend continues untill today, marking japan with the country where suicide is a part of daily life. \n",
    "\n",
    "\n",
    "2. As for USA, there are many factors that increased the amount of suicides, such as:\n",
    "\n",
    "   a. Tough economic conditions, including unemployment rate.\n",
    "   \n",
    "   b. A 2009 U.S. Army report indicates military veterans have double the   suicide rate of non-veterans, and more active-duty soldiers have died from suicide than in combat in the Iraq War (2003–2011) and War in Afghanistan (2001–present)\n",
    "   \n",
    "   c. Attempted suicide rates for lesbian, gay, bisexual, transgender and questioning (LGBTQ) \n",
    "   \n",
    "   d. Patients with chronic pain are twice as likely to attempt suicide compared with those without chronic pain.\n",
    "   \n",
    "   e. Studies have found very high rates of suicide in people with autism spectrum disorders, including high functioning autism and what was formerly known as Asperger syndrome"
   ]
  }
 ],
 "metadata": {
  "kernelspec": {
   "display_name": "Python 3",
   "language": "python",
   "name": "python3"
  },
  "language_info": {
   "codemirror_mode": {
    "name": "ipython",
    "version": 3
   },
   "file_extension": ".py",
   "mimetype": "text/x-python",
   "name": "python",
   "nbconvert_exporter": "python",
   "pygments_lexer": "ipython3",
   "version": "3.7.0"
  }
 },
 "nbformat": 4,
 "nbformat_minor": 2
}
