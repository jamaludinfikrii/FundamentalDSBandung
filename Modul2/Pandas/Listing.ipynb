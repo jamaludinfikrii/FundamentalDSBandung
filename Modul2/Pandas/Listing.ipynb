{
 "cells": [
  {
   "cell_type": "code",
   "execution_count": 1,
   "metadata": {},
   "outputs": [],
   "source": [
    "import pandas as pd"
   ]
  },
  {
   "cell_type": "code",
   "execution_count": 2,
   "metadata": {},
   "outputs": [],
   "source": [
    "df = pd.read_csv('listings.csv')"
   ]
  },
  {
   "cell_type": "code",
   "execution_count": 3,
   "metadata": {},
   "outputs": [
    {
     "name": "stdout",
     "output_type": "stream",
     "text": [
      "<class 'pandas.core.frame.DataFrame'>\n",
      "RangeIndex: 20337 entries, 0 to 20336\n",
      "Data columns (total 16 columns):\n",
      "id                                20337 non-null int64\n",
      "name                              20302 non-null object\n",
      "host_id                           20337 non-null int64\n",
      "host_name                         20313 non-null object\n",
      "neighbourhood_group               0 non-null float64\n",
      "neighbourhood                     20337 non-null object\n",
      "latitude                          20337 non-null float64\n",
      "longitude                         20337 non-null float64\n",
      "room_type                         20337 non-null object\n",
      "price                             20337 non-null int64\n",
      "minimum_nights                    20337 non-null int64\n",
      "number_of_reviews                 20337 non-null int64\n",
      "last_review                       17797 non-null object\n",
      "reviews_per_month                 17797 non-null float64\n",
      "calculated_host_listings_count    20337 non-null int64\n",
      "availability_365                  20337 non-null int64\n",
      "dtypes: float64(4), int64(7), object(5)\n",
      "memory usage: 2.5+ MB\n"
     ]
    }
   ],
   "source": [
    "df.info()"
   ]
  }
 ],
 "metadata": {
  "kernelspec": {
   "display_name": "Python 3",
   "language": "python",
   "name": "python3"
  },
  "language_info": {
   "codemirror_mode": {
    "name": "ipython",
    "version": 3
   },
   "file_extension": ".py",
   "mimetype": "text/x-python",
   "name": "python",
   "nbconvert_exporter": "python",
   "pygments_lexer": "ipython3",
   "version": "3.7.0"
  }
 },
 "nbformat": 4,
 "nbformat_minor": 2
}
