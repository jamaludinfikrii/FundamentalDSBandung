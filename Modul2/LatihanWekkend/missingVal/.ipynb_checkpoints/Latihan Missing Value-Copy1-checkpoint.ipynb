{
 "cells": [
  {
   "cell_type": "code",
   "execution_count": 1,
   "metadata": {},
   "outputs": [],
   "source": [
    "import pandas as pd"
   ]
  },
  {
   "cell_type": "code",
   "execution_count": 2,
   "metadata": {},
   "outputs": [],
   "source": [
    "df = pd.read_csv('health-facilities-gh.csv')"
   ]
  },
  {
   "cell_type": "code",
   "execution_count": 3,
   "metadata": {},
   "outputs": [
    {
     "data": {
      "text/html": [
       "<div>\n",
       "<style scoped>\n",
       "    .dataframe tbody tr th:only-of-type {\n",
       "        vertical-align: middle;\n",
       "    }\n",
       "\n",
       "    .dataframe tbody tr th {\n",
       "        vertical-align: top;\n",
       "    }\n",
       "\n",
       "    .dataframe thead th {\n",
       "        text-align: right;\n",
       "    }\n",
       "</style>\n",
       "<table border=\"1\" class=\"dataframe\">\n",
       "  <thead>\n",
       "    <tr style=\"text-align: right;\">\n",
       "      <th></th>\n",
       "      <th>Region</th>\n",
       "      <th>District</th>\n",
       "      <th>FacilityName</th>\n",
       "      <th>Type</th>\n",
       "      <th>Town</th>\n",
       "      <th>Ownership</th>\n",
       "      <th>Latitude</th>\n",
       "      <th>Longitude</th>\n",
       "    </tr>\n",
       "  </thead>\n",
       "  <tbody>\n",
       "    <tr>\n",
       "      <th>0</th>\n",
       "      <td>Ashanti</td>\n",
       "      <td>Offinso North</td>\n",
       "      <td>A.M.E Zion Clinic</td>\n",
       "      <td>Clinic</td>\n",
       "      <td>Afrancho</td>\n",
       "      <td>CHAG</td>\n",
       "      <td>7.40801</td>\n",
       "      <td>-1.96317</td>\n",
       "    </tr>\n",
       "    <tr>\n",
       "      <th>1</th>\n",
       "      <td>Ashanti</td>\n",
       "      <td>Bekwai Municipal</td>\n",
       "      <td>Abenkyiman Clinic</td>\n",
       "      <td>Clinic</td>\n",
       "      <td>Anwiankwanta</td>\n",
       "      <td>Private</td>\n",
       "      <td>6.46312</td>\n",
       "      <td>-1.58592</td>\n",
       "    </tr>\n",
       "    <tr>\n",
       "      <th>2</th>\n",
       "      <td>Ashanti</td>\n",
       "      <td>Adansi North</td>\n",
       "      <td>Aboabo Health Centre</td>\n",
       "      <td>Health Centre</td>\n",
       "      <td>Aboabo No 2</td>\n",
       "      <td>Government</td>\n",
       "      <td>6.22393</td>\n",
       "      <td>-1.34982</td>\n",
       "    </tr>\n",
       "    <tr>\n",
       "      <th>3</th>\n",
       "      <td>Ashanti</td>\n",
       "      <td>Afigya-Kwabre</td>\n",
       "      <td>Aboabogya Health Centre</td>\n",
       "      <td>Health Centre</td>\n",
       "      <td>Aboabogya</td>\n",
       "      <td>Government</td>\n",
       "      <td>6.84177</td>\n",
       "      <td>-1.61098</td>\n",
       "    </tr>\n",
       "    <tr>\n",
       "      <th>4</th>\n",
       "      <td>Ashanti</td>\n",
       "      <td>Kwabre</td>\n",
       "      <td>Aboaso Health Centre</td>\n",
       "      <td>Health Centre</td>\n",
       "      <td>Aboaso</td>\n",
       "      <td>Government</td>\n",
       "      <td>6.84177</td>\n",
       "      <td>-1.61098</td>\n",
       "    </tr>\n",
       "  </tbody>\n",
       "</table>\n",
       "</div>"
      ],
      "text/plain": [
       "    Region          District             FacilityName           Type  \\\n",
       "0  Ashanti     Offinso North        A.M.E Zion Clinic         Clinic   \n",
       "1  Ashanti  Bekwai Municipal        Abenkyiman Clinic         Clinic   \n",
       "2  Ashanti      Adansi North     Aboabo Health Centre  Health Centre   \n",
       "3  Ashanti     Afigya-Kwabre  Aboabogya Health Centre  Health Centre   \n",
       "4  Ashanti            Kwabre     Aboaso Health Centre  Health Centre   \n",
       "\n",
       "           Town   Ownership  Latitude  Longitude  \n",
       "0      Afrancho        CHAG   7.40801   -1.96317  \n",
       "1  Anwiankwanta     Private   6.46312   -1.58592  \n",
       "2   Aboabo No 2  Government   6.22393   -1.34982  \n",
       "3     Aboabogya  Government   6.84177   -1.61098  \n",
       "4        Aboaso  Government   6.84177   -1.61098  "
      ]
     },
     "execution_count": 3,
     "metadata": {},
     "output_type": "execute_result"
    }
   ],
   "source": [
    "df.head()"
   ]
  },
  {
   "cell_type": "code",
   "execution_count": 4,
   "metadata": {},
   "outputs": [
    {
     "name": "stdout",
     "output_type": "stream",
     "text": [
      "<class 'pandas.core.frame.DataFrame'>\n",
      "RangeIndex: 3756 entries, 0 to 3755\n",
      "Data columns (total 8 columns):\n",
      "Region          3756 non-null object\n",
      "District        3756 non-null object\n",
      "FacilityName    3756 non-null object\n",
      "Type            3756 non-null object\n",
      "Town            3603 non-null object\n",
      "Ownership       3756 non-null object\n",
      "Latitude        3732 non-null float64\n",
      "Longitude       3732 non-null float64\n",
      "dtypes: float64(2), object(6)\n",
      "memory usage: 234.8+ KB\n"
     ]
    }
   ],
   "source": [
    "df.info()"
   ]
  },
  {
   "cell_type": "markdown",
   "metadata": {},
   "source": [
    "## Buat DataFrame Yang Menampilkan Jumlah unik value tiap tiap kolom"
   ]
  },
  {
   "cell_type": "code",
   "execution_count": 5,
   "metadata": {},
   "outputs": [],
   "source": [
    "# kolom = df.columns"
   ]
  },
  {
   "cell_type": "code",
   "execution_count": 6,
   "metadata": {},
   "outputs": [],
   "source": [
    "# uniq = df.nunique().values"
   ]
  },
  {
   "cell_type": "code",
   "execution_count": 7,
   "metadata": {},
   "outputs": [],
   "source": [
    "data = {\n",
    "    'kolom' : df.columns,\n",
    "    'jumlah_unik_value' : df.nunique().values\n",
    "}"
   ]
  },
  {
   "cell_type": "code",
   "execution_count": 8,
   "metadata": {},
   "outputs": [
    {
     "data": {
      "text/html": [
       "<div>\n",
       "<style scoped>\n",
       "    .dataframe tbody tr th:only-of-type {\n",
       "        vertical-align: middle;\n",
       "    }\n",
       "\n",
       "    .dataframe tbody tr th {\n",
       "        vertical-align: top;\n",
       "    }\n",
       "\n",
       "    .dataframe thead th {\n",
       "        text-align: right;\n",
       "    }\n",
       "</style>\n",
       "<table border=\"1\" class=\"dataframe\">\n",
       "  <thead>\n",
       "    <tr style=\"text-align: right;\">\n",
       "      <th></th>\n",
       "      <th>kolom</th>\n",
       "      <th>jumlah_unik_value</th>\n",
       "    </tr>\n",
       "  </thead>\n",
       "  <tbody>\n",
       "    <tr>\n",
       "      <th>0</th>\n",
       "      <td>Region</td>\n",
       "      <td>10</td>\n",
       "    </tr>\n",
       "    <tr>\n",
       "      <th>1</th>\n",
       "      <td>District</td>\n",
       "      <td>171</td>\n",
       "    </tr>\n",
       "    <tr>\n",
       "      <th>2</th>\n",
       "      <td>FacilityName</td>\n",
       "      <td>3544</td>\n",
       "    </tr>\n",
       "    <tr>\n",
       "      <th>3</th>\n",
       "      <td>Type</td>\n",
       "      <td>25</td>\n",
       "    </tr>\n",
       "    <tr>\n",
       "      <th>4</th>\n",
       "      <td>Town</td>\n",
       "      <td>2446</td>\n",
       "    </tr>\n",
       "    <tr>\n",
       "      <th>5</th>\n",
       "      <td>Ownership</td>\n",
       "      <td>12</td>\n",
       "    </tr>\n",
       "    <tr>\n",
       "      <th>6</th>\n",
       "      <td>Latitude</td>\n",
       "      <td>2845</td>\n",
       "    </tr>\n",
       "    <tr>\n",
       "      <th>7</th>\n",
       "      <td>Longitude</td>\n",
       "      <td>2835</td>\n",
       "    </tr>\n",
       "  </tbody>\n",
       "</table>\n",
       "</div>"
      ],
      "text/plain": [
       "          kolom  jumlah_unik_value\n",
       "0        Region                 10\n",
       "1      District                171\n",
       "2  FacilityName               3544\n",
       "3          Type                 25\n",
       "4          Town               2446\n",
       "5     Ownership                 12\n",
       "6      Latitude               2845\n",
       "7     Longitude               2835"
      ]
     },
     "execution_count": 8,
     "metadata": {},
     "output_type": "execute_result"
    }
   ],
   "source": [
    "pd.DataFrame(data)"
   ]
  },
  {
   "cell_type": "code",
   "execution_count": null,
   "metadata": {},
   "outputs": [],
   "source": []
  },
  {
   "cell_type": "markdown",
   "metadata": {},
   "source": [
    "### Tampilkan Lima data region,district,type,town dan ownership terbanyak"
   ]
  },
  {
   "cell_type": "code",
   "execution_count": 9,
   "metadata": {},
   "outputs": [
    {
     "name": "stdout",
     "output_type": "stream",
     "text": [
      "5 Data Region Terbanyak\n",
      "Ashanti          658\n",
      "Greater Accra    504\n",
      "Western          496\n",
      "Volta            398\n",
      "Eastern          393\n",
      "Name: Region, dtype: int64\n"
     ]
    }
   ],
   "source": [
    "print('5 Data Region Terbanyak')\n",
    "print(df.Region.value_counts().head())"
   ]
  },
  {
   "cell_type": "code",
   "execution_count": 10,
   "metadata": {},
   "outputs": [
    {
     "name": "stdout",
     "output_type": "stream",
     "text": [
      "5 Data Region Terbanyak\n",
      "Ashanti          658\n",
      "Greater Accra    504\n",
      "Western          496\n",
      "Volta            398\n",
      "Eastern          393\n",
      "Name: Region, dtype: int64\n",
      "\n",
      "5 Data District Terbanyak\n",
      "Accra Metropolitan     277\n",
      "Kumasi Metropolitan    263\n",
      "Tema Metropolitan      118\n",
      "Shama Ahanta East       71\n",
      "Ho Municipal            51\n",
      "Name: District, dtype: int64\n",
      "\n",
      "5 Data Type Terbanyak\n",
      "Clinic            1171\n",
      "Health Centre      786\n",
      "CHPS               652\n",
      "Maternity Home     369\n",
      "Hospital           277\n",
      "Name: Type, dtype: int64\n",
      "\n",
      "5 Data Town Terbanyak\n",
      "Sunyani      29\n",
      "Koforidua    17\n",
      "Berekum      16\n",
      "Osu          15\n",
      "Ho           15\n",
      "Name: Town, dtype: int64\n",
      "\n",
      "5 Data Ownership Terbanyak\n",
      "Government          2210\n",
      "Private             1179\n",
      "CHAG                 257\n",
      "Quasi-Government      91\n",
      "government             6\n",
      "Name: Ownership, dtype: int64\n",
      "\n"
     ]
    }
   ],
   "source": [
    "kolom = 'Region District Type Town Ownership'.split(' ')\n",
    "for item in kolom:\n",
    "    print('5 Data {} Terbanyak'.format(item))\n",
    "    print(df[item].value_counts().head())\n",
    "    print()"
   ]
  },
  {
   "cell_type": "code",
   "execution_count": null,
   "metadata": {},
   "outputs": [],
   "source": []
  },
  {
   "cell_type": "markdown",
   "metadata": {},
   "source": [
    "### Buat DataFrame Seperti Dibawah"
   ]
  },
  {
   "cell_type": "code",
   "execution_count": 11,
   "metadata": {},
   "outputs": [],
   "source": [
    "Town = df.Town.unique()\n",
    "MeanLat = []\n",
    "MeanLong = []\n",
    "for item in Town:\n",
    "    MeanLat.append(df[df['Town'] == item]['Latitude'].mean())\n",
    "    MeanLong.append(df[df['Town'] == item]['Longitude'].mean())\n"
   ]
  },
  {
   "cell_type": "code",
   "execution_count": 12,
   "metadata": {},
   "outputs": [],
   "source": [
    "data = {\n",
    "    'Town' : Town,\n",
    "    'MeanLat' : MeanLat,\n",
    "    'MeanLong' : MeanLong\n",
    "}\n",
    "df_mean_lat_long = pd.DataFrame(data)"
   ]
  },
  {
   "cell_type": "code",
   "execution_count": 13,
   "metadata": {},
   "outputs": [
    {
     "data": {
      "text/html": [
       "<div>\n",
       "<style scoped>\n",
       "    .dataframe tbody tr th:only-of-type {\n",
       "        vertical-align: middle;\n",
       "    }\n",
       "\n",
       "    .dataframe tbody tr th {\n",
       "        vertical-align: top;\n",
       "    }\n",
       "\n",
       "    .dataframe thead th {\n",
       "        text-align: right;\n",
       "    }\n",
       "</style>\n",
       "<table border=\"1\" class=\"dataframe\">\n",
       "  <thead>\n",
       "    <tr style=\"text-align: right;\">\n",
       "      <th></th>\n",
       "      <th>Town</th>\n",
       "      <th>MeanLat</th>\n",
       "      <th>MeanLong</th>\n",
       "    </tr>\n",
       "  </thead>\n",
       "  <tbody>\n",
       "    <tr>\n",
       "      <th>285</th>\n",
       "      <td>Dunkura</td>\n",
       "      <td>NaN</td>\n",
       "      <td>NaN</td>\n",
       "    </tr>\n",
       "  </tbody>\n",
       "</table>\n",
       "</div>"
      ],
      "text/plain": [
       "        Town  MeanLat  MeanLong\n",
       "285  Dunkura      NaN       NaN"
      ]
     },
     "execution_count": 13,
     "metadata": {},
     "output_type": "execute_result"
    }
   ],
   "source": [
    "df_mean_lat_long[df_mean_lat_long['Town'] == 'Dunkura']"
   ]
  },
  {
   "cell_type": "markdown",
   "metadata": {},
   "source": [
    "### Isi Kolom Town Yang Nan dengan latitude terdekat dengan latitude kota di dataFrame diatas"
   ]
  },
  {
   "cell_type": "code",
   "execution_count": 14,
   "metadata": {},
   "outputs": [],
   "source": [
    "index_to_delete= df[df['Latitude'].isnull()].index"
   ]
  },
  {
   "cell_type": "code",
   "execution_count": 15,
   "metadata": {},
   "outputs": [],
   "source": [
    "df = df.drop(index_to_delete , axis=0)"
   ]
  },
  {
   "cell_type": "code",
   "execution_count": 16,
   "metadata": {},
   "outputs": [
    {
     "data": {
      "text/html": [
       "<div>\n",
       "<style scoped>\n",
       "    .dataframe tbody tr th:only-of-type {\n",
       "        vertical-align: middle;\n",
       "    }\n",
       "\n",
       "    .dataframe tbody tr th {\n",
       "        vertical-align: top;\n",
       "    }\n",
       "\n",
       "    .dataframe thead th {\n",
       "        text-align: right;\n",
       "    }\n",
       "</style>\n",
       "<table border=\"1\" class=\"dataframe\">\n",
       "  <thead>\n",
       "    <tr style=\"text-align: right;\">\n",
       "      <th></th>\n",
       "      <th>Latitude</th>\n",
       "      <th>Longitude</th>\n",
       "    </tr>\n",
       "  </thead>\n",
       "  <tbody>\n",
       "    <tr>\n",
       "      <th>576</th>\n",
       "      <td>6.4148</td>\n",
       "      <td>-1.37507</td>\n",
       "    </tr>\n",
       "    <tr>\n",
       "      <th>578</th>\n",
       "      <td>6.4148</td>\n",
       "      <td>-1.37507</td>\n",
       "    </tr>\n",
       "    <tr>\n",
       "      <th>579</th>\n",
       "      <td>6.4150</td>\n",
       "      <td>-1.37548</td>\n",
       "    </tr>\n",
       "    <tr>\n",
       "      <th>580</th>\n",
       "      <td>6.4150</td>\n",
       "      <td>-1.37548</td>\n",
       "    </tr>\n",
       "  </tbody>\n",
       "</table>\n",
       "</div>"
      ],
      "text/plain": [
       "     Latitude  Longitude\n",
       "576    6.4148   -1.37507\n",
       "578    6.4148   -1.37507\n",
       "579    6.4150   -1.37548\n",
       "580    6.4150   -1.37548"
      ]
     },
     "execution_count": 16,
     "metadata": {},
     "output_type": "execute_result"
    }
   ],
   "source": [
    "df[df['Town'] == 'Kumasi'][['Latitude' , 'Longitude']]"
   ]
  },
  {
   "cell_type": "code",
   "execution_count": 17,
   "metadata": {},
   "outputs": [
    {
     "data": {
      "text/plain": [
       "6"
      ]
     },
     "execution_count": 17,
     "metadata": {},
     "output_type": "execute_result"
    }
   ],
   "source": [
    "list_A = [4,5,3,2,3,6,5,4]\n",
    "min(list_A, key=lambda x:abs(x-10))"
   ]
  },
  {
   "cell_type": "code",
   "execution_count": 27,
   "metadata": {},
   "outputs": [],
   "source": [
    "lat = list(df[df.Town.isna() == False]['Latitude'])\n",
    "\n",
    "# min(lat, key=lambda x:abs(x-1))"
   ]
  },
  {
   "cell_type": "code",
   "execution_count": 19,
   "metadata": {},
   "outputs": [
    {
     "data": {
      "text/plain": [
       "645      NaN\n",
       "646    Yonso\n",
       "Name: Town, dtype: object"
      ]
     },
     "execution_count": 19,
     "metadata": {},
     "output_type": "execute_result"
    }
   ],
   "source": [
    "df[df['Latitude'] == 7.03397]['Town']"
   ]
  },
  {
   "cell_type": "code",
   "execution_count": 32,
   "metadata": {},
   "outputs": [],
   "source": [
    "def applyTown(x):\n",
    "    if pd.isna(x['Town']):\n",
    "        terdekat = min(lat, key=lambda a:abs(a-x['Latitude']))\n",
    "        terdekat\n",
    "        return df[(df['Latitude'] == terdekat) & (df.Town.isnull() == False) ]['Town'].values[0]\n",
    "    else : \n",
    "        return x['Town']\n",
    "        \n",
    "        \n",
    "       "
   ]
  },
  {
   "cell_type": "code",
   "execution_count": 34,
   "metadata": {},
   "outputs": [],
   "source": [
    "df['Town'] = df[['Latitude' , 'Longitude', 'Town']].apply(applyTown , axis=1)\n"
   ]
  },
  {
   "cell_type": "code",
   "execution_count": 35,
   "metadata": {},
   "outputs": [
    {
     "data": {
      "text/plain": [
       "0"
      ]
     },
     "execution_count": 35,
     "metadata": {},
     "output_type": "execute_result"
    }
   ],
   "source": [
    "df.Town.isnull().sum()"
   ]
  },
  {
   "cell_type": "code",
   "execution_count": null,
   "metadata": {},
   "outputs": [],
   "source": []
  },
  {
   "cell_type": "code",
   "execution_count": 36,
   "metadata": {},
   "outputs": [
    {
     "name": "stdout",
     "output_type": "stream",
     "text": [
      "<class 'pandas.core.frame.DataFrame'>\n",
      "Int64Index: 3732 entries, 0 to 3755\n",
      "Data columns (total 8 columns):\n",
      "Region          3732 non-null object\n",
      "District        3732 non-null object\n",
      "FacilityName    3732 non-null object\n",
      "Type            3732 non-null object\n",
      "Town            3732 non-null object\n",
      "Ownership       3732 non-null object\n",
      "Latitude        3732 non-null float64\n",
      "Longitude       3732 non-null float64\n",
      "dtypes: float64(2), object(6)\n",
      "memory usage: 262.4+ KB\n"
     ]
    }
   ],
   "source": [
    "df.info()"
   ]
  },
  {
   "cell_type": "code",
   "execution_count": null,
   "metadata": {},
   "outputs": [],
   "source": []
  },
  {
   "cell_type": "markdown",
   "metadata": {},
   "source": [
    "### Hapus data dengan latitude Nan"
   ]
  },
  {
   "cell_type": "code",
   "execution_count": null,
   "metadata": {},
   "outputs": [],
   "source": []
  }
 ],
 "metadata": {
  "kernelspec": {
   "display_name": "Python 3",
   "language": "python",
   "name": "python3"
  },
  "language_info": {
   "codemirror_mode": {
    "name": "ipython",
    "version": 3
   },
   "file_extension": ".py",
   "mimetype": "text/x-python",
   "name": "python",
   "nbconvert_exporter": "python",
   "pygments_lexer": "ipython3",
   "version": "3.7.0"
  }
 },
 "nbformat": 4,
 "nbformat_minor": 2
}
