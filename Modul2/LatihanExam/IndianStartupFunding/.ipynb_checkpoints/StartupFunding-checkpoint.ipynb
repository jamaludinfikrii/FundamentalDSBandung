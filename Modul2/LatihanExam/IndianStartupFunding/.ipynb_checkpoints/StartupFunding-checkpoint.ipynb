{
 "cells": [
  {
   "cell_type": "code",
   "execution_count": 1,
   "metadata": {},
   "outputs": [],
   "source": [
    "import pandas as pd\n",
    "df = pd.read_csv('startup_funding.csv')"
   ]
  },
  {
   "cell_type": "code",
   "execution_count": 3,
   "metadata": {},
   "outputs": [
    {
     "name": "stdout",
     "output_type": "stream",
     "text": [
      "<class 'pandas.core.frame.DataFrame'>\n",
      "RangeIndex: 3009 entries, 0 to 3008\n",
      "Data columns (total 10 columns):\n",
      "Sr No                      3009 non-null int64\n",
      "Date ddmmyyyy              3009 non-null object\n",
      "Startup Name               3009 non-null object\n",
      "Industry Vertical          2838 non-null object\n",
      "SubVertical                2073 non-null object\n",
      "City  Location             2829 non-null object\n",
      "Investorsxe2x80x99 Name    2986 non-null object\n",
      "InvestmentnType            3006 non-null object\n",
      "Amount in USD              2049 non-null object\n",
      "Remarks                    419 non-null object\n",
      "dtypes: int64(1), object(9)\n",
      "memory usage: 235.2+ KB\n"
     ]
    }
   ],
   "source": [
    "df.info()"
   ]
  },
  {
   "cell_type": "markdown",
   "metadata": {},
   "source": [
    "### Buat DataFrame yang mendeskripsikan Tiap Tiap kolom dari data Startup Funding"
   ]
  },
  {
   "cell_type": "code",
   "execution_count": 4,
   "metadata": {},
   "outputs": [
    {
     "data": {
      "text/html": [
       "<div>\n",
       "<style scoped>\n",
       "    .dataframe tbody tr th:only-of-type {\n",
       "        vertical-align: middle;\n",
       "    }\n",
       "\n",
       "    .dataframe tbody tr th {\n",
       "        vertical-align: top;\n",
       "    }\n",
       "\n",
       "    .dataframe thead th {\n",
       "        text-align: right;\n",
       "    }\n",
       "</style>\n",
       "<table border=\"1\" class=\"dataframe\">\n",
       "  <thead>\n",
       "    <tr style=\"text-align: right;\">\n",
       "      <th></th>\n",
       "      <th>dataFeatures</th>\n",
       "      <th>dataType</th>\n",
       "      <th>null</th>\n",
       "      <th>nullPct</th>\n",
       "      <th>unique</th>\n",
       "      <th>uniqueSample</th>\n",
       "    </tr>\n",
       "  </thead>\n",
       "  <tbody>\n",
       "    <tr>\n",
       "      <th>0</th>\n",
       "      <td>Sr No</td>\n",
       "      <td>int64</td>\n",
       "      <td>0</td>\n",
       "      <td>0.00</td>\n",
       "      <td>3009</td>\n",
       "      <td>[190, 1163]</td>\n",
       "    </tr>\n",
       "    <tr>\n",
       "      <th>1</th>\n",
       "      <td>Date ddmmyyyy</td>\n",
       "      <td>object</td>\n",
       "      <td>0</td>\n",
       "      <td>0.00</td>\n",
       "      <td>1013</td>\n",
       "      <td>[01/9/2016, 02/02/2015]</td>\n",
       "    </tr>\n",
       "    <tr>\n",
       "      <th>2</th>\n",
       "      <td>Startup Name</td>\n",
       "      <td>object</td>\n",
       "      <td>0</td>\n",
       "      <td>0.00</td>\n",
       "      <td>2439</td>\n",
       "      <td>[Chai Point, Policy Bazaar]</td>\n",
       "    </tr>\n",
       "    <tr>\n",
       "      <th>3</th>\n",
       "      <td>Industry Vertical</td>\n",
       "      <td>object</td>\n",
       "      <td>171</td>\n",
       "      <td>5.68</td>\n",
       "      <td>811</td>\n",
       "      <td>[Entertainment, Online Student &amp; Campus Social...</td>\n",
       "    </tr>\n",
       "    <tr>\n",
       "      <th>4</th>\n",
       "      <td>SubVertical</td>\n",
       "      <td>object</td>\n",
       "      <td>936</td>\n",
       "      <td>31.11</td>\n",
       "      <td>1912</td>\n",
       "      <td>[Door Step Delivery platform, Online Pet Care ...</td>\n",
       "    </tr>\n",
       "    <tr>\n",
       "      <th>5</th>\n",
       "      <td>City  Location</td>\n",
       "      <td>object</td>\n",
       "      <td>180</td>\n",
       "      <td>5.98</td>\n",
       "      <td>109</td>\n",
       "      <td>[New York/ India, Palo Alto]</td>\n",
       "    </tr>\n",
       "    <tr>\n",
       "      <th>6</th>\n",
       "      <td>Investorsxe2x80x99 Name</td>\n",
       "      <td>object</td>\n",
       "      <td>23</td>\n",
       "      <td>0.76</td>\n",
       "      <td>2385</td>\n",
       "      <td>[Vy Capital, SAIF Partners, Accel Partner, Bes...</td>\n",
       "    </tr>\n",
       "    <tr>\n",
       "      <th>7</th>\n",
       "      <td>InvestmentnType</td>\n",
       "      <td>object</td>\n",
       "      <td>3</td>\n",
       "      <td>0.10</td>\n",
       "      <td>50</td>\n",
       "      <td>[Series E, Bridge Round]</td>\n",
       "    </tr>\n",
       "    <tr>\n",
       "      <th>8</th>\n",
       "      <td>Amount in USD</td>\n",
       "      <td>object</td>\n",
       "      <td>960</td>\n",
       "      <td>31.90</td>\n",
       "      <td>500</td>\n",
       "      <td>[25,000,0000, 260,000,000]</td>\n",
       "    </tr>\n",
       "    <tr>\n",
       "      <th>9</th>\n",
       "      <td>Remarks</td>\n",
       "      <td>object</td>\n",
       "      <td>2590</td>\n",
       "      <td>86.08</td>\n",
       "      <td>72</td>\n",
       "      <td>[Series D, Series C]</td>\n",
       "    </tr>\n",
       "  </tbody>\n",
       "</table>\n",
       "</div>"
      ],
      "text/plain": [
       "              dataFeatures dataType  null  nullPct  unique  \\\n",
       "0                    Sr No    int64     0     0.00    3009   \n",
       "1            Date ddmmyyyy   object     0     0.00    1013   \n",
       "2             Startup Name   object     0     0.00    2439   \n",
       "3        Industry Vertical   object   171     5.68     811   \n",
       "4              SubVertical   object   936    31.11    1912   \n",
       "5           City  Location   object   180     5.98     109   \n",
       "6  Investorsxe2x80x99 Name   object    23     0.76    2385   \n",
       "7          InvestmentnType   object     3     0.10      50   \n",
       "8            Amount in USD   object   960    31.90     500   \n",
       "9                  Remarks   object  2590    86.08      72   \n",
       "\n",
       "                                        uniqueSample  \n",
       "0                                        [190, 1163]  \n",
       "1                            [01/9/2016, 02/02/2015]  \n",
       "2                        [Chai Point, Policy Bazaar]  \n",
       "3  [Entertainment, Online Student & Campus Social...  \n",
       "4  [Door Step Delivery platform, Online Pet Care ...  \n",
       "5                       [New York/ India, Palo Alto]  \n",
       "6  [Vy Capital, SAIF Partners, Accel Partner, Bes...  \n",
       "7                           [Series E, Bridge Round]  \n",
       "8                         [25,000,0000, 260,000,000]  \n",
       "9                               [Series D, Series C]  "
      ]
     },
     "execution_count": 4,
     "metadata": {},
     "output_type": "execute_result"
    }
   ],
   "source": []
  },
  {
   "cell_type": "markdown",
   "metadata": {},
   "source": [
    "### Hapus Kolom Remarks"
   ]
  },
  {
   "cell_type": "code",
   "execution_count": 5,
   "metadata": {},
   "outputs": [],
   "source": []
  },
  {
   "cell_type": "markdown",
   "metadata": {},
   "source": [
    "### Hapus data yang kolom Industry Vertical dan Subverticalnya Kosong"
   ]
  },
  {
   "cell_type": "code",
   "execution_count": 6,
   "metadata": {},
   "outputs": [],
   "source": []
  },
  {
   "cell_type": "code",
   "execution_count": 7,
   "metadata": {},
   "outputs": [],
   "source": []
  },
  {
   "cell_type": "markdown",
   "metadata": {},
   "source": [
    "### Hapus data yang Investorsxe2x80x99 Name atau InvestmentnType kosong atau City Location nya Kosong atau amount in usd nya kosong"
   ]
  },
  {
   "cell_type": "code",
   "execution_count": 8,
   "metadata": {},
   "outputs": [],
   "source": []
  },
  {
   "cell_type": "code",
   "execution_count": null,
   "metadata": {},
   "outputs": [],
   "source": []
  },
  {
   "cell_type": "markdown",
   "metadata": {},
   "source": [
    "### Ubah Nama Kolom Investorsxe2x80x99 Name menjadi Investor"
   ]
  },
  {
   "cell_type": "code",
   "execution_count": 9,
   "metadata": {},
   "outputs": [],
   "source": []
  },
  {
   "cell_type": "code",
   "execution_count": null,
   "metadata": {},
   "outputs": [],
   "source": []
  },
  {
   "cell_type": "markdown",
   "metadata": {},
   "source": [
    "### Isi Kolom Subvertical yang kosong dengan kolom Industry Verticalnya"
   ]
  },
  {
   "cell_type": "code",
   "execution_count": 10,
   "metadata": {},
   "outputs": [],
   "source": []
  },
  {
   "cell_type": "code",
   "execution_count": 11,
   "metadata": {},
   "outputs": [
    {
     "name": "stdout",
     "output_type": "stream",
     "text": [
      "<class 'pandas.core.frame.DataFrame'>\n",
      "Int64Index: 1893 entries, 0 to 2837\n",
      "Data columns (total 9 columns):\n",
      "Sr No                1893 non-null int64\n",
      "Date ddmmyyyy        1893 non-null object\n",
      "Startup Name         1893 non-null object\n",
      "Industry Vertical    1893 non-null object\n",
      "SubVertical          1893 non-null object\n",
      "City  Location       1893 non-null object\n",
      "Investor             1893 non-null object\n",
      "InvestmentnType      1893 non-null object\n",
      "Amount in USD        1893 non-null object\n",
      "dtypes: int64(1), object(8)\n",
      "memory usage: 147.9+ KB\n"
     ]
    }
   ],
   "source": []
  },
  {
   "cell_type": "markdown",
   "metadata": {},
   "source": [
    "### Hapus data dengan kolom Amount in USD Mengandung Alphabet"
   ]
  },
  {
   "cell_type": "code",
   "execution_count": 12,
   "metadata": {},
   "outputs": [],
   "source": []
  },
  {
   "cell_type": "code",
   "execution_count": 13,
   "metadata": {},
   "outputs": [],
   "source": []
  },
  {
   "cell_type": "code",
   "execution_count": 14,
   "metadata": {},
   "outputs": [
    {
     "name": "stdout",
     "output_type": "stream",
     "text": [
      "<class 'pandas.core.frame.DataFrame'>\n",
      "Int64Index: 1877 entries, 0 to 2837\n",
      "Data columns (total 9 columns):\n",
      "Sr No                1877 non-null int64\n",
      "Date ddmmyyyy        1877 non-null object\n",
      "Startup Name         1877 non-null object\n",
      "Industry Vertical    1877 non-null object\n",
      "SubVertical          1877 non-null object\n",
      "City  Location       1877 non-null object\n",
      "Investor             1877 non-null object\n",
      "InvestmentnType      1877 non-null object\n",
      "Amount in USD        1877 non-null object\n",
      "dtypes: int64(1), object(8)\n",
      "memory usage: 146.6+ KB\n"
     ]
    }
   ],
   "source": []
  },
  {
   "cell_type": "markdown",
   "metadata": {},
   "source": [
    "### Ubah type data kolom Amount in USD Menjadi int64 , ubah dulu semua koma di data menjadi string kosong dan ubah juga selain angka menjadi string kosong"
   ]
  },
  {
   "cell_type": "code",
   "execution_count": 15,
   "metadata": {},
   "outputs": [],
   "source": []
  },
  {
   "cell_type": "code",
   "execution_count": 16,
   "metadata": {},
   "outputs": [],
   "source": []
  },
  {
   "cell_type": "code",
   "execution_count": 17,
   "metadata": {},
   "outputs": [],
   "source": []
  },
  {
   "cell_type": "code",
   "execution_count": 18,
   "metadata": {},
   "outputs": [
    {
     "name": "stdout",
     "output_type": "stream",
     "text": [
      "<class 'pandas.core.frame.DataFrame'>\n",
      "Int64Index: 1877 entries, 0 to 2837\n",
      "Data columns (total 9 columns):\n",
      "Sr No                1877 non-null int64\n",
      "Date ddmmyyyy        1877 non-null object\n",
      "Startup Name         1877 non-null object\n",
      "Industry Vertical    1877 non-null object\n",
      "SubVertical          1877 non-null object\n",
      "City  Location       1877 non-null object\n",
      "Investor             1877 non-null object\n",
      "InvestmentnType      1877 non-null object\n",
      "Amount in USD        1877 non-null float64\n",
      "dtypes: float64(1), int64(1), object(7)\n",
      "memory usage: 146.6+ KB\n"
     ]
    }
   ],
   "source": []
  },
  {
   "cell_type": "markdown",
   "metadata": {},
   "source": [
    "### Cari Lima Startup Yang Mendapat Pendanaan Paling Banyak"
   ]
  },
  {
   "cell_type": "code",
   "execution_count": 19,
   "metadata": {},
   "outputs": [
    {
     "name": "stdout",
     "output_type": "stream",
     "text": [
      "Lima Startup dengan Pendanaan Paling Banyak \n",
      "\n",
      "Rapido Bike Taxi\n",
      "Flipkart\n",
      "Paytm\n",
      "Flipkart\n",
      "Flipkart.com\n"
     ]
    }
   ],
   "source": []
  },
  {
   "cell_type": "markdown",
   "metadata": {},
   "source": [
    "### Cari Lima Investor Yang mengeluarkan uang paling banyak"
   ]
  },
  {
   "cell_type": "code",
   "execution_count": 20,
   "metadata": {},
   "outputs": [
    {
     "name": "stdout",
     "output_type": "stream",
     "text": [
      "Lima Investor dengan Pengeluaran Paling Banyak \n",
      "\n",
      "Westbridge Capital\n",
      "Softbank\n",
      "SoftBank Group\n",
      "Microsoft, eBay, Tencent Holdings\n",
      "Steadview Capital and existing investors\n"
     ]
    }
   ],
   "source": []
  },
  {
   "cell_type": "markdown",
   "metadata": {},
   "source": [
    "### Cari lima industri Vertical dengan Pendanaan Paling Banyak"
   ]
  },
  {
   "cell_type": "code",
   "execution_count": 21,
   "metadata": {},
   "outputs": [
    {
     "name": "stdout",
     "output_type": "stream",
     "text": [
      "Lima Industri Vertical dengan Pendanaan Paling Banyak \n",
      "\n",
      "Consumer Internet\n",
      "eCommerce\n",
      "Transportation\n",
      "Technology\n",
      "ECommerce\n"
     ]
    }
   ],
   "source": []
  }
 ],
 "metadata": {
  "kernelspec": {
   "display_name": "Python 3",
   "language": "python",
   "name": "python3"
  },
  "language_info": {
   "codemirror_mode": {
    "name": "ipython",
    "version": 3
   },
   "file_extension": ".py",
   "mimetype": "text/x-python",
   "name": "python",
   "nbconvert_exporter": "python",
   "pygments_lexer": "ipython3",
   "version": "3.7.0"
  }
 },
 "nbformat": 4,
 "nbformat_minor": 2
}
