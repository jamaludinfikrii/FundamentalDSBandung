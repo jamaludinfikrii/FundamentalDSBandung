{
 "cells": [
  {
   "cell_type": "markdown",
   "metadata": {},
   "source": [
    "# Loan Data Model Predictor"
   ]
  },
  {
   "cell_type": "code",
   "execution_count": 1,
   "metadata": {},
   "outputs": [],
   "source": [
    "import pandas as pd\n",
    "import numpy as np\n",
    "import matplotlib.pyplot as plt\n",
    "import seaborn as sns"
   ]
  },
  {
   "cell_type": "code",
   "execution_count": 2,
   "metadata": {},
   "outputs": [],
   "source": [
    "df = pd.read_csv('loan_data.csv')"
   ]
  },
  {
   "cell_type": "code",
   "execution_count": 3,
   "metadata": {},
   "outputs": [
    {
     "data": {
      "text/html": [
       "<div>\n",
       "<style scoped>\n",
       "    .dataframe tbody tr th:only-of-type {\n",
       "        vertical-align: middle;\n",
       "    }\n",
       "\n",
       "    .dataframe tbody tr th {\n",
       "        vertical-align: top;\n",
       "    }\n",
       "\n",
       "    .dataframe thead th {\n",
       "        text-align: right;\n",
       "    }\n",
       "</style>\n",
       "<table border=\"1\" class=\"dataframe\">\n",
       "  <thead>\n",
       "    <tr style=\"text-align: right;\">\n",
       "      <th></th>\n",
       "      <th>credit.policy</th>\n",
       "      <th>purpose</th>\n",
       "      <th>int.rate</th>\n",
       "      <th>installment</th>\n",
       "      <th>log.annual.inc</th>\n",
       "      <th>dti</th>\n",
       "      <th>fico</th>\n",
       "      <th>days.with.cr.line</th>\n",
       "      <th>revol.bal</th>\n",
       "      <th>revol.util</th>\n",
       "      <th>inq.last.6mths</th>\n",
       "      <th>delinq.2yrs</th>\n",
       "      <th>pub.rec</th>\n",
       "      <th>not.fully.paid</th>\n",
       "    </tr>\n",
       "  </thead>\n",
       "  <tbody>\n",
       "    <tr>\n",
       "      <th>0</th>\n",
       "      <td>1</td>\n",
       "      <td>debt_consolidation</td>\n",
       "      <td>0.1189</td>\n",
       "      <td>829.10</td>\n",
       "      <td>11.350407</td>\n",
       "      <td>19.48</td>\n",
       "      <td>737</td>\n",
       "      <td>5639.958333</td>\n",
       "      <td>28854</td>\n",
       "      <td>52.1</td>\n",
       "      <td>0</td>\n",
       "      <td>0</td>\n",
       "      <td>0</td>\n",
       "      <td>0</td>\n",
       "    </tr>\n",
       "    <tr>\n",
       "      <th>1</th>\n",
       "      <td>1</td>\n",
       "      <td>credit_card</td>\n",
       "      <td>0.1071</td>\n",
       "      <td>228.22</td>\n",
       "      <td>11.082143</td>\n",
       "      <td>14.29</td>\n",
       "      <td>707</td>\n",
       "      <td>2760.000000</td>\n",
       "      <td>33623</td>\n",
       "      <td>76.7</td>\n",
       "      <td>0</td>\n",
       "      <td>0</td>\n",
       "      <td>0</td>\n",
       "      <td>0</td>\n",
       "    </tr>\n",
       "    <tr>\n",
       "      <th>2</th>\n",
       "      <td>1</td>\n",
       "      <td>debt_consolidation</td>\n",
       "      <td>0.1357</td>\n",
       "      <td>366.86</td>\n",
       "      <td>10.373491</td>\n",
       "      <td>11.63</td>\n",
       "      <td>682</td>\n",
       "      <td>4710.000000</td>\n",
       "      <td>3511</td>\n",
       "      <td>25.6</td>\n",
       "      <td>1</td>\n",
       "      <td>0</td>\n",
       "      <td>0</td>\n",
       "      <td>0</td>\n",
       "    </tr>\n",
       "    <tr>\n",
       "      <th>3</th>\n",
       "      <td>1</td>\n",
       "      <td>debt_consolidation</td>\n",
       "      <td>0.1008</td>\n",
       "      <td>162.34</td>\n",
       "      <td>11.350407</td>\n",
       "      <td>8.10</td>\n",
       "      <td>712</td>\n",
       "      <td>2699.958333</td>\n",
       "      <td>33667</td>\n",
       "      <td>73.2</td>\n",
       "      <td>1</td>\n",
       "      <td>0</td>\n",
       "      <td>0</td>\n",
       "      <td>0</td>\n",
       "    </tr>\n",
       "    <tr>\n",
       "      <th>4</th>\n",
       "      <td>1</td>\n",
       "      <td>credit_card</td>\n",
       "      <td>0.1426</td>\n",
       "      <td>102.92</td>\n",
       "      <td>11.299732</td>\n",
       "      <td>14.97</td>\n",
       "      <td>667</td>\n",
       "      <td>4066.000000</td>\n",
       "      <td>4740</td>\n",
       "      <td>39.5</td>\n",
       "      <td>0</td>\n",
       "      <td>1</td>\n",
       "      <td>0</td>\n",
       "      <td>0</td>\n",
       "    </tr>\n",
       "  </tbody>\n",
       "</table>\n",
       "</div>"
      ],
      "text/plain": [
       "   credit.policy             purpose  int.rate  installment  log.annual.inc  \\\n",
       "0              1  debt_consolidation    0.1189       829.10       11.350407   \n",
       "1              1         credit_card    0.1071       228.22       11.082143   \n",
       "2              1  debt_consolidation    0.1357       366.86       10.373491   \n",
       "3              1  debt_consolidation    0.1008       162.34       11.350407   \n",
       "4              1         credit_card    0.1426       102.92       11.299732   \n",
       "\n",
       "     dti  fico  days.with.cr.line  revol.bal  revol.util  inq.last.6mths  \\\n",
       "0  19.48   737        5639.958333      28854        52.1               0   \n",
       "1  14.29   707        2760.000000      33623        76.7               0   \n",
       "2  11.63   682        4710.000000       3511        25.6               1   \n",
       "3   8.10   712        2699.958333      33667        73.2               1   \n",
       "4  14.97   667        4066.000000       4740        39.5               0   \n",
       "\n",
       "   delinq.2yrs  pub.rec  not.fully.paid  \n",
       "0            0        0               0  \n",
       "1            0        0               0  \n",
       "2            0        0               0  \n",
       "3            0        0               0  \n",
       "4            1        0               0  "
      ]
     },
     "execution_count": 3,
     "metadata": {},
     "output_type": "execute_result"
    }
   ],
   "source": [
    "df.head()"
   ]
  },
  {
   "cell_type": "code",
   "execution_count": 4,
   "metadata": {},
   "outputs": [
    {
     "data": {
      "text/plain": [
       "0    0.839946\n",
       "1    0.160054\n",
       "Name: not.fully.paid, dtype: float64"
      ]
     },
     "execution_count": 4,
     "metadata": {},
     "output_type": "execute_result"
    }
   ],
   "source": [
    "df['not.fully.paid'].value_counts(normalize=True)"
   ]
  },
  {
   "cell_type": "markdown",
   "metadata": {},
   "source": [
    "## Modelling With Imbalance target class"
   ]
  },
  {
   "cell_type": "markdown",
   "metadata": {},
   "source": [
    "#### Feature Engineering Non Numeric Features"
   ]
  },
  {
   "cell_type": "code",
   "execution_count": 5,
   "metadata": {},
   "outputs": [],
   "source": [
    "target = df['not.fully.paid']\n",
    "features = df.drop('not.fully.paid',axis=1)"
   ]
  },
  {
   "cell_type": "code",
   "execution_count": 12,
   "metadata": {},
   "outputs": [],
   "source": [
    "features['purpose'] = features['purpose'].astype('category')"
   ]
  },
  {
   "cell_type": "code",
   "execution_count": 15,
   "metadata": {},
   "outputs": [],
   "source": [
    "features['purpose'].cat.categories = list(range(0,7))"
   ]
  },
  {
   "cell_type": "code",
   "execution_count": 19,
   "metadata": {},
   "outputs": [],
   "source": [
    "from sklearn.model_selection import train_test_split\n",
    "from sklearn.linear_model import LogisticRegression\n",
    "from sklearn.tree import DecisionTreeClassifier\n",
    "from sklearn.ensemble import RandomForestClassifier,GradientBoostingClassifier\n",
    "from sklearn.metrics import classification_report"
   ]
  },
  {
   "cell_type": "code",
   "execution_count": 22,
   "metadata": {},
   "outputs": [],
   "source": [
    "def class_report_by_algo(x,y,model):\n",
    "    X_train,X_test,y_train,y_test = train_test_split(x,y)\n",
    "    clf = model()\n",
    "    clf.fit(X_train,y_train)\n",
    "    \n",
    "    prediction_test = clf.predict(X_test)\n",
    "    prediction_train = clf.predict(X_train)\n",
    "    print('Class Report Data Test')\n",
    "    print(classification_report(y_test,prediction_test))\n",
    "    print('====================')\n",
    "    print('Class Report Data Train')\n",
    "    print(classification_report(y_train,prediction_train))"
   ]
  },
  {
   "cell_type": "code",
   "execution_count": 23,
   "metadata": {},
   "outputs": [
    {
     "name": "stdout",
     "output_type": "stream",
     "text": [
      "Class Report Data Test\n",
      "              precision    recall  f1-score   support\n",
      "\n",
      "           0       0.85      1.00      0.92      2036\n",
      "           1       0.62      0.02      0.04       359\n",
      "\n",
      "   micro avg       0.85      0.85      0.85      2395\n",
      "   macro avg       0.73      0.51      0.48      2395\n",
      "weighted avg       0.82      0.85      0.79      2395\n",
      "\n",
      "====================\n",
      "Class Report Data Train\n",
      "              precision    recall  f1-score   support\n",
      "\n",
      "           0       0.84      1.00      0.91      6009\n",
      "           1       0.39      0.01      0.03      1174\n",
      "\n",
      "   micro avg       0.84      0.84      0.84      7183\n",
      "   macro avg       0.61      0.50      0.47      7183\n",
      "weighted avg       0.76      0.84      0.77      7183\n",
      "\n"
     ]
    },
    {
     "name": "stderr",
     "output_type": "stream",
     "text": [
      "C:\\ProgramData\\Anaconda3\\lib\\site-packages\\sklearn\\linear_model\\logistic.py:433: FutureWarning: Default solver will be changed to 'lbfgs' in 0.22. Specify a solver to silence this warning.\n",
      "  FutureWarning)\n"
     ]
    }
   ],
   "source": [
    "class_report_by_algo(features,target,LogisticRegression)"
   ]
  },
  {
   "cell_type": "code",
   "execution_count": 24,
   "metadata": {},
   "outputs": [
    {
     "name": "stdout",
     "output_type": "stream",
     "text": [
      "Class Report Data Test\n",
      "              precision    recall  f1-score   support\n",
      "\n",
      "           0       0.87      0.80      0.83      2043\n",
      "           1       0.19      0.27      0.23       352\n",
      "\n",
      "   micro avg       0.73      0.73      0.73      2395\n",
      "   macro avg       0.53      0.54      0.53      2395\n",
      "weighted avg       0.77      0.73      0.74      2395\n",
      "\n",
      "====================\n",
      "Class Report Data Train\n",
      "              precision    recall  f1-score   support\n",
      "\n",
      "           0       1.00      1.00      1.00      6002\n",
      "           1       1.00      1.00      1.00      1181\n",
      "\n",
      "   micro avg       1.00      1.00      1.00      7183\n",
      "   macro avg       1.00      1.00      1.00      7183\n",
      "weighted avg       1.00      1.00      1.00      7183\n",
      "\n"
     ]
    }
   ],
   "source": [
    "class_report_by_algo(features,target,DecisionTreeClassifier)"
   ]
  },
  {
   "cell_type": "code",
   "execution_count": 25,
   "metadata": {},
   "outputs": [
    {
     "name": "stderr",
     "output_type": "stream",
     "text": [
      "C:\\ProgramData\\Anaconda3\\lib\\site-packages\\sklearn\\ensemble\\forest.py:246: FutureWarning: The default value of n_estimators will change from 10 in version 0.20 to 100 in 0.22.\n",
      "  \"10 in version 0.20 to 100 in 0.22.\", FutureWarning)\n"
     ]
    },
    {
     "name": "stdout",
     "output_type": "stream",
     "text": [
      "Class Report Data Test\n",
      "              precision    recall  f1-score   support\n",
      "\n",
      "           0       0.85      0.98      0.91      2023\n",
      "           1       0.32      0.06      0.11       372\n",
      "\n",
      "   micro avg       0.83      0.83      0.83      2395\n",
      "   macro avg       0.59      0.52      0.51      2395\n",
      "weighted avg       0.77      0.83      0.78      2395\n",
      "\n",
      "====================\n",
      "Class Report Data Train\n",
      "              precision    recall  f1-score   support\n",
      "\n",
      "           0       0.97      1.00      0.99      6022\n",
      "           1       1.00      0.86      0.92      1161\n",
      "\n",
      "   micro avg       0.98      0.98      0.98      7183\n",
      "   macro avg       0.99      0.93      0.96      7183\n",
      "weighted avg       0.98      0.98      0.98      7183\n",
      "\n"
     ]
    }
   ],
   "source": [
    "class_report_by_algo(features,target,RandomForestClassifier)"
   ]
  },
  {
   "cell_type": "code",
   "execution_count": 26,
   "metadata": {},
   "outputs": [
    {
     "name": "stdout",
     "output_type": "stream",
     "text": [
      "Class Report Data Test\n",
      "              precision    recall  f1-score   support\n",
      "\n",
      "           0       0.84      0.99      0.91      2003\n",
      "           1       0.42      0.03      0.05       392\n",
      "\n",
      "   micro avg       0.83      0.83      0.83      2395\n",
      "   macro avg       0.63      0.51      0.48      2395\n",
      "weighted avg       0.77      0.83      0.77      2395\n",
      "\n",
      "====================\n",
      "Class Report Data Train\n",
      "              precision    recall  f1-score   support\n",
      "\n",
      "           0       0.85      1.00      0.92      6042\n",
      "           1       0.95      0.08      0.15      1141\n",
      "\n",
      "   micro avg       0.85      0.85      0.85      7183\n",
      "   macro avg       0.90      0.54      0.53      7183\n",
      "weighted avg       0.87      0.85      0.80      7183\n",
      "\n"
     ]
    }
   ],
   "source": [
    "class_report_by_algo(features,target,GradientBoostingClassifier)"
   ]
  },
  {
   "cell_type": "markdown",
   "metadata": {},
   "source": [
    "## Handling Imbalance Data"
   ]
  },
  {
   "cell_type": "markdown",
   "metadata": {},
   "source": [
    "### Undersampling"
   ]
  },
  {
   "cell_type": "code",
   "execution_count": 27,
   "metadata": {},
   "outputs": [],
   "source": [
    "a = list(range(1,100))"
   ]
  },
  {
   "cell_type": "code",
   "execution_count": 31,
   "metadata": {},
   "outputs": [],
   "source": [
    "minority_data = df[df['not.fully.paid'] == 1]\n",
    "mayority_data = df[df['not.fully.paid'] == 0]"
   ]
  },
  {
   "cell_type": "code",
   "execution_count": 33,
   "metadata": {},
   "outputs": [
    {
     "data": {
      "text/plain": [
       "1533"
      ]
     },
     "execution_count": 33,
     "metadata": {},
     "output_type": "execute_result"
    }
   ],
   "source": [
    "len(minority_data)"
   ]
  },
  {
   "cell_type": "code",
   "execution_count": 35,
   "metadata": {},
   "outputs": [],
   "source": [
    "index_for_mayority = np.random.choice(mayority_data.index, len(minority_data))"
   ]
  },
  {
   "cell_type": "code",
   "execution_count": 45,
   "metadata": {},
   "outputs": [],
   "source": [
    "df_class_0 = df.loc[index_for_mayority]"
   ]
  },
  {
   "cell_type": "code",
   "execution_count": 47,
   "metadata": {},
   "outputs": [],
   "source": [
    "undersampling_df = pd.concat([df_class_0,minority_data])"
   ]
  },
  {
   "cell_type": "code",
   "execution_count": 49,
   "metadata": {},
   "outputs": [
    {
     "data": {
      "text/plain": [
       "1    0.5\n",
       "0    0.5\n",
       "Name: not.fully.paid, dtype: float64"
      ]
     },
     "execution_count": 49,
     "metadata": {},
     "output_type": "execute_result"
    }
   ],
   "source": [
    "undersampling_df['not.fully.paid'].value_counts(normalize=True)"
   ]
  },
  {
   "cell_type": "markdown",
   "metadata": {},
   "source": [
    "### Modelling With Undersampling Data"
   ]
  },
  {
   "cell_type": "markdown",
   "metadata": {},
   "source": [
    "#### Feature Engineering "
   ]
  },
  {
   "cell_type": "code",
   "execution_count": 51,
   "metadata": {},
   "outputs": [],
   "source": [
    "undersampling_df = pd.get_dummies(undersampling_df,columns=['purpose'],drop_first=True)"
   ]
  },
  {
   "cell_type": "code",
   "execution_count": 52,
   "metadata": {},
   "outputs": [],
   "source": [
    "x_under, y_under = undersampling_df.drop('not.fully.paid',axis=1) , undersampling_df['not.fully.paid']"
   ]
  },
  {
   "cell_type": "code",
   "execution_count": 53,
   "metadata": {},
   "outputs": [
    {
     "name": "stdout",
     "output_type": "stream",
     "text": [
      "Class Report Data Test\n",
      "              precision    recall  f1-score   support\n",
      "\n",
      "           0       0.58      0.61      0.60       387\n",
      "           1       0.58      0.54      0.56       380\n",
      "\n",
      "   micro avg       0.58      0.58      0.58       767\n",
      "   macro avg       0.58      0.58      0.58       767\n",
      "weighted avg       0.58      0.58      0.58       767\n",
      "\n",
      "====================\n",
      "Class Report Data Train\n",
      "              precision    recall  f1-score   support\n",
      "\n",
      "           0       0.61      0.65      0.63      1146\n",
      "           1       0.62      0.58      0.60      1153\n",
      "\n",
      "   micro avg       0.61      0.61      0.61      2299\n",
      "   macro avg       0.61      0.61      0.61      2299\n",
      "weighted avg       0.61      0.61      0.61      2299\n",
      "\n"
     ]
    },
    {
     "name": "stderr",
     "output_type": "stream",
     "text": [
      "C:\\ProgramData\\Anaconda3\\lib\\site-packages\\sklearn\\linear_model\\logistic.py:433: FutureWarning: Default solver will be changed to 'lbfgs' in 0.22. Specify a solver to silence this warning.\n",
      "  FutureWarning)\n"
     ]
    }
   ],
   "source": [
    "class_report_by_algo(x_under,y_under,LogisticRegression)"
   ]
  },
  {
   "cell_type": "code",
   "execution_count": 54,
   "metadata": {},
   "outputs": [
    {
     "name": "stdout",
     "output_type": "stream",
     "text": [
      "Class Report Data Test\n",
      "              precision    recall  f1-score   support\n",
      "\n",
      "           0       0.53      0.56      0.55       373\n",
      "           1       0.56      0.53      0.55       394\n",
      "\n",
      "   micro avg       0.55      0.55      0.55       767\n",
      "   macro avg       0.55      0.55      0.55       767\n",
      "weighted avg       0.55      0.55      0.55       767\n",
      "\n",
      "====================\n",
      "Class Report Data Train\n",
      "              precision    recall  f1-score   support\n",
      "\n",
      "           0       1.00      1.00      1.00      1160\n",
      "           1       1.00      1.00      1.00      1139\n",
      "\n",
      "   micro avg       1.00      1.00      1.00      2299\n",
      "   macro avg       1.00      1.00      1.00      2299\n",
      "weighted avg       1.00      1.00      1.00      2299\n",
      "\n"
     ]
    }
   ],
   "source": [
    "class_report_by_algo(x_under,y_under,DecisionTreeClassifier)"
   ]
  },
  {
   "cell_type": "code",
   "execution_count": 55,
   "metadata": {},
   "outputs": [
    {
     "name": "stdout",
     "output_type": "stream",
     "text": [
      "Class Report Data Test\n",
      "              precision    recall  f1-score   support\n",
      "\n",
      "           0       0.60      0.64      0.62       402\n",
      "           1       0.57      0.53      0.55       365\n",
      "\n",
      "   micro avg       0.59      0.59      0.59       767\n",
      "   macro avg       0.59      0.58      0.58       767\n",
      "weighted avg       0.59      0.59      0.59       767\n",
      "\n",
      "====================\n",
      "Class Report Data Train\n",
      "              precision    recall  f1-score   support\n",
      "\n",
      "           0       0.98      0.99      0.99      1131\n",
      "           1       0.99      0.98      0.99      1168\n",
      "\n",
      "   micro avg       0.99      0.99      0.99      2299\n",
      "   macro avg       0.99      0.99      0.99      2299\n",
      "weighted avg       0.99      0.99      0.99      2299\n",
      "\n"
     ]
    },
    {
     "name": "stderr",
     "output_type": "stream",
     "text": [
      "C:\\ProgramData\\Anaconda3\\lib\\site-packages\\sklearn\\ensemble\\forest.py:246: FutureWarning: The default value of n_estimators will change from 10 in version 0.20 to 100 in 0.22.\n",
      "  \"10 in version 0.20 to 100 in 0.22.\", FutureWarning)\n"
     ]
    }
   ],
   "source": [
    "class_report_by_algo(x_under,y_under,RandomForestClassifier)"
   ]
  },
  {
   "cell_type": "code",
   "execution_count": 56,
   "metadata": {},
   "outputs": [
    {
     "name": "stdout",
     "output_type": "stream",
     "text": [
      "Class Report Data Test\n",
      "              precision    recall  f1-score   support\n",
      "\n",
      "           0       0.61      0.64      0.62       370\n",
      "           1       0.65      0.62      0.63       397\n",
      "\n",
      "   micro avg       0.63      0.63      0.63       767\n",
      "   macro avg       0.63      0.63      0.63       767\n",
      "weighted avg       0.63      0.63      0.63       767\n",
      "\n",
      "====================\n",
      "Class Report Data Train\n",
      "              precision    recall  f1-score   support\n",
      "\n",
      "           0       0.74      0.79      0.76      1163\n",
      "           1       0.77      0.72      0.74      1136\n",
      "\n",
      "   micro avg       0.75      0.75      0.75      2299\n",
      "   macro avg       0.75      0.75      0.75      2299\n",
      "weighted avg       0.75      0.75      0.75      2299\n",
      "\n"
     ]
    }
   ],
   "source": [
    "class_report_by_algo(x_under,y_under,GradientBoostingClassifier)"
   ]
  },
  {
   "cell_type": "markdown",
   "metadata": {},
   "source": [
    "### Oversampling"
   ]
  },
  {
   "cell_type": "markdown",
   "metadata": {},
   "source": [
    "#### Random Oversampling"
   ]
  },
  {
   "cell_type": "code",
   "execution_count": 57,
   "metadata": {},
   "outputs": [],
   "source": [
    "from imblearn.over_sampling import RandomOverSampler, SMOTE"
   ]
  },
  {
   "cell_type": "code",
   "execution_count": 58,
   "metadata": {},
   "outputs": [],
   "source": [
    "ros = RandomOverSampler()"
   ]
  },
  {
   "cell_type": "code",
   "execution_count": 61,
   "metadata": {},
   "outputs": [],
   "source": [
    "X_ros , y_ros = ros.fit_sample(features,target)"
   ]
  },
  {
   "cell_type": "code",
   "execution_count": 66,
   "metadata": {},
   "outputs": [],
   "source": [
    "df_over_all = pd.DataFrame(X_ros,columns=features.columns)\n",
    "df_over_all['not.fully.paid'] = y_ros"
   ]
  },
  {
   "cell_type": "code",
   "execution_count": 68,
   "metadata": {},
   "outputs": [
    {
     "data": {
      "text/plain": [
       "1    8045\n",
       "0    8045\n",
       "Name: not.fully.paid, dtype: int64"
      ]
     },
     "execution_count": 68,
     "metadata": {},
     "output_type": "execute_result"
    }
   ],
   "source": [
    "df_over_all['not.fully.paid'].value_counts()"
   ]
  },
  {
   "cell_type": "code",
   "execution_count": 77,
   "metadata": {},
   "outputs": [
    {
     "data": {
      "text/plain": [
       "<matplotlib.collections.PathCollection at 0x223de4bdf28>"
      ]
     },
     "execution_count": 77,
     "metadata": {},
     "output_type": "execute_result"
    },
    {
     "data": {
      "image/png": "[encoded data removed]",
      "text/plain": [
       "<Figure size 1080x360 with 2 Axes>"
      ]
     },
     "metadata": {
      "needs_background": "light"
     },
     "output_type": "display_data"
    }
   ],
   "source": [
    "fig, ax = plt.subplots(nrows=1,ncols=2,figsize=(15,5))\n",
    "ax[0].scatter(df[df['not.fully.paid'] == 1]['fico'] ,\n",
    "              df[df['not.fully.paid'] == 1]['installment'] ,s=10 , alpha=0.2)\n",
    "ax[1].scatter(df_over_all[df_over_all['not.fully.paid'] == 1]['fico'] ,\n",
    "              df_over_all[df_over_all['not.fully.paid'] == 1]['installment'] ,s=10 , alpha=0.2)"
   ]
  },
  {
   "cell_type": "code",
   "execution_count": 78,
   "metadata": {},
   "outputs": [
    {
     "name": "stderr",
     "output_type": "stream",
     "text": [
      "C:\\ProgramData\\Anaconda3\\lib\\site-packages\\sklearn\\linear_model\\logistic.py:433: FutureWarning: Default solver will be changed to 'lbfgs' in 0.22. Specify a solver to silence this warning.\n",
      "  FutureWarning)\n"
     ]
    },
    {
     "name": "stdout",
     "output_type": "stream",
     "text": [
      "Class Report Data Test\n",
      "              precision    recall  f1-score   support\n",
      "\n",
      "           0       0.61      0.64      0.63      2053\n",
      "           1       0.61      0.57      0.59      1970\n",
      "\n",
      "   micro avg       0.61      0.61      0.61      4023\n",
      "   macro avg       0.61      0.61      0.61      4023\n",
      "weighted avg       0.61      0.61      0.61      4023\n",
      "\n",
      "====================\n",
      "Class Report Data Train\n",
      "              precision    recall  f1-score   support\n",
      "\n",
      "           0       0.59      0.63      0.61      5992\n",
      "           1       0.61      0.56      0.58      6075\n",
      "\n",
      "   micro avg       0.60      0.60      0.60     12067\n",
      "   macro avg       0.60      0.60      0.60     12067\n",
      "weighted avg       0.60      0.60      0.60     12067\n",
      "\n"
     ]
    }
   ],
   "source": [
    "class_report_by_algo(df_over_all.drop('not.fully.paid',axis=1) , df_over_all['not.fully.paid'] , LogisticRegression)"
   ]
  },
  {
   "cell_type": "code",
   "execution_count": 79,
   "metadata": {},
   "outputs": [
    {
     "name": "stdout",
     "output_type": "stream",
     "text": [
      "Class Report Data Test\n",
      "              precision    recall  f1-score   support\n",
      "\n",
      "           0       0.99      0.80      0.89      2025\n",
      "           1       0.83      0.99      0.91      1998\n",
      "\n",
      "   micro avg       0.90      0.90      0.90      4023\n",
      "   macro avg       0.91      0.90      0.90      4023\n",
      "weighted avg       0.91      0.90      0.90      4023\n",
      "\n",
      "====================\n",
      "Class Report Data Train\n",
      "              precision    recall  f1-score   support\n",
      "\n",
      "           0       1.00      1.00      1.00      6020\n",
      "           1       1.00      1.00      1.00      6047\n",
      "\n",
      "   micro avg       1.00      1.00      1.00     12067\n",
      "   macro avg       1.00      1.00      1.00     12067\n",
      "weighted avg       1.00      1.00      1.00     12067\n",
      "\n"
     ]
    }
   ],
   "source": [
    "class_report_by_algo(df_over_all.drop('not.fully.paid',axis=1) , \n",
    "                     df_over_all['not.fully.paid'] , DecisionTreeClassifier)"
   ]
  },
  {
   "cell_type": "code",
   "execution_count": 80,
   "metadata": {},
   "outputs": [
    {
     "name": "stderr",
     "output_type": "stream",
     "text": [
      "C:\\ProgramData\\Anaconda3\\lib\\site-packages\\sklearn\\ensemble\\forest.py:246: FutureWarning: The default value of n_estimators will change from 10 in version 0.20 to 100 in 0.22.\n",
      "  \"10 in version 0.20 to 100 in 0.22.\", FutureWarning)\n"
     ]
    },
    {
     "name": "stdout",
     "output_type": "stream",
     "text": [
      "Class Report Data Test\n",
      "              precision    recall  f1-score   support\n",
      "\n",
      "           0       0.98      0.94      0.96      2001\n",
      "           1       0.95      0.99      0.97      2022\n",
      "\n",
      "   micro avg       0.96      0.96      0.96      4023\n",
      "   macro avg       0.97      0.96      0.96      4023\n",
      "weighted avg       0.97      0.96      0.96      4023\n",
      "\n",
      "====================\n",
      "Class Report Data Train\n",
      "              precision    recall  f1-score   support\n",
      "\n",
      "           0       1.00      1.00      1.00      6044\n",
      "           1       1.00      1.00      1.00      6023\n",
      "\n",
      "   micro avg       1.00      1.00      1.00     12067\n",
      "   macro avg       1.00      1.00      1.00     12067\n",
      "weighted avg       1.00      1.00      1.00     12067\n",
      "\n"
     ]
    }
   ],
   "source": [
    "class_report_by_algo(X_ros,y_ros,RandomForestClassifier)"
   ]
  },
  {
   "cell_type": "code",
   "execution_count": 81,
   "metadata": {},
   "outputs": [
    {
     "name": "stdout",
     "output_type": "stream",
     "text": [
      "Class Report Data Test\n",
      "              precision    recall  f1-score   support\n",
      "\n",
      "           0       0.67      0.68      0.67      1992\n",
      "           1       0.68      0.67      0.68      2031\n",
      "\n",
      "   micro avg       0.68      0.68      0.68      4023\n",
      "   macro avg       0.68      0.68      0.68      4023\n",
      "weighted avg       0.68      0.68      0.68      4023\n",
      "\n",
      "====================\n",
      "Class Report Data Train\n",
      "              precision    recall  f1-score   support\n",
      "\n",
      "           0       0.71      0.72      0.71      6053\n",
      "           1       0.71      0.70      0.71      6014\n",
      "\n",
      "   micro avg       0.71      0.71      0.71     12067\n",
      "   macro avg       0.71      0.71      0.71     12067\n",
      "weighted avg       0.71      0.71      0.71     12067\n",
      "\n"
     ]
    }
   ],
   "source": [
    "class_report_by_algo(X_ros,y_ros,GradientBoostingClassifier)"
   ]
  },
  {
   "cell_type": "code",
   "execution_count": null,
   "metadata": {},
   "outputs": [],
   "source": [
    "def class_report_by_algo_oversampling(x,y,model):\n",
    "    X_train,X_test,y_train,y_test = train_test_split(x,y)\n",
    "    clf = model()\n",
    "    clf.fit(X_train,y_train)\n",
    "    \n",
    "    prediction_test = clf.predict(X_test)\n",
    "    prediction_train = clf.predict(X_train)\n",
    "    print('Class Report Data Test')\n",
    "    print(classification_report(y_test,prediction_test))\n",
    "    print('====================')\n",
    "    print('Class Report Data Train')\n",
    "    print(classification_report(y_train,prediction_train))"
   ]
  }
 ],
 "metadata": {
  "kernelspec": {
   "display_name": "Python 3",
   "language": "python",
   "name": "python3"
  },
  "language_info": {
   "codemirror_mode": {
    "name": "ipython",
    "version": 3
   },
   "file_extension": ".py",
   "mimetype": "text/x-python",
   "name": "python",
   "nbconvert_exporter": "python",
   "pygments_lexer": "ipython3",
   "version": "3.7.0"
  }
 },
 "nbformat": 4,
 "nbformat_minor": 2
}
