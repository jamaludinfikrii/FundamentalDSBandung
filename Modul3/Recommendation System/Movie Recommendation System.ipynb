{
 "cells": [
  {
   "cell_type": "markdown",
   "metadata": {},
   "source": [
    "# Demographic Filtering"
   ]
  },
  {
   "cell_type": "code",
   "execution_count": 1,
   "metadata": {},
   "outputs": [],
   "source": [
    "import pandas as pd\n",
    "import numpy as np\n",
    "import matplotlib.pyplot as plt\n",
    "import seaborn as sns"
   ]
  },
  {
   "cell_type": "code",
   "execution_count": 2,
   "metadata": {},
   "outputs": [],
   "source": [
    "meta = pd.read_csv('movies_metadata.csv',low_memory=False)"
   ]
  },
  {
   "cell_type": "code",
   "execution_count": 3,
   "metadata": {},
   "outputs": [],
   "source": [
    "vote_data = meta[['original_title','vote_average','vote_count']]"
   ]
  },
  {
   "cell_type": "code",
   "execution_count": 4,
   "metadata": {},
   "outputs": [
    {
     "data": {
      "text/plain": [
       "5.618207215133889"
      ]
     },
     "execution_count": 4,
     "metadata": {},
     "output_type": "execute_result"
    }
   ],
   "source": [
    "vote_data['vote_average'].mean()"
   ]
  },
  {
   "cell_type": "code",
   "execution_count": null,
   "metadata": {},
   "outputs": [],
   "source": []
  },
  {
   "cell_type": "code",
   "execution_count": 5,
   "metadata": {},
   "outputs": [],
   "source": [
    "def weighted_rating(row):\n",
    "    v = row['vote_count']\n",
    "    m = 1500\n",
    "    r = row['vote_average']\n",
    "    c = 5.6\n",
    "    wr = ((v / (v+m))*r) + ((m/(v+m))*c)\n",
    "    return wr\n",
    "    "
   ]
  },
  {
   "cell_type": "code",
   "execution_count": null,
   "metadata": {},
   "outputs": [],
   "source": []
  },
  {
   "cell_type": "code",
   "execution_count": 6,
   "metadata": {},
   "outputs": [
    {
     "name": "stderr",
     "output_type": "stream",
     "text": [
      "C:\\ProgramData\\Anaconda3\\lib\\site-packages\\ipykernel_launcher.py:1: SettingWithCopyWarning: \n",
      "A value is trying to be set on a copy of a slice from a DataFrame.\n",
      "Try using .loc[row_indexer,col_indexer] = value instead\n",
      "\n",
      "See the caveats in the documentation: http://pandas.pydata.org/pandas-docs/stable/indexing.html#indexing-view-versus-copy\n",
      "  \"\"\"Entry point for launching an IPython kernel.\n"
     ]
    }
   ],
   "source": [
    "vote_data['score'] = vote_data.apply(weighted_rating,axis=1)"
   ]
  },
  {
   "cell_type": "code",
   "execution_count": 7,
   "metadata": {},
   "outputs": [
    {
     "data": {
      "text/html": [
       "<div>\n",
       "<style scoped>\n",
       "    .dataframe tbody tr th:only-of-type {\n",
       "        vertical-align: middle;\n",
       "    }\n",
       "\n",
       "    .dataframe tbody tr th {\n",
       "        vertical-align: top;\n",
       "    }\n",
       "\n",
       "    .dataframe thead th {\n",
       "        text-align: right;\n",
       "    }\n",
       "</style>\n",
       "<table border=\"1\" class=\"dataframe\">\n",
       "  <thead>\n",
       "    <tr style=\"text-align: right;\">\n",
       "      <th></th>\n",
       "      <th>original_title</th>\n",
       "      <th>vote_average</th>\n",
       "      <th>vote_count</th>\n",
       "      <th>score</th>\n",
       "    </tr>\n",
       "  </thead>\n",
       "  <tbody>\n",
       "    <tr>\n",
       "      <th>314</th>\n",
       "      <td>The Shawshank Redemption</td>\n",
       "      <td>8.5</td>\n",
       "      <td>8358.0</td>\n",
       "      <td>8.058734</td>\n",
       "    </tr>\n",
       "    <tr>\n",
       "      <th>12481</th>\n",
       "      <td>The Dark Knight</td>\n",
       "      <td>8.3</td>\n",
       "      <td>12269.0</td>\n",
       "      <td>8.005861</td>\n",
       "    </tr>\n",
       "    <tr>\n",
       "      <th>2843</th>\n",
       "      <td>Fight Club</td>\n",
       "      <td>8.3</td>\n",
       "      <td>9678.0</td>\n",
       "      <td>7.937681</td>\n",
       "    </tr>\n",
       "    <tr>\n",
       "      <th>834</th>\n",
       "      <td>The Godfather</td>\n",
       "      <td>8.5</td>\n",
       "      <td>6024.0</td>\n",
       "      <td>7.921850</td>\n",
       "    </tr>\n",
       "    <tr>\n",
       "      <th>292</th>\n",
       "      <td>Pulp Fiction</td>\n",
       "      <td>8.3</td>\n",
       "      <td>8670.0</td>\n",
       "      <td>7.901770</td>\n",
       "    </tr>\n",
       "    <tr>\n",
       "      <th>15480</th>\n",
       "      <td>Inception</td>\n",
       "      <td>8.1</td>\n",
       "      <td>14075.0</td>\n",
       "      <td>7.859230</td>\n",
       "    </tr>\n",
       "    <tr>\n",
       "      <th>22879</th>\n",
       "      <td>Interstellar</td>\n",
       "      <td>8.1</td>\n",
       "      <td>11187.0</td>\n",
       "      <td>7.804422</td>\n",
       "    </tr>\n",
       "    <tr>\n",
       "      <th>351</th>\n",
       "      <td>Forrest Gump</td>\n",
       "      <td>8.2</td>\n",
       "      <td>8147.0</td>\n",
       "      <td>7.795729</td>\n",
       "    </tr>\n",
       "    <tr>\n",
       "      <th>7000</th>\n",
       "      <td>The Lord of the Rings: The Return of the King</td>\n",
       "      <td>8.1</td>\n",
       "      <td>8226.0</td>\n",
       "      <td>7.714436</td>\n",
       "    </tr>\n",
       "    <tr>\n",
       "      <th>1154</th>\n",
       "      <td>The Empire Strikes Back</td>\n",
       "      <td>8.2</td>\n",
       "      <td>5998.0</td>\n",
       "      <td>7.679861</td>\n",
       "    </tr>\n",
       "  </tbody>\n",
       "</table>\n",
       "</div>"
      ],
      "text/plain": [
       "                                      original_title  vote_average  \\\n",
       "314                         The Shawshank Redemption           8.5   \n",
       "12481                                The Dark Knight           8.3   \n",
       "2843                                      Fight Club           8.3   \n",
       "834                                    The Godfather           8.5   \n",
       "292                                     Pulp Fiction           8.3   \n",
       "15480                                      Inception           8.1   \n",
       "22879                                   Interstellar           8.1   \n",
       "351                                     Forrest Gump           8.2   \n",
       "7000   The Lord of the Rings: The Return of the King           8.1   \n",
       "1154                         The Empire Strikes Back           8.2   \n",
       "\n",
       "       vote_count     score  \n",
       "314        8358.0  8.058734  \n",
       "12481     12269.0  8.005861  \n",
       "2843       9678.0  7.937681  \n",
       "834        6024.0  7.921850  \n",
       "292        8670.0  7.901770  \n",
       "15480     14075.0  7.859230  \n",
       "22879     11187.0  7.804422  \n",
       "351        8147.0  7.795729  \n",
       "7000       8226.0  7.714436  \n",
       "1154       5998.0  7.679861  "
      ]
     },
     "execution_count": 7,
     "metadata": {},
     "output_type": "execute_result"
    }
   ],
   "source": [
    "vote_data.sort_values(by='score',ascending=False).head(10)"
   ]
  },
  {
   "cell_type": "code",
   "execution_count": 8,
   "metadata": {},
   "outputs": [
    {
     "data": {
      "text/html": [
       "<div>\n",
       "<style scoped>\n",
       "    .dataframe tbody tr th:only-of-type {\n",
       "        vertical-align: middle;\n",
       "    }\n",
       "\n",
       "    .dataframe tbody tr th {\n",
       "        vertical-align: top;\n",
       "    }\n",
       "\n",
       "    .dataframe thead th {\n",
       "        text-align: right;\n",
       "    }\n",
       "</style>\n",
       "<table border=\"1\" class=\"dataframe\">\n",
       "  <thead>\n",
       "    <tr style=\"text-align: right;\">\n",
       "      <th></th>\n",
       "      <th>original_title</th>\n",
       "      <th>vote_average</th>\n",
       "      <th>vote_count</th>\n",
       "      <th>score</th>\n",
       "    </tr>\n",
       "  </thead>\n",
       "  <tbody>\n",
       "    <tr>\n",
       "      <th>15480</th>\n",
       "      <td>Inception</td>\n",
       "      <td>8.1</td>\n",
       "      <td>14075.0</td>\n",
       "      <td>7.859230</td>\n",
       "    </tr>\n",
       "    <tr>\n",
       "      <th>12481</th>\n",
       "      <td>The Dark Knight</td>\n",
       "      <td>8.3</td>\n",
       "      <td>12269.0</td>\n",
       "      <td>8.005861</td>\n",
       "    </tr>\n",
       "    <tr>\n",
       "      <th>14551</th>\n",
       "      <td>Avatar</td>\n",
       "      <td>7.2</td>\n",
       "      <td>12114.0</td>\n",
       "      <td>7.023711</td>\n",
       "    </tr>\n",
       "    <tr>\n",
       "      <th>17818</th>\n",
       "      <td>The Avengers</td>\n",
       "      <td>7.4</td>\n",
       "      <td>12000.0</td>\n",
       "      <td>7.200000</td>\n",
       "    </tr>\n",
       "    <tr>\n",
       "      <th>26564</th>\n",
       "      <td>Deadpool</td>\n",
       "      <td>7.4</td>\n",
       "      <td>11444.0</td>\n",
       "      <td>7.191409</td>\n",
       "    </tr>\n",
       "    <tr>\n",
       "      <th>22879</th>\n",
       "      <td>Interstellar</td>\n",
       "      <td>8.1</td>\n",
       "      <td>11187.0</td>\n",
       "      <td>7.804422</td>\n",
       "    </tr>\n",
       "    <tr>\n",
       "      <th>20051</th>\n",
       "      <td>Django Unchained</td>\n",
       "      <td>7.8</td>\n",
       "      <td>10297.0</td>\n",
       "      <td>7.520268</td>\n",
       "    </tr>\n",
       "    <tr>\n",
       "      <th>23753</th>\n",
       "      <td>Guardians of the Galaxy</td>\n",
       "      <td>7.9</td>\n",
       "      <td>10014.0</td>\n",
       "      <td>7.600365</td>\n",
       "    </tr>\n",
       "    <tr>\n",
       "      <th>2843</th>\n",
       "      <td>Fight Club</td>\n",
       "      <td>8.3</td>\n",
       "      <td>9678.0</td>\n",
       "      <td>7.937681</td>\n",
       "    </tr>\n",
       "    <tr>\n",
       "      <th>18244</th>\n",
       "      <td>The Hunger Games</td>\n",
       "      <td>6.9</td>\n",
       "      <td>9634.0</td>\n",
       "      <td>6.724861</td>\n",
       "    </tr>\n",
       "  </tbody>\n",
       "</table>\n",
       "</div>"
      ],
      "text/plain": [
       "                original_title  vote_average  vote_count     score\n",
       "15480                Inception           8.1     14075.0  7.859230\n",
       "12481          The Dark Knight           8.3     12269.0  8.005861\n",
       "14551                   Avatar           7.2     12114.0  7.023711\n",
       "17818             The Avengers           7.4     12000.0  7.200000\n",
       "26564                 Deadpool           7.4     11444.0  7.191409\n",
       "22879             Interstellar           8.1     11187.0  7.804422\n",
       "20051         Django Unchained           7.8     10297.0  7.520268\n",
       "23753  Guardians of the Galaxy           7.9     10014.0  7.600365\n",
       "2843                Fight Club           8.3      9678.0  7.937681\n",
       "18244         The Hunger Games           6.9      9634.0  6.724861"
      ]
     },
     "execution_count": 8,
     "metadata": {},
     "output_type": "execute_result"
    }
   ],
   "source": [
    "vote_data.sort_values(by='vote_count',ascending=False).head(10)"
   ]
  },
  {
   "cell_type": "markdown",
   "metadata": {},
   "source": [
    "# Content Based"
   ]
  },
  {
   "cell_type": "markdown",
   "metadata": {},
   "source": [
    "### Based on Genre"
   ]
  },
  {
   "cell_type": "code",
   "execution_count": 9,
   "metadata": {},
   "outputs": [],
   "source": [
    "from ast import literal_eval"
   ]
  },
  {
   "cell_type": "markdown",
   "metadata": {},
   "source": [
    "> Convert string to List of Object with Literal_eval"
   ]
  },
  {
   "cell_type": "code",
   "execution_count": 10,
   "metadata": {},
   "outputs": [],
   "source": [
    "cb_genres = meta[meta['vote_count'] > 300][['original_title','genres']]"
   ]
  },
  {
   "cell_type": "code",
   "execution_count": 11,
   "metadata": {},
   "outputs": [],
   "source": [
    "cb_genres.reset_index(drop=True,inplace=True)"
   ]
  },
  {
   "cell_type": "code",
   "execution_count": 12,
   "metadata": {},
   "outputs": [],
   "source": [
    "def new_genre(x):\n",
    "    genres = []\n",
    "    x = literal_eval(x)\n",
    "    for item in x:\n",
    "        genres.append(item['name'])\n",
    "    return ' '.join(genres)"
   ]
  },
  {
   "cell_type": "code",
   "execution_count": 13,
   "metadata": {},
   "outputs": [],
   "source": [
    "cb_genres['new_genre'] = cb_genres['genres'].apply(new_genre)"
   ]
  },
  {
   "cell_type": "code",
   "execution_count": 14,
   "metadata": {},
   "outputs": [
    {
     "data": {
      "text/html": [
       "<div>\n",
       "<style scoped>\n",
       "    .dataframe tbody tr th:only-of-type {\n",
       "        vertical-align: middle;\n",
       "    }\n",
       "\n",
       "    .dataframe tbody tr th {\n",
       "        vertical-align: top;\n",
       "    }\n",
       "\n",
       "    .dataframe thead th {\n",
       "        text-align: right;\n",
       "    }\n",
       "</style>\n",
       "<table border=\"1\" class=\"dataframe\">\n",
       "  <thead>\n",
       "    <tr style=\"text-align: right;\">\n",
       "      <th></th>\n",
       "      <th>original_title</th>\n",
       "      <th>genres</th>\n",
       "      <th>new_genre</th>\n",
       "    </tr>\n",
       "  </thead>\n",
       "  <tbody>\n",
       "    <tr>\n",
       "      <th>0</th>\n",
       "      <td>Toy Story</td>\n",
       "      <td>[{'id': 16, 'name': 'Animation'}, {'id': 35, '...</td>\n",
       "      <td>Animation Comedy Family</td>\n",
       "    </tr>\n",
       "    <tr>\n",
       "      <th>1</th>\n",
       "      <td>Jumanji</td>\n",
       "      <td>[{'id': 12, 'name': 'Adventure'}, {'id': 14, '...</td>\n",
       "      <td>Adventure Fantasy Family</td>\n",
       "    </tr>\n",
       "    <tr>\n",
       "      <th>2</th>\n",
       "      <td>Heat</td>\n",
       "      <td>[{'id': 28, 'name': 'Action'}, {'id': 80, 'nam...</td>\n",
       "      <td>Action Crime Drama Thriller</td>\n",
       "    </tr>\n",
       "    <tr>\n",
       "      <th>3</th>\n",
       "      <td>GoldenEye</td>\n",
       "      <td>[{'id': 12, 'name': 'Adventure'}, {'id': 28, '...</td>\n",
       "      <td>Adventure Action Thriller</td>\n",
       "    </tr>\n",
       "    <tr>\n",
       "      <th>4</th>\n",
       "      <td>Balto</td>\n",
       "      <td>[{'id': 10751, 'name': 'Family'}, {'id': 16, '...</td>\n",
       "      <td>Family Animation Adventure</td>\n",
       "    </tr>\n",
       "  </tbody>\n",
       "</table>\n",
       "</div>"
      ],
      "text/plain": [
       "  original_title                                             genres  \\\n",
       "0      Toy Story  [{'id': 16, 'name': 'Animation'}, {'id': 35, '...   \n",
       "1        Jumanji  [{'id': 12, 'name': 'Adventure'}, {'id': 14, '...   \n",
       "2           Heat  [{'id': 28, 'name': 'Action'}, {'id': 80, 'nam...   \n",
       "3      GoldenEye  [{'id': 12, 'name': 'Adventure'}, {'id': 28, '...   \n",
       "4          Balto  [{'id': 10751, 'name': 'Family'}, {'id': 16, '...   \n",
       "\n",
       "                     new_genre  \n",
       "0      Animation Comedy Family  \n",
       "1     Adventure Fantasy Family  \n",
       "2  Action Crime Drama Thriller  \n",
       "3    Adventure Action Thriller  \n",
       "4   Family Animation Adventure  "
      ]
     },
     "execution_count": 14,
     "metadata": {},
     "output_type": "execute_result"
    }
   ],
   "source": [
    "cb_genres.head()"
   ]
  },
  {
   "cell_type": "markdown",
   "metadata": {},
   "source": [
    "> Convert to Sparsematrix with countVectorizer"
   ]
  },
  {
   "cell_type": "code",
   "execution_count": 15,
   "metadata": {},
   "outputs": [],
   "source": [
    "from sklearn.feature_extraction.text import CountVectorizer"
   ]
  },
  {
   "cell_type": "code",
   "execution_count": 16,
   "metadata": {},
   "outputs": [],
   "source": [
    "cv = CountVectorizer() \n",
    "cv_genres_result = cv.fit_transform(cb_genres['new_genre'])"
   ]
  },
  {
   "cell_type": "code",
   "execution_count": 17,
   "metadata": {},
   "outputs": [],
   "source": [
    "cv_df = pd.DataFrame(cv_genres_result.todense() ,\n",
    "                     columns=cv.get_feature_names(),index=cb_genres['original_title'])"
   ]
  },
  {
   "cell_type": "code",
   "execution_count": 18,
   "metadata": {},
   "outputs": [
    {
     "data": {
      "text/html": [
       "<div>\n",
       "<style scoped>\n",
       "    .dataframe tbody tr th:only-of-type {\n",
       "        vertical-align: middle;\n",
       "    }\n",
       "\n",
       "    .dataframe tbody tr th {\n",
       "        vertical-align: top;\n",
       "    }\n",
       "\n",
       "    .dataframe thead th {\n",
       "        text-align: right;\n",
       "    }\n",
       "</style>\n",
       "<table border=\"1\" class=\"dataframe\">\n",
       "  <thead>\n",
       "    <tr style=\"text-align: right;\">\n",
       "      <th></th>\n",
       "      <th>action</th>\n",
       "      <th>adventure</th>\n",
       "      <th>animation</th>\n",
       "      <th>comedy</th>\n",
       "      <th>crime</th>\n",
       "      <th>documentary</th>\n",
       "      <th>drama</th>\n",
       "      <th>family</th>\n",
       "      <th>fantasy</th>\n",
       "      <th>fiction</th>\n",
       "      <th>...</th>\n",
       "      <th>horror</th>\n",
       "      <th>movie</th>\n",
       "      <th>music</th>\n",
       "      <th>mystery</th>\n",
       "      <th>romance</th>\n",
       "      <th>science</th>\n",
       "      <th>thriller</th>\n",
       "      <th>tv</th>\n",
       "      <th>war</th>\n",
       "      <th>western</th>\n",
       "    </tr>\n",
       "    <tr>\n",
       "      <th>original_title</th>\n",
       "      <th></th>\n",
       "      <th></th>\n",
       "      <th></th>\n",
       "      <th></th>\n",
       "      <th></th>\n",
       "      <th></th>\n",
       "      <th></th>\n",
       "      <th></th>\n",
       "      <th></th>\n",
       "      <th></th>\n",
       "      <th></th>\n",
       "      <th></th>\n",
       "      <th></th>\n",
       "      <th></th>\n",
       "      <th></th>\n",
       "      <th></th>\n",
       "      <th></th>\n",
       "      <th></th>\n",
       "      <th></th>\n",
       "      <th></th>\n",
       "      <th></th>\n",
       "    </tr>\n",
       "  </thead>\n",
       "  <tbody>\n",
       "    <tr>\n",
       "      <th>Toy Story</th>\n",
       "      <td>0</td>\n",
       "      <td>0</td>\n",
       "      <td>1</td>\n",
       "      <td>1</td>\n",
       "      <td>0</td>\n",
       "      <td>0</td>\n",
       "      <td>0</td>\n",
       "      <td>1</td>\n",
       "      <td>0</td>\n",
       "      <td>0</td>\n",
       "      <td>...</td>\n",
       "      <td>0</td>\n",
       "      <td>0</td>\n",
       "      <td>0</td>\n",
       "      <td>0</td>\n",
       "      <td>0</td>\n",
       "      <td>0</td>\n",
       "      <td>0</td>\n",
       "      <td>0</td>\n",
       "      <td>0</td>\n",
       "      <td>0</td>\n",
       "    </tr>\n",
       "    <tr>\n",
       "      <th>Jumanji</th>\n",
       "      <td>0</td>\n",
       "      <td>1</td>\n",
       "      <td>0</td>\n",
       "      <td>0</td>\n",
       "      <td>0</td>\n",
       "      <td>0</td>\n",
       "      <td>0</td>\n",
       "      <td>1</td>\n",
       "      <td>1</td>\n",
       "      <td>0</td>\n",
       "      <td>...</td>\n",
       "      <td>0</td>\n",
       "      <td>0</td>\n",
       "      <td>0</td>\n",
       "      <td>0</td>\n",
       "      <td>0</td>\n",
       "      <td>0</td>\n",
       "      <td>0</td>\n",
       "      <td>0</td>\n",
       "      <td>0</td>\n",
       "      <td>0</td>\n",
       "    </tr>\n",
       "    <tr>\n",
       "      <th>Heat</th>\n",
       "      <td>1</td>\n",
       "      <td>0</td>\n",
       "      <td>0</td>\n",
       "      <td>0</td>\n",
       "      <td>1</td>\n",
       "      <td>0</td>\n",
       "      <td>1</td>\n",
       "      <td>0</td>\n",
       "      <td>0</td>\n",
       "      <td>0</td>\n",
       "      <td>...</td>\n",
       "      <td>0</td>\n",
       "      <td>0</td>\n",
       "      <td>0</td>\n",
       "      <td>0</td>\n",
       "      <td>0</td>\n",
       "      <td>0</td>\n",
       "      <td>1</td>\n",
       "      <td>0</td>\n",
       "      <td>0</td>\n",
       "      <td>0</td>\n",
       "    </tr>\n",
       "    <tr>\n",
       "      <th>GoldenEye</th>\n",
       "      <td>1</td>\n",
       "      <td>1</td>\n",
       "      <td>0</td>\n",
       "      <td>0</td>\n",
       "      <td>0</td>\n",
       "      <td>0</td>\n",
       "      <td>0</td>\n",
       "      <td>0</td>\n",
       "      <td>0</td>\n",
       "      <td>0</td>\n",
       "      <td>...</td>\n",
       "      <td>0</td>\n",
       "      <td>0</td>\n",
       "      <td>0</td>\n",
       "      <td>0</td>\n",
       "      <td>0</td>\n",
       "      <td>0</td>\n",
       "      <td>1</td>\n",
       "      <td>0</td>\n",
       "      <td>0</td>\n",
       "      <td>0</td>\n",
       "    </tr>\n",
       "    <tr>\n",
       "      <th>Balto</th>\n",
       "      <td>0</td>\n",
       "      <td>1</td>\n",
       "      <td>1</td>\n",
       "      <td>0</td>\n",
       "      <td>0</td>\n",
       "      <td>0</td>\n",
       "      <td>0</td>\n",
       "      <td>1</td>\n",
       "      <td>0</td>\n",
       "      <td>0</td>\n",
       "      <td>...</td>\n",
       "      <td>0</td>\n",
       "      <td>0</td>\n",
       "      <td>0</td>\n",
       "      <td>0</td>\n",
       "      <td>0</td>\n",
       "      <td>0</td>\n",
       "      <td>0</td>\n",
       "      <td>0</td>\n",
       "      <td>0</td>\n",
       "      <td>0</td>\n",
       "    </tr>\n",
       "  </tbody>\n",
       "</table>\n",
       "<p>5 rows × 21 columns</p>\n",
       "</div>"
      ],
      "text/plain": [
       "                action  adventure  animation  comedy  crime  documentary  \\\n",
       "original_title                                                             \n",
       "Toy Story            0          0          1       1      0            0   \n",
       "Jumanji              0          1          0       0      0            0   \n",
       "Heat                 1          0          0       0      1            0   \n",
       "GoldenEye            1          1          0       0      0            0   \n",
       "Balto                0          1          1       0      0            0   \n",
       "\n",
       "                drama  family  fantasy  fiction   ...     horror  movie  \\\n",
       "original_title                                    ...                     \n",
       "Toy Story           0       1        0        0   ...          0      0   \n",
       "Jumanji             0       1        1        0   ...          0      0   \n",
       "Heat                1       0        0        0   ...          0      0   \n",
       "GoldenEye           0       0        0        0   ...          0      0   \n",
       "Balto               0       1        0        0   ...          0      0   \n",
       "\n",
       "                music  mystery  romance  science  thriller  tv  war  western  \n",
       "original_title                                                                \n",
       "Toy Story           0        0        0        0         0   0    0        0  \n",
       "Jumanji             0        0        0        0         0   0    0        0  \n",
       "Heat                0        0        0        0         1   0    0        0  \n",
       "GoldenEye           0        0        0        0         1   0    0        0  \n",
       "Balto               0        0        0        0         0   0    0        0  \n",
       "\n",
       "[5 rows x 21 columns]"
      ]
     },
     "execution_count": 18,
     "metadata": {},
     "output_type": "execute_result"
    }
   ],
   "source": [
    "cv_df.head()"
   ]
  },
  {
   "cell_type": "code",
   "execution_count": 19,
   "metadata": {},
   "outputs": [],
   "source": [
    "# Measure similarity\n",
    "# Cosine similarity"
   ]
  },
  {
   "cell_type": "markdown",
   "metadata": {},
   "source": [
    "> Cosine Similarity Example"
   ]
  },
  {
   "cell_type": "code",
   "execution_count": 20,
   "metadata": {},
   "outputs": [],
   "source": [
    "data_1 = 'animation comedy'\n",
    "data_2 = 'animation adventure'\n",
    "data_3 = 'horror comedy'\n",
    "data_4 = 'animation'\n",
    "data_5 = 'animation comedy'"
   ]
  },
  {
   "cell_type": "code",
   "execution_count": 21,
   "metadata": {},
   "outputs": [],
   "source": [
    "data = [data_1,data_2,data_3,data_4,data_5]\n",
    "data = pd.DataFrame(data,columns=['genre'] ,index=['movie 1','movie 2' , 'movie 3' , 'movie 4','movie 5'])"
   ]
  },
  {
   "cell_type": "code",
   "execution_count": 22,
   "metadata": {},
   "outputs": [],
   "source": [
    "cv_2  = CountVectorizer()\n",
    "cv_res = cv_2.fit_transform(data['genre'])"
   ]
  },
  {
   "cell_type": "code",
   "execution_count": 23,
   "metadata": {},
   "outputs": [
    {
     "data": {
      "text/html": [
       "<div>\n",
       "<style scoped>\n",
       "    .dataframe tbody tr th:only-of-type {\n",
       "        vertical-align: middle;\n",
       "    }\n",
       "\n",
       "    .dataframe tbody tr th {\n",
       "        vertical-align: top;\n",
       "    }\n",
       "\n",
       "    .dataframe thead th {\n",
       "        text-align: right;\n",
       "    }\n",
       "</style>\n",
       "<table border=\"1\" class=\"dataframe\">\n",
       "  <thead>\n",
       "    <tr style=\"text-align: right;\">\n",
       "      <th></th>\n",
       "      <th>adventure</th>\n",
       "      <th>animation</th>\n",
       "      <th>comedy</th>\n",
       "      <th>horror</th>\n",
       "    </tr>\n",
       "  </thead>\n",
       "  <tbody>\n",
       "    <tr>\n",
       "      <th>movie 1</th>\n",
       "      <td>0</td>\n",
       "      <td>1</td>\n",
       "      <td>1</td>\n",
       "      <td>0</td>\n",
       "    </tr>\n",
       "    <tr>\n",
       "      <th>movie 2</th>\n",
       "      <td>1</td>\n",
       "      <td>1</td>\n",
       "      <td>0</td>\n",
       "      <td>0</td>\n",
       "    </tr>\n",
       "    <tr>\n",
       "      <th>movie 3</th>\n",
       "      <td>0</td>\n",
       "      <td>0</td>\n",
       "      <td>1</td>\n",
       "      <td>1</td>\n",
       "    </tr>\n",
       "    <tr>\n",
       "      <th>movie 4</th>\n",
       "      <td>0</td>\n",
       "      <td>1</td>\n",
       "      <td>0</td>\n",
       "      <td>0</td>\n",
       "    </tr>\n",
       "    <tr>\n",
       "      <th>movie 5</th>\n",
       "      <td>0</td>\n",
       "      <td>1</td>\n",
       "      <td>1</td>\n",
       "      <td>0</td>\n",
       "    </tr>\n",
       "  </tbody>\n",
       "</table>\n",
       "</div>"
      ],
      "text/plain": [
       "         adventure  animation  comedy  horror\n",
       "movie 1          0          1       1       0\n",
       "movie 2          1          1       0       0\n",
       "movie 3          0          0       1       1\n",
       "movie 4          0          1       0       0\n",
       "movie 5          0          1       1       0"
      ]
     },
     "execution_count": 23,
     "metadata": {},
     "output_type": "execute_result"
    }
   ],
   "source": [
    "pd.DataFrame(cv_res.todense(),columns=cv_2.get_feature_names(),index=data.index)"
   ]
  },
  {
   "cell_type": "code",
   "execution_count": 24,
   "metadata": {},
   "outputs": [],
   "source": [
    "from sklearn.metrics.pairwise import cosine_similarity"
   ]
  },
  {
   "cell_type": "code",
   "execution_count": 25,
   "metadata": {},
   "outputs": [],
   "source": [
    "cos_sim = cosine_similarity(cv_res)"
   ]
  },
  {
   "cell_type": "code",
   "execution_count": 26,
   "metadata": {},
   "outputs": [
    {
     "data": {
      "text/html": [
       "<div>\n",
       "<style scoped>\n",
       "    .dataframe tbody tr th:only-of-type {\n",
       "        vertical-align: middle;\n",
       "    }\n",
       "\n",
       "    .dataframe tbody tr th {\n",
       "        vertical-align: top;\n",
       "    }\n",
       "\n",
       "    .dataframe thead th {\n",
       "        text-align: right;\n",
       "    }\n",
       "</style>\n",
       "<table border=\"1\" class=\"dataframe\">\n",
       "  <thead>\n",
       "    <tr style=\"text-align: right;\">\n",
       "      <th></th>\n",
       "      <th>movie 1</th>\n",
       "      <th>movie 2</th>\n",
       "      <th>movie 3</th>\n",
       "      <th>movie 4</th>\n",
       "      <th>movie 5</th>\n",
       "    </tr>\n",
       "  </thead>\n",
       "  <tbody>\n",
       "    <tr>\n",
       "      <th>movie 1</th>\n",
       "      <td>1.000000</td>\n",
       "      <td>0.500000</td>\n",
       "      <td>0.5</td>\n",
       "      <td>0.707107</td>\n",
       "      <td>1.000000</td>\n",
       "    </tr>\n",
       "    <tr>\n",
       "      <th>movie 2</th>\n",
       "      <td>0.500000</td>\n",
       "      <td>1.000000</td>\n",
       "      <td>0.0</td>\n",
       "      <td>0.707107</td>\n",
       "      <td>0.500000</td>\n",
       "    </tr>\n",
       "    <tr>\n",
       "      <th>movie 3</th>\n",
       "      <td>0.500000</td>\n",
       "      <td>0.000000</td>\n",
       "      <td>1.0</td>\n",
       "      <td>0.000000</td>\n",
       "      <td>0.500000</td>\n",
       "    </tr>\n",
       "    <tr>\n",
       "      <th>movie 4</th>\n",
       "      <td>0.707107</td>\n",
       "      <td>0.707107</td>\n",
       "      <td>0.0</td>\n",
       "      <td>1.000000</td>\n",
       "      <td>0.707107</td>\n",
       "    </tr>\n",
       "    <tr>\n",
       "      <th>movie 5</th>\n",
       "      <td>1.000000</td>\n",
       "      <td>0.500000</td>\n",
       "      <td>0.5</td>\n",
       "      <td>0.707107</td>\n",
       "      <td>1.000000</td>\n",
       "    </tr>\n",
       "  </tbody>\n",
       "</table>\n",
       "</div>"
      ],
      "text/plain": [
       "          movie 1   movie 2  movie 3   movie 4   movie 5\n",
       "movie 1  1.000000  0.500000      0.5  0.707107  1.000000\n",
       "movie 2  0.500000  1.000000      0.0  0.707107  0.500000\n",
       "movie 3  0.500000  0.000000      1.0  0.000000  0.500000\n",
       "movie 4  0.707107  0.707107      0.0  1.000000  0.707107\n",
       "movie 5  1.000000  0.500000      0.5  0.707107  1.000000"
      ]
     },
     "execution_count": 26,
     "metadata": {},
     "output_type": "execute_result"
    }
   ],
   "source": [
    "pd.DataFrame(cos_sim , index=data.index,columns=data.index)"
   ]
  },
  {
   "cell_type": "markdown",
   "metadata": {},
   "source": [
    "> Simmilarity for our data"
   ]
  },
  {
   "cell_type": "code",
   "execution_count": 27,
   "metadata": {},
   "outputs": [],
   "source": [
    "cos_sim_movie = cosine_similarity(cv_genres_result)"
   ]
  },
  {
   "cell_type": "code",
   "execution_count": 28,
   "metadata": {},
   "outputs": [
    {
     "data": {
      "text/html": [
       "<div>\n",
       "<style scoped>\n",
       "    .dataframe tbody tr th:only-of-type {\n",
       "        vertical-align: middle;\n",
       "    }\n",
       "\n",
       "    .dataframe tbody tr th {\n",
       "        vertical-align: top;\n",
       "    }\n",
       "\n",
       "    .dataframe thead th {\n",
       "        text-align: right;\n",
       "    }\n",
       "</style>\n",
       "<table border=\"1\" class=\"dataframe\">\n",
       "  <thead>\n",
       "    <tr style=\"text-align: right;\">\n",
       "      <th></th>\n",
       "      <th>original_title</th>\n",
       "      <th>genres</th>\n",
       "      <th>new_genre</th>\n",
       "    </tr>\n",
       "  </thead>\n",
       "  <tbody>\n",
       "    <tr>\n",
       "      <th>1618</th>\n",
       "      <td>City of Ember</td>\n",
       "      <td>[{'id': 12, 'name': 'Adventure'}, {'id': 10751...</td>\n",
       "      <td>Adventure Family Fantasy</td>\n",
       "    </tr>\n",
       "    <tr>\n",
       "      <th>2007</th>\n",
       "      <td>Harry Potter and the Deathly Hallows: Part 2</td>\n",
       "      <td>[{'id': 10751, 'name': 'Family'}, {'id': 14, '...</td>\n",
       "      <td>Family Fantasy Adventure</td>\n",
       "    </tr>\n",
       "    <tr>\n",
       "      <th>1299</th>\n",
       "      <td>Harry Potter and the Goblet of Fire</td>\n",
       "      <td>[{'id': 12, 'name': 'Adventure'}, {'id': 14, '...</td>\n",
       "      <td>Adventure Fantasy Family</td>\n",
       "    </tr>\n",
       "    <tr>\n",
       "      <th>2901</th>\n",
       "      <td>Pete's Dragon</td>\n",
       "      <td>[{'id': 12, 'name': 'Adventure'}, {'id': 10751...</td>\n",
       "      <td>Adventure Family Fantasy</td>\n",
       "    </tr>\n",
       "    <tr>\n",
       "      <th>862</th>\n",
       "      <td>Harry Potter and the Philosopher's Stone</td>\n",
       "      <td>[{'id': 12, 'name': 'Adventure'}, {'id': 14, '...</td>\n",
       "      <td>Adventure Fantasy Family</td>\n",
       "    </tr>\n",
       "    <tr>\n",
       "      <th>165</th>\n",
       "      <td>The Wizard of Oz</td>\n",
       "      <td>[{'id': 12, 'name': 'Adventure'}, {'id': 10751...</td>\n",
       "      <td>Adventure Family Fantasy</td>\n",
       "    </tr>\n",
       "    <tr>\n",
       "      <th>2666</th>\n",
       "      <td>Pan</td>\n",
       "      <td>[{'id': 12, 'name': 'Adventure'}, {'id': 10751...</td>\n",
       "      <td>Adventure Family Fantasy</td>\n",
       "    </tr>\n",
       "    <tr>\n",
       "      <th>1577</th>\n",
       "      <td>The Chronicles of Narnia: Prince Caspian</td>\n",
       "      <td>[{'id': 12, 'name': 'Adventure'}, {'id': 10751...</td>\n",
       "      <td>Adventure Family Fantasy</td>\n",
       "    </tr>\n",
       "    <tr>\n",
       "      <th>402</th>\n",
       "      <td>Labyrinth</td>\n",
       "      <td>[{'id': 12, 'name': 'Adventure'}, {'id': 10751...</td>\n",
       "      <td>Adventure Family Fantasy</td>\n",
       "    </tr>\n",
       "    <tr>\n",
       "      <th>1303</th>\n",
       "      <td>The Chronicles of Narnia: The Lion, the Witch ...</td>\n",
       "      <td>[{'id': 12, 'name': 'Adventure'}, {'id': 10751...</td>\n",
       "      <td>Adventure Family Fantasy</td>\n",
       "    </tr>\n",
       "  </tbody>\n",
       "</table>\n",
       "</div>"
      ],
      "text/plain": [
       "                                         original_title  \\\n",
       "1618                                      City of Ember   \n",
       "2007       Harry Potter and the Deathly Hallows: Part 2   \n",
       "1299                Harry Potter and the Goblet of Fire   \n",
       "2901                                      Pete's Dragon   \n",
       "862            Harry Potter and the Philosopher's Stone   \n",
       "165                                    The Wizard of Oz   \n",
       "2666                                                Pan   \n",
       "1577           The Chronicles of Narnia: Prince Caspian   \n",
       "402                                           Labyrinth   \n",
       "1303  The Chronicles of Narnia: The Lion, the Witch ...   \n",
       "\n",
       "                                                 genres  \\\n",
       "1618  [{'id': 12, 'name': 'Adventure'}, {'id': 10751...   \n",
       "2007  [{'id': 10751, 'name': 'Family'}, {'id': 14, '...   \n",
       "1299  [{'id': 12, 'name': 'Adventure'}, {'id': 14, '...   \n",
       "2901  [{'id': 12, 'name': 'Adventure'}, {'id': 10751...   \n",
       "862   [{'id': 12, 'name': 'Adventure'}, {'id': 14, '...   \n",
       "165   [{'id': 12, 'name': 'Adventure'}, {'id': 10751...   \n",
       "2666  [{'id': 12, 'name': 'Adventure'}, {'id': 10751...   \n",
       "1577  [{'id': 12, 'name': 'Adventure'}, {'id': 10751...   \n",
       "402   [{'id': 12, 'name': 'Adventure'}, {'id': 10751...   \n",
       "1303  [{'id': 12, 'name': 'Adventure'}, {'id': 10751...   \n",
       "\n",
       "                     new_genre  \n",
       "1618  Adventure Family Fantasy  \n",
       "2007  Family Fantasy Adventure  \n",
       "1299  Adventure Fantasy Family  \n",
       "2901  Adventure Family Fantasy  \n",
       "862   Adventure Fantasy Family  \n",
       "165   Adventure Family Fantasy  \n",
       "2666  Adventure Family Fantasy  \n",
       "1577  Adventure Family Fantasy  \n",
       "402   Adventure Family Fantasy  \n",
       "1303  Adventure Family Fantasy  "
      ]
     },
     "execution_count": 28,
     "metadata": {},
     "output_type": "execute_result"
    }
   ],
   "source": [
    "index_to_search = cb_genres[cb_genres['original_title'] == 'Jumanji'].index[0]\n",
    "cb_genres.iloc[pd.Series(cos_sim_movie[index_to_search]).sort_values(ascending=False).head(10).index]"
   ]
  },
  {
   "cell_type": "code",
   "execution_count": 29,
   "metadata": {},
   "outputs": [],
   "source": [
    "def get_recommendation_based_genres(title):\n",
    "    index_to_search = cb_genres[cb_genres['original_title'] == title].index[0]\n",
    "    series_similar = pd.Series(cos_sim_movie[index_to_search])\n",
    "    index_similar = series_similar.sort_values(ascending=False).head(10).index\n",
    "    return cb_genres.loc[index_similar]"
   ]
  },
  {
   "cell_type": "code",
   "execution_count": 30,
   "metadata": {},
   "outputs": [
    {
     "data": {
      "text/html": [
       "<div>\n",
       "<style scoped>\n",
       "    .dataframe tbody tr th:only-of-type {\n",
       "        vertical-align: middle;\n",
       "    }\n",
       "\n",
       "    .dataframe tbody tr th {\n",
       "        vertical-align: top;\n",
       "    }\n",
       "\n",
       "    .dataframe thead th {\n",
       "        text-align: right;\n",
       "    }\n",
       "</style>\n",
       "<table border=\"1\" class=\"dataframe\">\n",
       "  <thead>\n",
       "    <tr style=\"text-align: right;\">\n",
       "      <th></th>\n",
       "      <th>original_title</th>\n",
       "      <th>genres</th>\n",
       "      <th>new_genre</th>\n",
       "    </tr>\n",
       "  </thead>\n",
       "  <tbody>\n",
       "    <tr>\n",
       "      <th>0</th>\n",
       "      <td>Toy Story</td>\n",
       "      <td>[{'id': 16, 'name': 'Animation'}, {'id': 35, '...</td>\n",
       "      <td>Animation Comedy Family</td>\n",
       "    </tr>\n",
       "    <tr>\n",
       "      <th>1173</th>\n",
       "      <td>The SpongeBob SquarePants Movie</td>\n",
       "      <td>[{'id': 16, 'name': 'Animation'}, {'id': 35, '...</td>\n",
       "      <td>Animation Comedy Family</td>\n",
       "    </tr>\n",
       "    <tr>\n",
       "      <th>1293</th>\n",
       "      <td>Chicken Little</td>\n",
       "      <td>[{'id': 16, 'name': 'Animation'}, {'id': 10751...</td>\n",
       "      <td>Animation Family Comedy</td>\n",
       "    </tr>\n",
       "    <tr>\n",
       "      <th>1314</th>\n",
       "      <td>Hoodwinked!</td>\n",
       "      <td>[{'id': 16, 'name': 'Animation'}, {'id': 35, '...</td>\n",
       "      <td>Animation Comedy Family</td>\n",
       "    </tr>\n",
       "    <tr>\n",
       "      <th>1345</th>\n",
       "      <td>Over the Hedge</td>\n",
       "      <td>[{'id': 35, 'name': 'Comedy'}, {'id': 16, 'nam...</td>\n",
       "      <td>Comedy Animation Family</td>\n",
       "    </tr>\n",
       "    <tr>\n",
       "      <th>1364</th>\n",
       "      <td>Garfield: A Tail of Two Kitties</td>\n",
       "      <td>[{'id': 16, 'name': 'Animation'}, {'id': 35, '...</td>\n",
       "      <td>Animation Comedy Family</td>\n",
       "    </tr>\n",
       "    <tr>\n",
       "      <th>2374</th>\n",
       "      <td>Cloudy with a Chance of Meatballs 2</td>\n",
       "      <td>[{'id': 16, 'name': 'Animation'}, {'id': 10751...</td>\n",
       "      <td>Animation Family Comedy</td>\n",
       "    </tr>\n",
       "    <tr>\n",
       "      <th>1442</th>\n",
       "      <td>Meet the Robinsons</td>\n",
       "      <td>[{'id': 16, 'name': 'Animation'}, {'id': 35, '...</td>\n",
       "      <td>Animation Comedy Family</td>\n",
       "    </tr>\n",
       "    <tr>\n",
       "      <th>1444</th>\n",
       "      <td>How the Grinch Stole Christmas!</td>\n",
       "      <td>[{'id': 16, 'name': 'Animation'}, {'id': 10751...</td>\n",
       "      <td>Animation Family Comedy</td>\n",
       "    </tr>\n",
       "    <tr>\n",
       "      <th>1464</th>\n",
       "      <td>Surf's Up</td>\n",
       "      <td>[{'id': 16, 'name': 'Animation'}, {'id': 35, '...</td>\n",
       "      <td>Animation Comedy Family</td>\n",
       "    </tr>\n",
       "  </tbody>\n",
       "</table>\n",
       "</div>"
      ],
      "text/plain": [
       "                           original_title  \\\n",
       "0                               Toy Story   \n",
       "1173      The SpongeBob SquarePants Movie   \n",
       "1293                       Chicken Little   \n",
       "1314                          Hoodwinked!   \n",
       "1345                       Over the Hedge   \n",
       "1364      Garfield: A Tail of Two Kitties   \n",
       "2374  Cloudy with a Chance of Meatballs 2   \n",
       "1442                   Meet the Robinsons   \n",
       "1444      How the Grinch Stole Christmas!   \n",
       "1464                            Surf's Up   \n",
       "\n",
       "                                                 genres  \\\n",
       "0     [{'id': 16, 'name': 'Animation'}, {'id': 35, '...   \n",
       "1173  [{'id': 16, 'name': 'Animation'}, {'id': 35, '...   \n",
       "1293  [{'id': 16, 'name': 'Animation'}, {'id': 10751...   \n",
       "1314  [{'id': 16, 'name': 'Animation'}, {'id': 35, '...   \n",
       "1345  [{'id': 35, 'name': 'Comedy'}, {'id': 16, 'nam...   \n",
       "1364  [{'id': 16, 'name': 'Animation'}, {'id': 35, '...   \n",
       "2374  [{'id': 16, 'name': 'Animation'}, {'id': 10751...   \n",
       "1442  [{'id': 16, 'name': 'Animation'}, {'id': 35, '...   \n",
       "1444  [{'id': 16, 'name': 'Animation'}, {'id': 10751...   \n",
       "1464  [{'id': 16, 'name': 'Animation'}, {'id': 35, '...   \n",
       "\n",
       "                    new_genre  \n",
       "0     Animation Comedy Family  \n",
       "1173  Animation Comedy Family  \n",
       "1293  Animation Family Comedy  \n",
       "1314  Animation Comedy Family  \n",
       "1345  Comedy Animation Family  \n",
       "1364  Animation Comedy Family  \n",
       "2374  Animation Family Comedy  \n",
       "1442  Animation Comedy Family  \n",
       "1444  Animation Family Comedy  \n",
       "1464  Animation Comedy Family  "
      ]
     },
     "execution_count": 30,
     "metadata": {},
     "output_type": "execute_result"
    }
   ],
   "source": [
    "get_recommendation_based_genres('Toy Story')"
   ]
  },
  {
   "cell_type": "markdown",
   "metadata": {},
   "source": [
    "### Based on Cast and Director"
   ]
  },
  {
   "cell_type": "code",
   "execution_count": 31,
   "metadata": {},
   "outputs": [
    {
     "data": {
      "text/html": [
       "<div>\n",
       "<style scoped>\n",
       "    .dataframe tbody tr th:only-of-type {\n",
       "        vertical-align: middle;\n",
       "    }\n",
       "\n",
       "    .dataframe tbody tr th {\n",
       "        vertical-align: top;\n",
       "    }\n",
       "\n",
       "    .dataframe thead th {\n",
       "        text-align: right;\n",
       "    }\n",
       "</style>\n",
       "<table border=\"1\" class=\"dataframe\">\n",
       "  <thead>\n",
       "    <tr style=\"text-align: right;\">\n",
       "      <th></th>\n",
       "      <th>cast</th>\n",
       "      <th>crew</th>\n",
       "      <th>id</th>\n",
       "    </tr>\n",
       "  </thead>\n",
       "  <tbody>\n",
       "    <tr>\n",
       "      <th>0</th>\n",
       "      <td>[{'cast_id': 14, 'character': 'Woody (voice)',...</td>\n",
       "      <td>[{'credit_id': '52fe4284c3a36847f8024f49', 'de...</td>\n",
       "      <td>862</td>\n",
       "    </tr>\n",
       "    <tr>\n",
       "      <th>1</th>\n",
       "      <td>[{'cast_id': 1, 'character': 'Alan Parrish', '...</td>\n",
       "      <td>[{'credit_id': '52fe44bfc3a36847f80a7cd1', 'de...</td>\n",
       "      <td>8844</td>\n",
       "    </tr>\n",
       "    <tr>\n",
       "      <th>2</th>\n",
       "      <td>[{'cast_id': 2, 'character': 'Max Goldman', 'c...</td>\n",
       "      <td>[{'credit_id': '52fe466a9251416c75077a89', 'de...</td>\n",
       "      <td>15602</td>\n",
       "    </tr>\n",
       "    <tr>\n",
       "      <th>3</th>\n",
       "      <td>[{'cast_id': 1, 'character': \"Savannah 'Vannah...</td>\n",
       "      <td>[{'credit_id': '52fe44779251416c91011acb', 'de...</td>\n",
       "      <td>31357</td>\n",
       "    </tr>\n",
       "    <tr>\n",
       "      <th>4</th>\n",
       "      <td>[{'cast_id': 1, 'character': 'George Banks', '...</td>\n",
       "      <td>[{'credit_id': '52fe44959251416c75039ed7', 'de...</td>\n",
       "      <td>11862</td>\n",
       "    </tr>\n",
       "  </tbody>\n",
       "</table>\n",
       "</div>"
      ],
      "text/plain": [
       "                                                cast  \\\n",
       "0  [{'cast_id': 14, 'character': 'Woody (voice)',...   \n",
       "1  [{'cast_id': 1, 'character': 'Alan Parrish', '...   \n",
       "2  [{'cast_id': 2, 'character': 'Max Goldman', 'c...   \n",
       "3  [{'cast_id': 1, 'character': \"Savannah 'Vannah...   \n",
       "4  [{'cast_id': 1, 'character': 'George Banks', '...   \n",
       "\n",
       "                                                crew     id  \n",
       "0  [{'credit_id': '52fe4284c3a36847f8024f49', 'de...    862  \n",
       "1  [{'credit_id': '52fe44bfc3a36847f80a7cd1', 'de...   8844  \n",
       "2  [{'credit_id': '52fe466a9251416c75077a89', 'de...  15602  \n",
       "3  [{'credit_id': '52fe44779251416c91011acb', 'de...  31357  \n",
       "4  [{'credit_id': '52fe44959251416c75039ed7', 'de...  11862  "
      ]
     },
     "execution_count": 31,
     "metadata": {},
     "output_type": "execute_result"
    }
   ],
   "source": [
    "credits = pd.read_csv('credits.csv')\n",
    "credits.head()"
   ]
  },
  {
   "cell_type": "code",
   "execution_count": 32,
   "metadata": {},
   "outputs": [
    {
     "data": {
      "text/plain": [
       "(3032, 6)"
      ]
     },
     "execution_count": 32,
     "metadata": {},
     "output_type": "execute_result"
    }
   ],
   "source": [
    "id_movie = pd.to_numeric(meta[meta['vote_count'] > 300]['id'].reset_index(drop=True))\n",
    "cb_genres['id'] = id_movie\n",
    "cb_genres_cast_crew = cb_genres.merge(credits,on='id')\n",
    "cb_genres_cast_crew.shape"
   ]
  },
  {
   "cell_type": "code",
   "execution_count": 33,
   "metadata": {},
   "outputs": [],
   "source": [
    "def new_cast(x):\n",
    "    casts = []\n",
    "    x = literal_eval(x)\n",
    "    for item in x:\n",
    "        name = item['name'].replace(' ','')\n",
    "        casts.append(name)\n",
    "    return ' '.join(casts)"
   ]
  },
  {
   "cell_type": "code",
   "execution_count": 34,
   "metadata": {},
   "outputs": [],
   "source": [
    "cb_genres_cast_crew['new_cast'] = cb_genres_cast_crew['cast'].apply(new_cast)"
   ]
  },
  {
   "cell_type": "code",
   "execution_count": 35,
   "metadata": {},
   "outputs": [],
   "source": [
    "cv_res_cast = CountVectorizer().fit_transform(cb_genres_cast_crew['new_cast'])\n",
    "cos_sim_cast = cosine_similarity(cv_res_cast)"
   ]
  },
  {
   "cell_type": "code",
   "execution_count": 36,
   "metadata": {},
   "outputs": [],
   "source": [
    "def get_recommendation_based_cast(title):\n",
    "    index_to_search = cb_genres_cast_crew[cb_genres_cast_crew['original_title'] == title].index[0]\n",
    "    series_similar = pd.Series(cos_sim_cast[index_to_search])\n",
    "    index_similar = series_similar.sort_values(ascending=False).head(10).index\n",
    "    return cb_genres_cast_crew.loc[index_similar][['original_title','new_cast']]"
   ]
  },
  {
   "cell_type": "markdown",
   "metadata": {},
   "source": [
    "> decide the composition of the similarity metrics"
   ]
  },
  {
   "cell_type": "code",
   "execution_count": 37,
   "metadata": {},
   "outputs": [],
   "source": [
    "cos_sim_cast_genres = (cos_sim_movie * 0.6) + (0.4 * cos_sim_cast)"
   ]
  },
  {
   "cell_type": "code",
   "execution_count": 38,
   "metadata": {},
   "outputs": [],
   "source": [
    "def get_recommendation_based_genre_cast(title):\n",
    "    df_cos_sin_genre_cast = pd.DataFrame(cos_sim_cast_genres,columns=cb_genres_cast_crew.original_title , \n",
    "                 index=cb_genres_cast_crew.original_title)\n",
    "    movie_similar = df_cos_sin_genre_cast[title]\n",
    "    return movie_similar.sort_values(ascending=False).head(10)"
   ]
  },
  {
   "cell_type": "markdown",
   "metadata": {},
   "source": [
    "> Recomendation Based On Director"
   ]
  },
  {
   "cell_type": "code",
   "execution_count": 39,
   "metadata": {},
   "outputs": [],
   "source": [
    "a = [{'name' : 'budi' , 'job' : 'Writer'},{'name' : 'fikri' , 'job' : 'Director'}]"
   ]
  },
  {
   "cell_type": "code",
   "execution_count": 40,
   "metadata": {},
   "outputs": [
    {
     "name": "stdout",
     "output_type": "stream",
     "text": [
      "fikri\n"
     ]
    }
   ],
   "source": [
    "for item in a:\n",
    "    if(item['job'] == 'Director'):\n",
    "        print(item['name'])"
   ]
  },
  {
   "cell_type": "code",
   "execution_count": 41,
   "metadata": {},
   "outputs": [],
   "source": [
    "def new_director(x):\n",
    "    \n",
    "    for item in literal_eval(x):\n",
    "        if (item['job'] == 'Director'):\n",
    "            return item['name'].replace(' ','')"
   ]
  },
  {
   "cell_type": "code",
   "execution_count": 42,
   "metadata": {},
   "outputs": [],
   "source": [
    "cb_genres_cast_crew['director'] = cb_genres_cast_crew['crew'].apply(new_director)"
   ]
  },
  {
   "cell_type": "code",
   "execution_count": 43,
   "metadata": {},
   "outputs": [],
   "source": [
    "cv_director = CountVectorizer().fit_transform(cb_genres_cast_crew['director'])"
   ]
  },
  {
   "cell_type": "code",
   "execution_count": 44,
   "metadata": {},
   "outputs": [],
   "source": [
    "sim_director = cosine_similarity(cv_director)"
   ]
  },
  {
   "cell_type": "code",
   "execution_count": 45,
   "metadata": {},
   "outputs": [],
   "source": [
    "sim_combination = (cos_sim_movie * 0.5) + (cos_sim_cast * 0.4) + (sim_director * 0.1)"
   ]
  },
  {
   "cell_type": "code",
   "execution_count": 46,
   "metadata": {},
   "outputs": [],
   "source": [
    "def get_recomendation_combination(title):\n",
    "    index_movie = cb_genres_cast_crew[cb_genres_cast_crew['original_title'] == title].index[0]\n",
    "    index_similar = pd.Series(sim_combination[index_movie]).sort_values(ascending=False).head(10).index\n",
    "    return cb_genres_cast_crew[['original_title','new_cast','new_genre','director']].iloc[index_similar]"
   ]
  },
  {
   "cell_type": "code",
   "execution_count": 47,
   "metadata": {},
   "outputs": [
    {
     "data": {
      "text/html": [
       "<div>\n",
       "<style scoped>\n",
       "    .dataframe tbody tr th:only-of-type {\n",
       "        vertical-align: middle;\n",
       "    }\n",
       "\n",
       "    .dataframe tbody tr th {\n",
       "        vertical-align: top;\n",
       "    }\n",
       "\n",
       "    .dataframe thead th {\n",
       "        text-align: right;\n",
       "    }\n",
       "</style>\n",
       "<table border=\"1\" class=\"dataframe\">\n",
       "  <thead>\n",
       "    <tr style=\"text-align: right;\">\n",
       "      <th></th>\n",
       "      <th>original_title</th>\n",
       "      <th>new_cast</th>\n",
       "      <th>new_genre</th>\n",
       "      <th>director</th>\n",
       "    </tr>\n",
       "  </thead>\n",
       "  <tbody>\n",
       "    <tr>\n",
       "      <th>1972</th>\n",
       "      <td>Rio</td>\n",
       "      <td>JesseEisenberg AnneHathaway LeslieMann JaneLyn...</td>\n",
       "      <td>Animation Adventure Comedy Family</td>\n",
       "      <td>CarlosSaldanha</td>\n",
       "    </tr>\n",
       "    <tr>\n",
       "      <th>2463</th>\n",
       "      <td>Rio 2</td>\n",
       "      <td>JesseEisenberg AnneHathaway LeslieMann JamieFo...</td>\n",
       "      <td>Animation Adventure Comedy Family</td>\n",
       "      <td>CarlosSaldanha</td>\n",
       "    </tr>\n",
       "    <tr>\n",
       "      <th>1717</th>\n",
       "      <td>Ice Age: Dawn of the Dinosaurs</td>\n",
       "      <td>RayRomano JohnLeguizamo DenisLeary QueenLatifa...</td>\n",
       "      <td>Animation Comedy Family Adventure</td>\n",
       "      <td>CarlosSaldanha</td>\n",
       "    </tr>\n",
       "    <tr>\n",
       "      <th>1327</th>\n",
       "      <td>Ice Age: The Meltdown</td>\n",
       "      <td>RayRomano JohnLeguizamo DenisLeary QueenLatifa...</td>\n",
       "      <td>Animation Family Comedy Adventure</td>\n",
       "      <td>CarlosSaldanha</td>\n",
       "    </tr>\n",
       "    <tr>\n",
       "      <th>2175</th>\n",
       "      <td>ParaNorman</td>\n",
       "      <td>KodiSmit-McPhee TuckerAlbrizzi JodelleFerland ...</td>\n",
       "      <td>Family Animation Adventure Comedy</td>\n",
       "      <td>SamFell</td>\n",
       "    </tr>\n",
       "    <tr>\n",
       "      <th>2899</th>\n",
       "      <td>Ice Age: Collision Course</td>\n",
       "      <td>RayRomano JohnLeguizamo DenisLeary QueenLatifa...</td>\n",
       "      <td>Adventure Animation Family Comedy</td>\n",
       "      <td>MikeThurmeier</td>\n",
       "    </tr>\n",
       "    <tr>\n",
       "      <th>2164</th>\n",
       "      <td>Ice Age: Continental Drift</td>\n",
       "      <td>JohnLeguizamo RayRomano ChrisWedge DenisLeary ...</td>\n",
       "      <td>Animation Comedy Adventure Family</td>\n",
       "      <td>SteveMartino</td>\n",
       "    </tr>\n",
       "    <tr>\n",
       "      <th>2216</th>\n",
       "      <td>Wreck-It Ralph</td>\n",
       "      <td>JohnC.Reilly SarahSilverman JackMcBrayer JaneL...</td>\n",
       "      <td>Family Animation Comedy Adventure</td>\n",
       "      <td>RichMoore</td>\n",
       "    </tr>\n",
       "    <tr>\n",
       "      <th>1761</th>\n",
       "      <td>Fantastic Mr. Fox</td>\n",
       "      <td>GeorgeClooney MerylStreep JasonSchwartzman Bil...</td>\n",
       "      <td>Adventure Animation Comedy Family</td>\n",
       "      <td>WesAnderson</td>\n",
       "    </tr>\n",
       "    <tr>\n",
       "      <th>1350</th>\n",
       "      <td>Cars</td>\n",
       "      <td>OwenWilson PaulNewman BonnieHunt LarrytheCable...</td>\n",
       "      <td>Animation Adventure Comedy Family</td>\n",
       "      <td>JohnLasseter</td>\n",
       "    </tr>\n",
       "  </tbody>\n",
       "</table>\n",
       "</div>"
      ],
      "text/plain": [
       "                      original_title  \\\n",
       "1972                             Rio   \n",
       "2463                           Rio 2   \n",
       "1717  Ice Age: Dawn of the Dinosaurs   \n",
       "1327           Ice Age: The Meltdown   \n",
       "2175                      ParaNorman   \n",
       "2899       Ice Age: Collision Course   \n",
       "2164      Ice Age: Continental Drift   \n",
       "2216                  Wreck-It Ralph   \n",
       "1761               Fantastic Mr. Fox   \n",
       "1350                            Cars   \n",
       "\n",
       "                                               new_cast  \\\n",
       "1972  JesseEisenberg AnneHathaway LeslieMann JaneLyn...   \n",
       "2463  JesseEisenberg AnneHathaway LeslieMann JamieFo...   \n",
       "1717  RayRomano JohnLeguizamo DenisLeary QueenLatifa...   \n",
       "1327  RayRomano JohnLeguizamo DenisLeary QueenLatifa...   \n",
       "2175  KodiSmit-McPhee TuckerAlbrizzi JodelleFerland ...   \n",
       "2899  RayRomano JohnLeguizamo DenisLeary QueenLatifa...   \n",
       "2164  JohnLeguizamo RayRomano ChrisWedge DenisLeary ...   \n",
       "2216  JohnC.Reilly SarahSilverman JackMcBrayer JaneL...   \n",
       "1761  GeorgeClooney MerylStreep JasonSchwartzman Bil...   \n",
       "1350  OwenWilson PaulNewman BonnieHunt LarrytheCable...   \n",
       "\n",
       "                              new_genre        director  \n",
       "1972  Animation Adventure Comedy Family  CarlosSaldanha  \n",
       "2463  Animation Adventure Comedy Family  CarlosSaldanha  \n",
       "1717  Animation Comedy Family Adventure  CarlosSaldanha  \n",
       "1327  Animation Family Comedy Adventure  CarlosSaldanha  \n",
       "2175  Family Animation Adventure Comedy         SamFell  \n",
       "2899  Adventure Animation Family Comedy   MikeThurmeier  \n",
       "2164  Animation Comedy Adventure Family    SteveMartino  \n",
       "2216  Family Animation Comedy Adventure       RichMoore  \n",
       "1761  Adventure Animation Comedy Family     WesAnderson  \n",
       "1350  Animation Adventure Comedy Family    JohnLasseter  "
      ]
     },
     "execution_count": 47,
     "metadata": {},
     "output_type": "execute_result"
    }
   ],
   "source": [
    "get_recomendation_combination('Rio')"
   ]
  },
  {
   "cell_type": "code",
   "execution_count": null,
   "metadata": {},
   "outputs": [],
   "source": []
  },
  {
   "cell_type": "markdown",
   "metadata": {},
   "source": [
    "# Collaborative Filtering"
   ]
  },
  {
   "cell_type": "markdown",
   "metadata": {},
   "source": [
    "## Item Based"
   ]
  },
  {
   "cell_type": "code",
   "execution_count": 48,
   "metadata": {},
   "outputs": [],
   "source": [
    "ratings = pd.read_csv('ratings_small.csv')"
   ]
  },
  {
   "cell_type": "code",
   "execution_count": 49,
   "metadata": {},
   "outputs": [
    {
     "data": {
      "text/plain": [
       "(100004, 4)"
      ]
     },
     "execution_count": 49,
     "metadata": {},
     "output_type": "execute_result"
    }
   ],
   "source": [
    "ratings.shape"
   ]
  },
  {
   "cell_type": "code",
   "execution_count": 50,
   "metadata": {},
   "outputs": [
    {
     "data": {
      "text/html": [
       "<div>\n",
       "<style scoped>\n",
       "    .dataframe tbody tr th:only-of-type {\n",
       "        vertical-align: middle;\n",
       "    }\n",
       "\n",
       "    .dataframe tbody tr th {\n",
       "        vertical-align: top;\n",
       "    }\n",
       "\n",
       "    .dataframe thead th {\n",
       "        text-align: right;\n",
       "    }\n",
       "</style>\n",
       "<table border=\"1\" class=\"dataframe\">\n",
       "  <thead>\n",
       "    <tr style=\"text-align: right;\">\n",
       "      <th></th>\n",
       "      <th>userId</th>\n",
       "      <th>movieId</th>\n",
       "      <th>rating</th>\n",
       "      <th>timestamp</th>\n",
       "    </tr>\n",
       "  </thead>\n",
       "  <tbody>\n",
       "    <tr>\n",
       "      <th>0</th>\n",
       "      <td>1</td>\n",
       "      <td>31</td>\n",
       "      <td>2.5</td>\n",
       "      <td>1260759144</td>\n",
       "    </tr>\n",
       "    <tr>\n",
       "      <th>1</th>\n",
       "      <td>1</td>\n",
       "      <td>1029</td>\n",
       "      <td>3.0</td>\n",
       "      <td>1260759179</td>\n",
       "    </tr>\n",
       "    <tr>\n",
       "      <th>2</th>\n",
       "      <td>1</td>\n",
       "      <td>1061</td>\n",
       "      <td>3.0</td>\n",
       "      <td>1260759182</td>\n",
       "    </tr>\n",
       "    <tr>\n",
       "      <th>3</th>\n",
       "      <td>1</td>\n",
       "      <td>1129</td>\n",
       "      <td>2.0</td>\n",
       "      <td>1260759185</td>\n",
       "    </tr>\n",
       "    <tr>\n",
       "      <th>4</th>\n",
       "      <td>1</td>\n",
       "      <td>1172</td>\n",
       "      <td>4.0</td>\n",
       "      <td>1260759205</td>\n",
       "    </tr>\n",
       "  </tbody>\n",
       "</table>\n",
       "</div>"
      ],
      "text/plain": [
       "   userId  movieId  rating   timestamp\n",
       "0       1       31     2.5  1260759144\n",
       "1       1     1029     3.0  1260759179\n",
       "2       1     1061     3.0  1260759182\n",
       "3       1     1129     2.0  1260759185\n",
       "4       1     1172     4.0  1260759205"
      ]
     },
     "execution_count": 50,
     "metadata": {},
     "output_type": "execute_result"
    }
   ],
   "source": [
    "ratings.head()"
   ]
  },
  {
   "cell_type": "code",
   "execution_count": 51,
   "metadata": {},
   "outputs": [],
   "source": [
    "index_to_drop = meta[meta.id.str.contains('-')].index\n",
    "meta.drop(index_to_drop,inplace=True)"
   ]
  },
  {
   "cell_type": "code",
   "execution_count": 52,
   "metadata": {},
   "outputs": [],
   "source": [
    "# Convert to Numeric\n",
    "meta['id'] = pd.to_numeric(meta['id'])"
   ]
  },
  {
   "cell_type": "code",
   "execution_count": 53,
   "metadata": {},
   "outputs": [],
   "source": [
    "meta.rename({'id' : 'movieId'},axis=1,inplace=True)"
   ]
  },
  {
   "cell_type": "code",
   "execution_count": 54,
   "metadata": {},
   "outputs": [],
   "source": [
    "user_movie_ratings = meta.merge(ratings,on='movieId')[['userId','original_title','rating']]"
   ]
  },
  {
   "cell_type": "code",
   "execution_count": 55,
   "metadata": {},
   "outputs": [
    {
     "data": {
      "text/html": [
       "<div>\n",
       "<style scoped>\n",
       "    .dataframe tbody tr th:only-of-type {\n",
       "        vertical-align: middle;\n",
       "    }\n",
       "\n",
       "    .dataframe tbody tr th {\n",
       "        vertical-align: top;\n",
       "    }\n",
       "\n",
       "    .dataframe thead th {\n",
       "        text-align: right;\n",
       "    }\n",
       "</style>\n",
       "<table border=\"1\" class=\"dataframe\">\n",
       "  <thead>\n",
       "    <tr style=\"text-align: right;\">\n",
       "      <th></th>\n",
       "      <th>userId</th>\n",
       "      <th>original_title</th>\n",
       "      <th>rating</th>\n",
       "    </tr>\n",
       "  </thead>\n",
       "  <tbody>\n",
       "    <tr>\n",
       "      <th>0</th>\n",
       "      <td>23</td>\n",
       "      <td>Heat</td>\n",
       "      <td>3.5</td>\n",
       "    </tr>\n",
       "    <tr>\n",
       "      <th>1</th>\n",
       "      <td>102</td>\n",
       "      <td>Heat</td>\n",
       "      <td>4.0</td>\n",
       "    </tr>\n",
       "    <tr>\n",
       "      <th>2</th>\n",
       "      <td>232</td>\n",
       "      <td>Heat</td>\n",
       "      <td>2.0</td>\n",
       "    </tr>\n",
       "    <tr>\n",
       "      <th>3</th>\n",
       "      <td>242</td>\n",
       "      <td>Heat</td>\n",
       "      <td>5.0</td>\n",
       "    </tr>\n",
       "    <tr>\n",
       "      <th>4</th>\n",
       "      <td>263</td>\n",
       "      <td>Heat</td>\n",
       "      <td>3.0</td>\n",
       "    </tr>\n",
       "  </tbody>\n",
       "</table>\n",
       "</div>"
      ],
      "text/plain": [
       "   userId original_title  rating\n",
       "0      23           Heat     3.5\n",
       "1     102           Heat     4.0\n",
       "2     232           Heat     2.0\n",
       "3     242           Heat     5.0\n",
       "4     263           Heat     3.0"
      ]
     },
     "execution_count": 55,
     "metadata": {},
     "output_type": "execute_result"
    }
   ],
   "source": [
    "user_movie_ratings.head()"
   ]
  },
  {
   "cell_type": "code",
   "execution_count": 56,
   "metadata": {},
   "outputs": [],
   "source": [
    "user_movie_ratings_pivot = user_movie_ratings.pivot_table(\n",
    "    index='original_title',columns='userId',values='rating')"
   ]
  },
  {
   "cell_type": "code",
   "execution_count": 57,
   "metadata": {},
   "outputs": [
    {
     "data": {
      "text/plain": [
       "669"
      ]
     },
     "execution_count": 57,
     "metadata": {},
     "output_type": "execute_result"
    }
   ],
   "source": [
    "user_movie_ratings_pivot.loc['!Women Art Revolution'].isnull().sum()"
   ]
  },
  {
   "cell_type": "code",
   "execution_count": 58,
   "metadata": {},
   "outputs": [],
   "source": [
    "user_movie_ratings_pivot.dropna(thresh=10,inplace=True)"
   ]
  },
  {
   "cell_type": "code",
   "execution_count": 59,
   "metadata": {},
   "outputs": [],
   "source": [
    "user_movie_ratings_pivot.fillna(0,inplace=True)"
   ]
  },
  {
   "cell_type": "code",
   "execution_count": 60,
   "metadata": {},
   "outputs": [],
   "source": [
    "similarity_movie = cosine_similarity(user_movie_ratings_pivot)"
   ]
  },
  {
   "cell_type": "code",
   "execution_count": 61,
   "metadata": {},
   "outputs": [],
   "source": [
    "df_item_similarity = pd.DataFrame(similarity_movie,\n",
    "             index=user_movie_ratings_pivot.index,columns=user_movie_ratings_pivot.index)"
   ]
  },
  {
   "cell_type": "markdown",
   "metadata": {},
   "source": [
    "> Simple Recomendation Test"
   ]
  },
  {
   "cell_type": "code",
   "execution_count": 62,
   "metadata": {},
   "outputs": [],
   "source": [
    "users = [['Titanic',5],['A Perfect Murder', 2],['2 Days in Paris',4]]"
   ]
  },
  {
   "cell_type": "code",
   "execution_count": 63,
   "metadata": {},
   "outputs": [],
   "source": [
    "ser_1 = (df_item_similarity['Titanic'] * (5 - 2.5)).sort_values(ascending=False)\n",
    "ser_2 = (df_item_similarity['A Perfect Murder'] * (2 - 2.5)).sort_values(ascending=False)\n",
    "ser_3 = (df_item_similarity['2 Days in Paris'] * (4 - 2.5)).sort_values(ascending=False)"
   ]
  },
  {
   "cell_type": "code",
   "execution_count": 64,
   "metadata": {},
   "outputs": [
    {
     "data": {
      "text/plain": [
       "original_title\n",
       "Titanic                      2.730555\n",
       "2 Days in Paris              1.962323\n",
       "Psycho                       1.774745\n",
       "A Nightmare on Elm Street    1.724984\n",
       "Monsoon Wedding              1.680280\n",
       "Big Fish                     1.679542\n",
       "Reservoir Dogs               1.603702\n",
       "Sissi                        1.597969\n",
       "Rain Man                     1.572642\n",
       "Wag the Dog                  1.533183\n",
       "dtype: float64"
      ]
     },
     "execution_count": 64,
     "metadata": {},
     "output_type": "execute_result"
    }
   ],
   "source": [
    "(ser_1 + ser_2 + ser_3).sort_values(ascending=False).head(10)"
   ]
  },
  {
   "cell_type": "code",
   "execution_count": 65,
   "metadata": {},
   "outputs": [],
   "source": [
    "def get_cf_item_based(movies):\n",
    "    serr = []\n",
    "    for item in movies:\n",
    "        ser_similar = df_item_similarity[item[0]] * (item[1] - 2.5)\n",
    "        serr.append(ser_similar)\n",
    "    similar_total = sum(serr)\n",
    "    return similar_total.sort_values(ascending=False).head(10)"
   ]
  },
  {
   "cell_type": "code",
   "execution_count": 66,
   "metadata": {},
   "outputs": [
    {
     "data": {
      "text/plain": [
       "original_title\n",
       "A Perfect Murder           2.407151\n",
       "Cold Mountain              1.110334\n",
       "Аэлита                     1.078367\n",
       "Prime                      1.034842\n",
       "Yella                      1.002543\n",
       "Frankenstein               0.981409\n",
       "Lonely Hearts              0.970602\n",
       "Dr. Jekyll and Mr. Hyde    0.969958\n",
       "Payback                    0.964822\n",
       "8 femmes                   0.939310\n",
       "dtype: float64"
      ]
     },
     "execution_count": 66,
     "metadata": {},
     "output_type": "execute_result"
    }
   ],
   "source": [
    "get_cf_item_based([['Titanic',2],['A Perfect Murder',5]])"
   ]
  },
  {
   "cell_type": "code",
   "execution_count": null,
   "metadata": {},
   "outputs": [],
   "source": []
  },
  {
   "cell_type": "markdown",
   "metadata": {},
   "source": [
    "## User Based CF"
   ]
  },
  {
   "cell_type": "code",
   "execution_count": 69,
   "metadata": {},
   "outputs": [
    {
     "data": {
      "text/plain": [
       "count    100004.000000\n",
       "mean        347.011310\n",
       "std         195.163838\n",
       "min           1.000000\n",
       "25%         182.000000\n",
       "50%         367.000000\n",
       "75%         520.000000\n",
       "max         671.000000\n",
       "Name: userId, dtype: float64"
      ]
     },
     "execution_count": 69,
     "metadata": {},
     "output_type": "execute_result"
    }
   ],
   "source": [
    "ratings.userId.describe()"
   ]
  },
  {
   "cell_type": "code",
   "execution_count": 71,
   "metadata": {},
   "outputs": [],
   "source": [
    "user_rating_pivot = ratings.pivot_table(index='userId', columns='movieId',values='rating')"
   ]
  },
  {
   "cell_type": "code",
   "execution_count": 78,
   "metadata": {},
   "outputs": [],
   "source": [
    "user_rating_pivot = user_rating_pivot.dropna(thresh=30).fillna(0)"
   ]
  },
  {
   "cell_type": "code",
   "execution_count": 80,
   "metadata": {},
   "outputs": [],
   "source": [
    "# Measure similarity each users"
   ]
  },
  {
   "cell_type": "code",
   "execution_count": 81,
   "metadata": {},
   "outputs": [],
   "source": [
    "user_similarity_score = cosine_similarity(user_rating_pivot)"
   ]
  },
  {
   "cell_type": "code",
   "execution_count": 84,
   "metadata": {},
   "outputs": [],
   "source": [
    "df_similarity = pd.DataFrame(user_similarity_score,index=user_rating_pivot.index,columns=user_rating_pivot.index)"
   ]
  },
  {
   "cell_type": "code",
   "execution_count": 96,
   "metadata": {},
   "outputs": [
    {
     "data": {
      "text/plain": [
       "movieId\n",
       "265    5.0\n",
       "266    5.0\n",
       "592    5.0\n",
       "590    5.0\n",
       "589    5.0\n",
       "Name: 2, dtype: float64"
      ]
     },
     "execution_count": 96,
     "metadata": {},
     "output_type": "execute_result"
    }
   ],
   "source": [
    "user_rating_pivot.loc[2].sort_values(ascending=False).head()"
   ]
  },
  {
   "cell_type": "code",
   "execution_count": 97,
   "metadata": {},
   "outputs": [],
   "source": [
    "new_user = [[265,5],[266,5],[592,5],[590,5],[589,5]]"
   ]
  },
  {
   "cell_type": "code",
   "execution_count": 98,
   "metadata": {},
   "outputs": [],
   "source": [
    "user_rating_pivot.loc[(user_rating_pivot.index[-1] + 1), [265,266,592,590,589] ] = [5,5,5,5,5] "
   ]
  },
  {
   "cell_type": "code",
   "execution_count": 106,
   "metadata": {},
   "outputs": [],
   "source": [
    "user_rating_pivot.fillna(0,inplace=True)"
   ]
  },
  {
   "cell_type": "code",
   "execution_count": 107,
   "metadata": {},
   "outputs": [],
   "source": [
    "similarity = cosine_similarity(user_rating_pivot)"
   ]
  },
  {
   "cell_type": "code",
   "execution_count": 113,
   "metadata": {},
   "outputs": [],
   "source": [
    "user_id_similar = pd.DataFrame(similarity,\n",
    "                               columns=user_rating_pivot.index,\n",
    "                               index=user_rating_pivot.index).loc[672].sort_values(ascending=False)\n",
    "[1:11].index"
   ]
  },
  {
   "cell_type": "code",
   "execution_count": 119,
   "metadata": {},
   "outputs": [],
   "source": [
    "serr = []\n",
    "for id in user_id_similar:\n",
    "    movie_rating = user_rating_pivot.loc[id]\n",
    "    serr.append(movie_rating)"
   ]
  },
  {
   "cell_type": "code",
   "execution_count": 125,
   "metadata": {
    "collapsed": true
   },
   "outputs": [
    {
     "data": {
      "text/plain": [
       "movieId\n",
       "589      4.2\n",
       "590      4.2\n",
       "377      4.0\n",
       "480      3.7\n",
       "356      3.6\n",
       "150      3.5\n",
       "457      3.4\n",
       "592      3.2\n",
       "588      3.1\n",
       "364      3.1\n",
       "165      3.0\n",
       "380      3.0\n",
       "110      2.9\n",
       "349      2.9\n",
       "316      2.8\n",
       "266      2.7\n",
       "527      2.6\n",
       "296      2.6\n",
       "593      2.5\n",
       "318      2.4\n",
       "153      2.4\n",
       "47       2.4\n",
       "344      2.3\n",
       "595      2.3\n",
       "440      2.2\n",
       "292      2.1\n",
       "500      2.1\n",
       "434      2.1\n",
       "357      2.1\n",
       "265      2.1\n",
       "        ... \n",
       "31700    0.0\n",
       "31696    0.0\n",
       "31694    0.0\n",
       "31689    0.0\n",
       "31682    0.0\n",
       "32031    0.0\n",
       "31660    0.0\n",
       "31658    0.0\n",
       "31549    0.0\n",
       "31547    0.0\n",
       "31524    0.0\n",
       "31522    0.0\n",
       "31747    0.0\n",
       "31770    0.0\n",
       "31804    0.0\n",
       "31878    0.0\n",
       "31903    0.0\n",
       "31921    0.0\n",
       "31923    0.0\n",
       "31930    0.0\n",
       "31952    0.0\n",
       "31956    0.0\n",
       "31963    0.0\n",
       "31973    0.0\n",
       "32017    0.0\n",
       "32019    0.0\n",
       "32022    0.0\n",
       "32025    0.0\n",
       "32029    0.0\n",
       "6247     0.0\n",
       "Length: 9066, dtype: float64"
      ]
     },
     "execution_count": 125,
     "metadata": {},
     "output_type": "execute_result"
    }
   ],
   "source": [
    "(sum(serr) / 10).sort_values(ascending=False)"
   ]
  },
  {
   "cell_type": "code",
   "execution_count": 134,
   "metadata": {},
   "outputs": [],
   "source": [
    "def get_recomendation_user_based(ratings):\n",
    "    movie_index = np.array(ratings)[:,0]\n",
    "    movie_rating = np.array(ratings)[:,1]\n",
    "    user_rating_pivot.loc[(user_rating_pivot.index[-1] + 1), movie_index ] = movie_rating\n",
    "    user_rating_pivot.fillna(0,inplace=True)\n",
    "    similarity = cosine_similarity(user_rating_pivot)\n",
    "    user_id_similar = pd.DataFrame(similarity,\n",
    "                               columns=user_rating_pivot.index,\n",
    "                               index=user_rating_pivot.index).loc[user_rating_pivot.index[-1]].sort_values(ascending=False)[1:11].index\n",
    "    serr = []\n",
    "    for id in user_id_similar:\n",
    "        movie_rating = user_rating_pivot.loc[id]\n",
    "        serr.append(movie_rating)\n",
    "    return (sum(serr) / 10).sort_values(ascending=False)"
   ]
  },
  {
   "cell_type": "code",
   "execution_count": null,
   "metadata": {},
   "outputs": [],
   "source": []
  }
 ],
 "metadata": {
  "kernelspec": {
   "display_name": "Python 3",
   "language": "python",
   "name": "python3"
  },
  "language_info": {
   "codemirror_mode": {
    "name": "ipython",
    "version": 3
   },
   "file_extension": ".py",
   "mimetype": "text/x-python",
   "name": "python",
   "nbconvert_exporter": "python",
   "pygments_lexer": "ipython3",
   "version": "3.7.0"
  }
 },
 "nbformat": 4,
 "nbformat_minor": 2
}
