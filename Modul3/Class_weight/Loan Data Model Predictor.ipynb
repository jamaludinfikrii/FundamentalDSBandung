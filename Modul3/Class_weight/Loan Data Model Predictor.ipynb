{
 "cells": [
  {
   "cell_type": "markdown",
   "metadata": {},
   "source": [
    "# Loan Data Model Predictor"
   ]
  },
  {
   "cell_type": "code",
   "execution_count": 1,
   "metadata": {},
   "outputs": [],
   "source": [
    "import pandas as pd\n",
    "import numpy as np\n",
    "import matplotlib.pyplot as plt\n",
    "import seaborn as sns"
   ]
  },
  {
   "cell_type": "code",
   "execution_count": 2,
   "metadata": {},
   "outputs": [],
   "source": [
    "df = pd.read_csv('loan_data.csv')"
   ]
  },
  {
   "cell_type": "code",
   "execution_count": 3,
   "metadata": {},
   "outputs": [
    {
     "data": {
      "text/html": [
       "<div>\n",
       "<style scoped>\n",
       "    .dataframe tbody tr th:only-of-type {\n",
       "        vertical-align: middle;\n",
       "    }\n",
       "\n",
       "    .dataframe tbody tr th {\n",
       "        vertical-align: top;\n",
       "    }\n",
       "\n",
       "    .dataframe thead th {\n",
       "        text-align: right;\n",
       "    }\n",
       "</style>\n",
       "<table border=\"1\" class=\"dataframe\">\n",
       "  <thead>\n",
       "    <tr style=\"text-align: right;\">\n",
       "      <th></th>\n",
       "      <th>credit.policy</th>\n",
       "      <th>purpose</th>\n",
       "      <th>int.rate</th>\n",
       "      <th>installment</th>\n",
       "      <th>log.annual.inc</th>\n",
       "      <th>dti</th>\n",
       "      <th>fico</th>\n",
       "      <th>days.with.cr.line</th>\n",
       "      <th>revol.bal</th>\n",
       "      <th>revol.util</th>\n",
       "      <th>inq.last.6mths</th>\n",
       "      <th>delinq.2yrs</th>\n",
       "      <th>pub.rec</th>\n",
       "      <th>not.fully.paid</th>\n",
       "    </tr>\n",
       "  </thead>\n",
       "  <tbody>\n",
       "    <tr>\n",
       "      <th>0</th>\n",
       "      <td>1</td>\n",
       "      <td>debt_consolidation</td>\n",
       "      <td>0.1189</td>\n",
       "      <td>829.10</td>\n",
       "      <td>11.350407</td>\n",
       "      <td>19.48</td>\n",
       "      <td>737</td>\n",
       "      <td>5639.958333</td>\n",
       "      <td>28854</td>\n",
       "      <td>52.1</td>\n",
       "      <td>0</td>\n",
       "      <td>0</td>\n",
       "      <td>0</td>\n",
       "      <td>0</td>\n",
       "    </tr>\n",
       "    <tr>\n",
       "      <th>1</th>\n",
       "      <td>1</td>\n",
       "      <td>credit_card</td>\n",
       "      <td>0.1071</td>\n",
       "      <td>228.22</td>\n",
       "      <td>11.082143</td>\n",
       "      <td>14.29</td>\n",
       "      <td>707</td>\n",
       "      <td>2760.000000</td>\n",
       "      <td>33623</td>\n",
       "      <td>76.7</td>\n",
       "      <td>0</td>\n",
       "      <td>0</td>\n",
       "      <td>0</td>\n",
       "      <td>0</td>\n",
       "    </tr>\n",
       "    <tr>\n",
       "      <th>2</th>\n",
       "      <td>1</td>\n",
       "      <td>debt_consolidation</td>\n",
       "      <td>0.1357</td>\n",
       "      <td>366.86</td>\n",
       "      <td>10.373491</td>\n",
       "      <td>11.63</td>\n",
       "      <td>682</td>\n",
       "      <td>4710.000000</td>\n",
       "      <td>3511</td>\n",
       "      <td>25.6</td>\n",
       "      <td>1</td>\n",
       "      <td>0</td>\n",
       "      <td>0</td>\n",
       "      <td>0</td>\n",
       "    </tr>\n",
       "    <tr>\n",
       "      <th>3</th>\n",
       "      <td>1</td>\n",
       "      <td>debt_consolidation</td>\n",
       "      <td>0.1008</td>\n",
       "      <td>162.34</td>\n",
       "      <td>11.350407</td>\n",
       "      <td>8.10</td>\n",
       "      <td>712</td>\n",
       "      <td>2699.958333</td>\n",
       "      <td>33667</td>\n",
       "      <td>73.2</td>\n",
       "      <td>1</td>\n",
       "      <td>0</td>\n",
       "      <td>0</td>\n",
       "      <td>0</td>\n",
       "    </tr>\n",
       "    <tr>\n",
       "      <th>4</th>\n",
       "      <td>1</td>\n",
       "      <td>credit_card</td>\n",
       "      <td>0.1426</td>\n",
       "      <td>102.92</td>\n",
       "      <td>11.299732</td>\n",
       "      <td>14.97</td>\n",
       "      <td>667</td>\n",
       "      <td>4066.000000</td>\n",
       "      <td>4740</td>\n",
       "      <td>39.5</td>\n",
       "      <td>0</td>\n",
       "      <td>1</td>\n",
       "      <td>0</td>\n",
       "      <td>0</td>\n",
       "    </tr>\n",
       "  </tbody>\n",
       "</table>\n",
       "</div>"
      ],
      "text/plain": [
       "   credit.policy             purpose  int.rate  installment  log.annual.inc  \\\n",
       "0              1  debt_consolidation    0.1189       829.10       11.350407   \n",
       "1              1         credit_card    0.1071       228.22       11.082143   \n",
       "2              1  debt_consolidation    0.1357       366.86       10.373491   \n",
       "3              1  debt_consolidation    0.1008       162.34       11.350407   \n",
       "4              1         credit_card    0.1426       102.92       11.299732   \n",
       "\n",
       "     dti  fico  days.with.cr.line  revol.bal  revol.util  inq.last.6mths  \\\n",
       "0  19.48   737        5639.958333      28854        52.1               0   \n",
       "1  14.29   707        2760.000000      33623        76.7               0   \n",
       "2  11.63   682        4710.000000       3511        25.6               1   \n",
       "3   8.10   712        2699.958333      33667        73.2               1   \n",
       "4  14.97   667        4066.000000       4740        39.5               0   \n",
       "\n",
       "   delinq.2yrs  pub.rec  not.fully.paid  \n",
       "0            0        0               0  \n",
       "1            0        0               0  \n",
       "2            0        0               0  \n",
       "3            0        0               0  \n",
       "4            1        0               0  "
      ]
     },
     "execution_count": 3,
     "metadata": {},
     "output_type": "execute_result"
    }
   ],
   "source": [
    "df.head()"
   ]
  },
  {
   "cell_type": "code",
   "execution_count": 4,
   "metadata": {},
   "outputs": [
    {
     "data": {
      "text/plain": [
       "0    0.839946\n",
       "1    0.160054\n",
       "Name: not.fully.paid, dtype: float64"
      ]
     },
     "execution_count": 4,
     "metadata": {},
     "output_type": "execute_result"
    }
   ],
   "source": [
    "df['not.fully.paid'].value_counts(normalize=True)"
   ]
  },
  {
   "cell_type": "markdown",
   "metadata": {},
   "source": [
    "## Modelling With Imbalance target class"
   ]
  },
  {
   "cell_type": "markdown",
   "metadata": {},
   "source": [
    "#### Feature Engineering Non Numeric Features"
   ]
  },
  {
   "cell_type": "code",
   "execution_count": 5,
   "metadata": {},
   "outputs": [],
   "source": [
    "target = df['not.fully.paid']\n",
    "features = df.drop('not.fully.paid',axis=1)"
   ]
  },
  {
   "cell_type": "code",
   "execution_count": 6,
   "metadata": {},
   "outputs": [],
   "source": [
    "features['purpose'] = features['purpose'].astype('category')"
   ]
  },
  {
   "cell_type": "code",
   "execution_count": 7,
   "metadata": {},
   "outputs": [],
   "source": [
    "features['purpose'].cat.categories = list(range(0,7))"
   ]
  },
  {
   "cell_type": "code",
   "execution_count": 8,
   "metadata": {},
   "outputs": [],
   "source": [
    "from sklearn.model_selection import train_test_split\n",
    "from sklearn.linear_model import LogisticRegression\n",
    "from sklearn.tree import DecisionTreeClassifier\n",
    "from sklearn.ensemble import RandomForestClassifier,GradientBoostingClassifier\n",
    "from sklearn.metrics import classification_report"
   ]
  },
  {
   "cell_type": "code",
   "execution_count": 9,
   "metadata": {},
   "outputs": [],
   "source": [
    "def class_report_by_algo(x,y,model):\n",
    "    X_train,X_test,y_train,y_test = train_test_split(x,y)\n",
    "    clf = model()\n",
    "    clf.fit(X_train,y_train)\n",
    "    \n",
    "    prediction_test = clf.predict(X_test)\n",
    "    prediction_train = clf.predict(X_train)\n",
    "    print('Class Report Data Test')\n",
    "    print(classification_report(y_test,prediction_test))\n",
    "    print('====================')\n",
    "    print('Class Report Data Train')\n",
    "    print(classification_report(y_train,prediction_train))"
   ]
  },
  {
   "cell_type": "code",
   "execution_count": 10,
   "metadata": {},
   "outputs": [
    {
     "name": "stdout",
     "output_type": "stream",
     "text": [
      "Class Report Data Test\n",
      "              precision    recall  f1-score   support\n",
      "\n",
      "           0       0.84      0.99      0.91      2006\n",
      "           1       0.28      0.01      0.02       389\n",
      "\n",
      "   micro avg       0.83      0.83      0.83      2395\n",
      "   macro avg       0.56      0.50      0.47      2395\n",
      "weighted avg       0.75      0.83      0.77      2395\n",
      "\n",
      "====================\n",
      "Class Report Data Train\n",
      "              precision    recall  f1-score   support\n",
      "\n",
      "           0       0.84      1.00      0.91      6039\n",
      "           1       0.47      0.02      0.04      1144\n",
      "\n",
      "   micro avg       0.84      0.84      0.84      7183\n",
      "   macro avg       0.66      0.51      0.47      7183\n",
      "weighted avg       0.78      0.84      0.77      7183\n",
      "\n"
     ]
    },
    {
     "name": "stderr",
     "output_type": "stream",
     "text": [
      "C:\\ProgramData\\Anaconda3\\lib\\site-packages\\sklearn\\linear_model\\logistic.py:433: FutureWarning: Default solver will be changed to 'lbfgs' in 0.22. Specify a solver to silence this warning.\n",
      "  FutureWarning)\n"
     ]
    }
   ],
   "source": [
    "class_report_by_algo(features,target,LogisticRegression)"
   ]
  },
  {
   "cell_type": "code",
   "execution_count": 11,
   "metadata": {},
   "outputs": [
    {
     "name": "stdout",
     "output_type": "stream",
     "text": [
      "Class Report Data Test\n",
      "              precision    recall  f1-score   support\n",
      "\n",
      "           0       0.85      0.83      0.84      2015\n",
      "           1       0.22      0.25      0.23       380\n",
      "\n",
      "   micro avg       0.74      0.74      0.74      2395\n",
      "   macro avg       0.53      0.54      0.54      2395\n",
      "weighted avg       0.75      0.74      0.74      2395\n",
      "\n",
      "====================\n",
      "Class Report Data Train\n",
      "              precision    recall  f1-score   support\n",
      "\n",
      "           0       1.00      1.00      1.00      6030\n",
      "           1       1.00      1.00      1.00      1153\n",
      "\n",
      "   micro avg       1.00      1.00      1.00      7183\n",
      "   macro avg       1.00      1.00      1.00      7183\n",
      "weighted avg       1.00      1.00      1.00      7183\n",
      "\n"
     ]
    }
   ],
   "source": [
    "class_report_by_algo(features,target,DecisionTreeClassifier)"
   ]
  },
  {
   "cell_type": "code",
   "execution_count": 12,
   "metadata": {},
   "outputs": [
    {
     "name": "stderr",
     "output_type": "stream",
     "text": [
      "C:\\ProgramData\\Anaconda3\\lib\\site-packages\\sklearn\\ensemble\\forest.py:246: FutureWarning: The default value of n_estimators will change from 10 in version 0.20 to 100 in 0.22.\n",
      "  \"10 in version 0.20 to 100 in 0.22.\", FutureWarning)\n"
     ]
    },
    {
     "name": "stdout",
     "output_type": "stream",
     "text": [
      "Class Report Data Test\n",
      "              precision    recall  f1-score   support\n",
      "\n",
      "           0       0.84      0.99      0.91      2010\n",
      "           1       0.37      0.04      0.08       385\n",
      "\n",
      "   micro avg       0.83      0.83      0.83      2395\n",
      "   macro avg       0.61      0.51      0.49      2395\n",
      "weighted avg       0.77      0.83      0.78      2395\n",
      "\n",
      "====================\n",
      "Class Report Data Train\n",
      "              precision    recall  f1-score   support\n",
      "\n",
      "           0       0.97      1.00      0.99      6035\n",
      "           1       1.00      0.86      0.92      1148\n",
      "\n",
      "   micro avg       0.98      0.98      0.98      7183\n",
      "   macro avg       0.99      0.93      0.95      7183\n",
      "weighted avg       0.98      0.98      0.98      7183\n",
      "\n"
     ]
    }
   ],
   "source": [
    "class_report_by_algo(features,target,RandomForestClassifier)"
   ]
  },
  {
   "cell_type": "code",
   "execution_count": 13,
   "metadata": {},
   "outputs": [
    {
     "name": "stdout",
     "output_type": "stream",
     "text": [
      "Class Report Data Test\n",
      "              precision    recall  f1-score   support\n",
      "\n",
      "           0       0.84      1.00      0.91      1998\n",
      "           1       0.58      0.03      0.05       397\n",
      "\n",
      "   micro avg       0.84      0.84      0.84      2395\n",
      "   macro avg       0.71      0.51      0.48      2395\n",
      "weighted avg       0.79      0.84      0.77      2395\n",
      "\n",
      "====================\n",
      "Class Report Data Train\n",
      "              precision    recall  f1-score   support\n",
      "\n",
      "           0       0.85      1.00      0.92      6047\n",
      "           1       0.93      0.09      0.17      1136\n",
      "\n",
      "   micro avg       0.86      0.86      0.86      7183\n",
      "   macro avg       0.89      0.55      0.54      7183\n",
      "weighted avg       0.87      0.86      0.80      7183\n",
      "\n"
     ]
    }
   ],
   "source": [
    "class_report_by_algo(features,target,GradientBoostingClassifier)"
   ]
  },
  {
   "cell_type": "markdown",
   "metadata": {},
   "source": [
    "## Handling Imbalance Data"
   ]
  },
  {
   "cell_type": "markdown",
   "metadata": {},
   "source": [
    "### Undersampling"
   ]
  },
  {
   "cell_type": "code",
   "execution_count": 14,
   "metadata": {},
   "outputs": [],
   "source": [
    "a = list(range(1,100))"
   ]
  },
  {
   "cell_type": "code",
   "execution_count": 15,
   "metadata": {},
   "outputs": [],
   "source": [
    "minority_data = df[df['not.fully.paid'] == 1]\n",
    "mayority_data = df[df['not.fully.paid'] == 0]"
   ]
  },
  {
   "cell_type": "code",
   "execution_count": 16,
   "metadata": {},
   "outputs": [
    {
     "data": {
      "text/plain": [
       "1533"
      ]
     },
     "execution_count": 16,
     "metadata": {},
     "output_type": "execute_result"
    }
   ],
   "source": [
    "len(minority_data)"
   ]
  },
  {
   "cell_type": "code",
   "execution_count": 17,
   "metadata": {},
   "outputs": [],
   "source": [
    "index_for_mayority = np.random.choice(mayority_data.index, len(minority_data))"
   ]
  },
  {
   "cell_type": "code",
   "execution_count": 18,
   "metadata": {},
   "outputs": [],
   "source": [
    "df_class_0 = df.loc[index_for_mayority]"
   ]
  },
  {
   "cell_type": "code",
   "execution_count": 19,
   "metadata": {},
   "outputs": [],
   "source": [
    "undersampling_df = pd.concat([df_class_0,minority_data])"
   ]
  },
  {
   "cell_type": "code",
   "execution_count": 20,
   "metadata": {},
   "outputs": [
    {
     "data": {
      "text/plain": [
       "1    0.5\n",
       "0    0.5\n",
       "Name: not.fully.paid, dtype: float64"
      ]
     },
     "execution_count": 20,
     "metadata": {},
     "output_type": "execute_result"
    }
   ],
   "source": [
    "undersampling_df['not.fully.paid'].value_counts(normalize=True)"
   ]
  },
  {
   "cell_type": "markdown",
   "metadata": {},
   "source": [
    "### Modelling With Undersampling Data"
   ]
  },
  {
   "cell_type": "markdown",
   "metadata": {},
   "source": [
    "#### Feature Engineering "
   ]
  },
  {
   "cell_type": "code",
   "execution_count": 21,
   "metadata": {},
   "outputs": [],
   "source": [
    "undersampling_df = pd.get_dummies(undersampling_df,columns=['purpose'],drop_first=True)"
   ]
  },
  {
   "cell_type": "code",
   "execution_count": 22,
   "metadata": {},
   "outputs": [],
   "source": [
    "x_under, y_under = undersampling_df.drop('not.fully.paid',axis=1) , undersampling_df['not.fully.paid']"
   ]
  },
  {
   "cell_type": "code",
   "execution_count": 23,
   "metadata": {},
   "outputs": [
    {
     "name": "stdout",
     "output_type": "stream",
     "text": [
      "Class Report Data Test\n",
      "              precision    recall  f1-score   support\n",
      "\n",
      "           0       0.59      0.69      0.63       374\n",
      "           1       0.65      0.54      0.59       393\n",
      "\n",
      "   micro avg       0.61      0.61      0.61       767\n",
      "   macro avg       0.62      0.62      0.61       767\n",
      "weighted avg       0.62      0.61      0.61       767\n",
      "\n",
      "====================\n",
      "Class Report Data Train\n",
      "              precision    recall  f1-score   support\n",
      "\n",
      "           0       0.59      0.66      0.62      1159\n",
      "           1       0.61      0.53      0.56      1140\n",
      "\n",
      "   micro avg       0.60      0.60      0.60      2299\n",
      "   macro avg       0.60      0.59      0.59      2299\n",
      "weighted avg       0.60      0.60      0.59      2299\n",
      "\n"
     ]
    },
    {
     "name": "stderr",
     "output_type": "stream",
     "text": [
      "C:\\ProgramData\\Anaconda3\\lib\\site-packages\\sklearn\\linear_model\\logistic.py:433: FutureWarning: Default solver will be changed to 'lbfgs' in 0.22. Specify a solver to silence this warning.\n",
      "  FutureWarning)\n"
     ]
    }
   ],
   "source": [
    "class_report_by_algo(x_under,y_under,LogisticRegression)"
   ]
  },
  {
   "cell_type": "code",
   "execution_count": 24,
   "metadata": {},
   "outputs": [
    {
     "name": "stdout",
     "output_type": "stream",
     "text": [
      "Class Report Data Test\n",
      "              precision    recall  f1-score   support\n",
      "\n",
      "           0       0.57      0.61      0.59       384\n",
      "           1       0.58      0.53      0.55       383\n",
      "\n",
      "   micro avg       0.57      0.57      0.57       767\n",
      "   macro avg       0.57      0.57      0.57       767\n",
      "weighted avg       0.57      0.57      0.57       767\n",
      "\n",
      "====================\n",
      "Class Report Data Train\n",
      "              precision    recall  f1-score   support\n",
      "\n",
      "           0       1.00      1.00      1.00      1149\n",
      "           1       1.00      1.00      1.00      1150\n",
      "\n",
      "   micro avg       1.00      1.00      1.00      2299\n",
      "   macro avg       1.00      1.00      1.00      2299\n",
      "weighted avg       1.00      1.00      1.00      2299\n",
      "\n"
     ]
    }
   ],
   "source": [
    "class_report_by_algo(x_under,y_under,DecisionTreeClassifier)"
   ]
  },
  {
   "cell_type": "code",
   "execution_count": 25,
   "metadata": {},
   "outputs": [
    {
     "name": "stderr",
     "output_type": "stream",
     "text": [
      "C:\\ProgramData\\Anaconda3\\lib\\site-packages\\sklearn\\ensemble\\forest.py:246: FutureWarning: The default value of n_estimators will change from 10 in version 0.20 to 100 in 0.22.\n",
      "  \"10 in version 0.20 to 100 in 0.22.\", FutureWarning)\n"
     ]
    },
    {
     "name": "stdout",
     "output_type": "stream",
     "text": [
      "Class Report Data Test\n",
      "              precision    recall  f1-score   support\n",
      "\n",
      "           0       0.58      0.65      0.61       382\n",
      "           1       0.61      0.53      0.56       385\n",
      "\n",
      "   micro avg       0.59      0.59      0.59       767\n",
      "   macro avg       0.59      0.59      0.59       767\n",
      "weighted avg       0.59      0.59      0.59       767\n",
      "\n",
      "====================\n",
      "Class Report Data Train\n",
      "              precision    recall  f1-score   support\n",
      "\n",
      "           0       0.98      0.99      0.99      1151\n",
      "           1       0.99      0.98      0.99      1148\n",
      "\n",
      "   micro avg       0.99      0.99      0.99      2299\n",
      "   macro avg       0.99      0.99      0.99      2299\n",
      "weighted avg       0.99      0.99      0.99      2299\n",
      "\n"
     ]
    }
   ],
   "source": [
    "class_report_by_algo(x_under,y_under,RandomForestClassifier)"
   ]
  },
  {
   "cell_type": "code",
   "execution_count": 26,
   "metadata": {},
   "outputs": [
    {
     "name": "stdout",
     "output_type": "stream",
     "text": [
      "Class Report Data Test\n",
      "              precision    recall  f1-score   support\n",
      "\n",
      "           0       0.60      0.60      0.60       384\n",
      "           1       0.60      0.59      0.59       383\n",
      "\n",
      "   micro avg       0.60      0.60      0.60       767\n",
      "   macro avg       0.60      0.60      0.60       767\n",
      "weighted avg       0.60      0.60      0.60       767\n",
      "\n",
      "====================\n",
      "Class Report Data Train\n",
      "              precision    recall  f1-score   support\n",
      "\n",
      "           0       0.73      0.78      0.75      1149\n",
      "           1       0.76      0.72      0.74      1150\n",
      "\n",
      "   micro avg       0.75      0.75      0.75      2299\n",
      "   macro avg       0.75      0.75      0.75      2299\n",
      "weighted avg       0.75      0.75      0.75      2299\n",
      "\n"
     ]
    }
   ],
   "source": [
    "class_report_by_algo(x_under,y_under,GradientBoostingClassifier)"
   ]
  },
  {
   "cell_type": "markdown",
   "metadata": {},
   "source": [
    "### Oversampling"
   ]
  },
  {
   "cell_type": "markdown",
   "metadata": {},
   "source": [
    "#### Random Oversampling"
   ]
  },
  {
   "cell_type": "code",
   "execution_count": 27,
   "metadata": {},
   "outputs": [],
   "source": [
    "from imblearn.over_sampling import RandomOverSampler, SMOTE"
   ]
  },
  {
   "cell_type": "code",
   "execution_count": 28,
   "metadata": {},
   "outputs": [],
   "source": [
    "ros = RandomOverSampler()"
   ]
  },
  {
   "cell_type": "code",
   "execution_count": 29,
   "metadata": {},
   "outputs": [],
   "source": [
    "X_ros , y_ros = ros.fit_sample(features,target)"
   ]
  },
  {
   "cell_type": "code",
   "execution_count": 30,
   "metadata": {},
   "outputs": [],
   "source": [
    "df_over_all = pd.DataFrame(X_ros,columns=features.columns)\n",
    "df_over_all['not.fully.paid'] = y_ros"
   ]
  },
  {
   "cell_type": "code",
   "execution_count": 31,
   "metadata": {},
   "outputs": [
    {
     "data": {
      "text/plain": [
       "1    8045\n",
       "0    8045\n",
       "Name: not.fully.paid, dtype: int64"
      ]
     },
     "execution_count": 31,
     "metadata": {},
     "output_type": "execute_result"
    }
   ],
   "source": [
    "df_over_all['not.fully.paid'].value_counts()"
   ]
  },
  {
   "cell_type": "code",
   "execution_count": 32,
   "metadata": {},
   "outputs": [
    {
     "data": {
      "text/plain": [
       "<matplotlib.collections.PathCollection at 0x1efc1699b38>"
      ]
     },
     "execution_count": 32,
     "metadata": {},
     "output_type": "execute_result"
    },
    {
     "data": {
      "image/png": "[encoded data removed]",
      "text/plain": [
       "<Figure size 1080x360 with 2 Axes>"
      ]
     },
     "metadata": {
      "needs_background": "light"
     },
     "output_type": "display_data"
    }
   ],
   "source": [
    "fig, ax = plt.subplots(nrows=1,ncols=2,figsize=(15,5))\n",
    "ax[0].scatter(df[df['not.fully.paid'] == 1]['fico'] ,\n",
    "              df[df['not.fully.paid'] == 1]['installment'] ,s=10 , alpha=0.2)\n",
    "ax[1].scatter(df_over_all[df_over_all['not.fully.paid'] == 1]['fico'] ,\n",
    "              df_over_all[df_over_all['not.fully.paid'] == 1]['installment'] ,s=10 , alpha=0.2)"
   ]
  },
  {
   "cell_type": "code",
   "execution_count": 33,
   "metadata": {},
   "outputs": [
    {
     "name": "stdout",
     "output_type": "stream",
     "text": [
      "Class Report Data Test\n",
      "              precision    recall  f1-score   support\n",
      "\n",
      "           0       0.59      0.64      0.61      2041\n",
      "           1       0.59      0.55      0.57      1982\n",
      "\n",
      "   micro avg       0.59      0.59      0.59      4023\n",
      "   macro avg       0.59      0.59      0.59      4023\n",
      "weighted avg       0.59      0.59      0.59      4023\n",
      "\n",
      "====================\n",
      "Class Report Data Train\n",
      "              precision    recall  f1-score   support\n",
      "\n",
      "           0       0.60      0.64      0.62      6004\n",
      "           1       0.62      0.57      0.59      6063\n",
      "\n",
      "   micro avg       0.61      0.61      0.61     12067\n",
      "   macro avg       0.61      0.61      0.61     12067\n",
      "weighted avg       0.61      0.61      0.61     12067\n",
      "\n"
     ]
    },
    {
     "name": "stderr",
     "output_type": "stream",
     "text": [
      "C:\\ProgramData\\Anaconda3\\lib\\site-packages\\sklearn\\linear_model\\logistic.py:433: FutureWarning: Default solver will be changed to 'lbfgs' in 0.22. Specify a solver to silence this warning.\n",
      "  FutureWarning)\n"
     ]
    }
   ],
   "source": [
    "class_report_by_algo(df_over_all.drop('not.fully.paid',axis=1) , df_over_all['not.fully.paid'] , LogisticRegression)"
   ]
  },
  {
   "cell_type": "code",
   "execution_count": 34,
   "metadata": {},
   "outputs": [
    {
     "name": "stdout",
     "output_type": "stream",
     "text": [
      "Class Report Data Test\n",
      "              precision    recall  f1-score   support\n",
      "\n",
      "           0       0.99      0.81      0.89      1978\n",
      "           1       0.84      0.99      0.91      2045\n",
      "\n",
      "   micro avg       0.90      0.90      0.90      4023\n",
      "   macro avg       0.92      0.90      0.90      4023\n",
      "weighted avg       0.92      0.90      0.90      4023\n",
      "\n",
      "====================\n",
      "Class Report Data Train\n",
      "              precision    recall  f1-score   support\n",
      "\n",
      "           0       1.00      1.00      1.00      6067\n",
      "           1       1.00      1.00      1.00      6000\n",
      "\n",
      "   micro avg       1.00      1.00      1.00     12067\n",
      "   macro avg       1.00      1.00      1.00     12067\n",
      "weighted avg       1.00      1.00      1.00     12067\n",
      "\n"
     ]
    }
   ],
   "source": [
    "class_report_by_algo(df_over_all.drop('not.fully.paid',axis=1) , \n",
    "                     df_over_all['not.fully.paid'] , DecisionTreeClassifier)"
   ]
  },
  {
   "cell_type": "code",
   "execution_count": 35,
   "metadata": {},
   "outputs": [
    {
     "name": "stderr",
     "output_type": "stream",
     "text": [
      "C:\\ProgramData\\Anaconda3\\lib\\site-packages\\sklearn\\ensemble\\forest.py:246: FutureWarning: The default value of n_estimators will change from 10 in version 0.20 to 100 in 0.22.\n",
      "  \"10 in version 0.20 to 100 in 0.22.\", FutureWarning)\n"
     ]
    },
    {
     "name": "stdout",
     "output_type": "stream",
     "text": [
      "Class Report Data Test\n",
      "              precision    recall  f1-score   support\n",
      "\n",
      "           0       0.97      0.93      0.95      1965\n",
      "           1       0.94      0.98      0.96      2058\n",
      "\n",
      "   micro avg       0.95      0.95      0.95      4023\n",
      "   macro avg       0.95      0.95      0.95      4023\n",
      "weighted avg       0.95      0.95      0.95      4023\n",
      "\n",
      "====================\n",
      "Class Report Data Train\n",
      "              precision    recall  f1-score   support\n",
      "\n",
      "           0       1.00      1.00      1.00      6080\n",
      "           1       1.00      1.00      1.00      5987\n",
      "\n",
      "   micro avg       1.00      1.00      1.00     12067\n",
      "   macro avg       1.00      1.00      1.00     12067\n",
      "weighted avg       1.00      1.00      1.00     12067\n",
      "\n"
     ]
    }
   ],
   "source": [
    "class_report_by_algo(X_ros,y_ros,RandomForestClassifier)"
   ]
  },
  {
   "cell_type": "code",
   "execution_count": 36,
   "metadata": {},
   "outputs": [
    {
     "name": "stdout",
     "output_type": "stream",
     "text": [
      "Class Report Data Test\n",
      "              precision    recall  f1-score   support\n",
      "\n",
      "           0       0.68      0.70      0.69      2034\n",
      "           1       0.68      0.66      0.67      1989\n",
      "\n",
      "   micro avg       0.68      0.68      0.68      4023\n",
      "   macro avg       0.68      0.68      0.68      4023\n",
      "weighted avg       0.68      0.68      0.68      4023\n",
      "\n",
      "====================\n",
      "Class Report Data Train\n",
      "              precision    recall  f1-score   support\n",
      "\n",
      "           0       0.70      0.72      0.71      6011\n",
      "           1       0.71      0.69      0.70      6056\n",
      "\n",
      "   micro avg       0.71      0.71      0.71     12067\n",
      "   macro avg       0.71      0.71      0.71     12067\n",
      "weighted avg       0.71      0.71      0.71     12067\n",
      "\n"
     ]
    }
   ],
   "source": [
    "class_report_by_algo(X_ros,y_ros,GradientBoostingClassifier)"
   ]
  },
  {
   "cell_type": "code",
   "execution_count": 37,
   "metadata": {},
   "outputs": [],
   "source": [
    "def class_report_by_algo_oversampling(x,y,model):\n",
    "    X_train,X_test,y_train,y_test = train_test_split(x,y)\n",
    "    clf = model()\n",
    "    ros = RandomOverSampler(random_state=101)\n",
    "    X_ros, y_ros = ros.fit_sample(X_train,y_train)\n",
    "    \n",
    "    clf.fit(X_ros,y_ros)\n",
    "    \n",
    "    prediction_test = clf.predict(X_test)\n",
    "    prediction_train = clf.predict(X_ros)\n",
    "    print('Class Report Data Test')\n",
    "    print(classification_report(y_test,prediction_test))\n",
    "    print('====================')\n",
    "    print('Class Report Data Train')\n",
    "    print(classification_report(y_ros,prediction_train))"
   ]
  },
  {
   "cell_type": "code",
   "execution_count": 38,
   "metadata": {},
   "outputs": [
    {
     "name": "stdout",
     "output_type": "stream",
     "text": [
      "Class Report Data Test\n",
      "              precision    recall  f1-score   support\n",
      "\n",
      "           0       0.84      0.84      0.84      1999\n",
      "           1       0.19      0.19      0.19       396\n",
      "\n",
      "   micro avg       0.74      0.74      0.74      2395\n",
      "   macro avg       0.52      0.52      0.52      2395\n",
      "weighted avg       0.73      0.74      0.73      2395\n",
      "\n",
      "====================\n",
      "Class Report Data Train\n",
      "              precision    recall  f1-score   support\n",
      "\n",
      "           0       1.00      1.00      1.00      6046\n",
      "           1       1.00      1.00      1.00      6046\n",
      "\n",
      "   micro avg       1.00      1.00      1.00     12092\n",
      "   macro avg       1.00      1.00      1.00     12092\n",
      "weighted avg       1.00      1.00      1.00     12092\n",
      "\n"
     ]
    }
   ],
   "source": [
    "class_report_by_algo_oversampling(features,target,DecisionTreeClassifier)"
   ]
  },
  {
   "cell_type": "code",
   "execution_count": 39,
   "metadata": {},
   "outputs": [
    {
     "name": "stdout",
     "output_type": "stream",
     "text": [
      "Class Report Data Test\n",
      "              precision    recall  f1-score   support\n",
      "\n",
      "           0       0.90      0.67      0.77      2042\n",
      "           1       0.23      0.56      0.32       353\n",
      "\n",
      "   micro avg       0.65      0.65      0.65      2395\n",
      "   macro avg       0.56      0.61      0.54      2395\n",
      "weighted avg       0.80      0.65      0.70      2395\n",
      "\n",
      "====================\n",
      "Class Report Data Train\n",
      "              precision    recall  f1-score   support\n",
      "\n",
      "           0       0.73      0.71      0.72      6003\n",
      "           1       0.72      0.74      0.73      6003\n",
      "\n",
      "   micro avg       0.72      0.72      0.72     12006\n",
      "   macro avg       0.72      0.72      0.72     12006\n",
      "weighted avg       0.72      0.72      0.72     12006\n",
      "\n"
     ]
    }
   ],
   "source": [
    "class_report_by_algo_oversampling(features,target,GradientBoostingClassifier)"
   ]
  },
  {
   "cell_type": "markdown",
   "metadata": {},
   "source": [
    "### SMOTE"
   ]
  },
  {
   "cell_type": "markdown",
   "metadata": {},
   "source": [
    "#### Syntetic Minority Over Sampling"
   ]
  },
  {
   "cell_type": "code",
   "execution_count": 40,
   "metadata": {},
   "outputs": [],
   "source": [
    "sm = SMOTE(random_state=101)"
   ]
  },
  {
   "cell_type": "code",
   "execution_count": 41,
   "metadata": {},
   "outputs": [],
   "source": [
    "X_sm, y_sm = sm.fit_sample(features,target)"
   ]
  },
  {
   "cell_type": "code",
   "execution_count": 42,
   "metadata": {},
   "outputs": [],
   "source": [
    "df_smote_all = pd.DataFrame(X_sm,columns=features.columns)"
   ]
  },
  {
   "cell_type": "code",
   "execution_count": 43,
   "metadata": {},
   "outputs": [],
   "source": [
    "df_smote_all['not.fully.paid'] = y_sm"
   ]
  },
  {
   "cell_type": "code",
   "execution_count": 44,
   "metadata": {},
   "outputs": [
    {
     "data": {
      "text/plain": [
       "1    8045\n",
       "0    8045\n",
       "Name: not.fully.paid, dtype: int64"
      ]
     },
     "execution_count": 44,
     "metadata": {},
     "output_type": "execute_result"
    }
   ],
   "source": [
    "df_smote_all['not.fully.paid'].value_counts()"
   ]
  },
  {
   "cell_type": "code",
   "execution_count": 45,
   "metadata": {},
   "outputs": [
    {
     "data": {
      "text/plain": [
       "<matplotlib.collections.PathCollection at 0x1efc17906a0>"
      ]
     },
     "execution_count": 45,
     "metadata": {},
     "output_type": "execute_result"
    },
    {
     "data": {
      "image/png": "[encoded data removed]",
      "text/plain": [
       "<Figure size 1080x360 with 2 Axes>"
      ]
     },
     "metadata": {
      "needs_background": "light"
     },
     "output_type": "display_data"
    }
   ],
   "source": [
    "fig, ax = plt.subplots(nrows=1,ncols=2,figsize=(15,5))\n",
    "ax[0].scatter(df[df['not.fully.paid'] == 1]['fico'] ,\n",
    "              df[df['not.fully.paid'] == 1]['installment'] ,s=10 , alpha=0.2)\n",
    "ax[1].scatter(df_smote_all[df_smote_all['not.fully.paid'] == 1]['fico'] ,\n",
    "              df_smote_all[df_smote_all['not.fully.paid'] == 1]['installment'] ,s=10 , alpha=0.2)"
   ]
  },
  {
   "cell_type": "code",
   "execution_count": 46,
   "metadata": {},
   "outputs": [],
   "source": [
    "def class_report_by_algo_smote(x,y,model):\n",
    "    X_train,X_test,y_train,y_test = train_test_split(x,y)\n",
    "    clf = model()\n",
    "    ros = SMOTE(random_state=101)\n",
    "    X_ros, y_ros = ros.fit_sample(X_train,y_train)\n",
    "    \n",
    "    clf.fit(X_ros,y_ros)\n",
    "    \n",
    "    prediction_test = clf.predict(X_test)\n",
    "    prediction_train = clf.predict(X_ros)\n",
    "    print('Class Report Data Test')\n",
    "    print(classification_report(y_test,prediction_test))\n",
    "    print('====================')\n",
    "    print('Class Report Data Train')\n",
    "    print(classification_report(y_ros,prediction_train))"
   ]
  },
  {
   "cell_type": "code",
   "execution_count": 47,
   "metadata": {},
   "outputs": [
    {
     "name": "stdout",
     "output_type": "stream",
     "text": [
      "Class Report Data Test\n",
      "              precision    recall  f1-score   support\n",
      "\n",
      "           0       0.86      0.81      0.83      2022\n",
      "           1       0.21      0.28      0.24       373\n",
      "\n",
      "   micro avg       0.73      0.73      0.73      2395\n",
      "   macro avg       0.54      0.54      0.54      2395\n",
      "weighted avg       0.76      0.73      0.74      2395\n",
      "\n",
      "====================\n",
      "Class Report Data Train\n",
      "              precision    recall  f1-score   support\n",
      "\n",
      "           0       1.00      1.00      1.00      6023\n",
      "           1       1.00      1.00      1.00      6023\n",
      "\n",
      "   micro avg       1.00      1.00      1.00     12046\n",
      "   macro avg       1.00      1.00      1.00     12046\n",
      "weighted avg       1.00      1.00      1.00     12046\n",
      "\n"
     ]
    }
   ],
   "source": [
    "class_report_by_algo_smote(features,target,DecisionTreeClassifier)"
   ]
  },
  {
   "cell_type": "markdown",
   "metadata": {},
   "source": [
    "## Class Weight"
   ]
  },
  {
   "cell_type": "code",
   "execution_count": 51,
   "metadata": {},
   "outputs": [],
   "source": [
    "X_train,X_test,y_train,y_test = train_test_split(features,target,random_state=101)"
   ]
  },
  {
   "cell_type": "code",
   "execution_count": null,
   "metadata": {},
   "outputs": [],
   "source": []
  },
  {
   "cell_type": "code",
   "execution_count": 57,
   "metadata": {},
   "outputs": [],
   "source": [
    "weight = {0 : 1 , 1 :8}"
   ]
  },
  {
   "cell_type": "code",
   "execution_count": 59,
   "metadata": {},
   "outputs": [],
   "source": [
    "model_w_class_weight = DecisionTreeClassifier(random_state=101, \n",
    "                                              class_weight=weight, min_samples_leaf=50)"
   ]
  },
  {
   "cell_type": "code",
   "execution_count": 60,
   "metadata": {},
   "outputs": [
    {
     "data": {
      "text/plain": [
       "DecisionTreeClassifier(class_weight={0: 1, 1: 8}, criterion='gini',\n",
       "            max_depth=None, max_features=None, max_leaf_nodes=None,\n",
       "            min_impurity_decrease=0.0, min_impurity_split=None,\n",
       "            min_samples_leaf=50, min_samples_split=2,\n",
       "            min_weight_fraction_leaf=0.0, presort=False, random_state=101,\n",
       "            splitter='best')"
      ]
     },
     "execution_count": 60,
     "metadata": {},
     "output_type": "execute_result"
    }
   ],
   "source": [
    "model_w_class_weight.fit(X_train,y_train)"
   ]
  },
  {
   "cell_type": "code",
   "execution_count": 61,
   "metadata": {},
   "outputs": [],
   "source": [
    "prediction = model_w_class_weight.predict(X_test)"
   ]
  },
  {
   "cell_type": "code",
   "execution_count": 63,
   "metadata": {},
   "outputs": [
    {
     "name": "stdout",
     "output_type": "stream",
     "text": [
      "              precision    recall  f1-score   support\n",
      "\n",
      "           0       0.88      0.44      0.59      2029\n",
      "           1       0.18      0.68      0.28       366\n",
      "\n",
      "   micro avg       0.48      0.48      0.48      2395\n",
      "   macro avg       0.53      0.56      0.44      2395\n",
      "weighted avg       0.78      0.48      0.54      2395\n",
      "\n"
     ]
    }
   ],
   "source": [
    "print(classification_report(y_test,prediction))"
   ]
  },
  {
   "cell_type": "code",
   "execution_count": null,
   "metadata": {},
   "outputs": [],
   "source": []
  },
  {
   "cell_type": "code",
   "execution_count": null,
   "metadata": {},
   "outputs": [],
   "source": []
  },
  {
   "cell_type": "markdown",
   "metadata": {},
   "source": [
    "## Ensemble Method"
   ]
  },
  {
   "cell_type": "markdown",
   "metadata": {},
   "source": [
    "### Random Forest Classifier"
   ]
  },
  {
   "cell_type": "code",
   "execution_count": 64,
   "metadata": {},
   "outputs": [],
   "source": [
    "from sklearn.ensemble import RandomForestClassifier"
   ]
  },
  {
   "cell_type": "code",
   "execution_count": 82,
   "metadata": {},
   "outputs": [],
   "source": [
    "rfc = RandomForestClassifier(min_samples_leaf=50 , class_weight={0:1 , 1:7},n_estimators=100)"
   ]
  },
  {
   "cell_type": "code",
   "execution_count": 83,
   "metadata": {},
   "outputs": [],
   "source": [
    "rfc.fit(X_train,y_train)\n",
    "prediction = rfc.predict(X_test)\n"
   ]
  },
  {
   "cell_type": "code",
   "execution_count": 84,
   "metadata": {},
   "outputs": [
    {
     "name": "stdout",
     "output_type": "stream",
     "text": [
      "              precision    recall  f1-score   support\n",
      "\n",
      "           0       0.90      0.51      0.65      2029\n",
      "           1       0.20      0.70      0.32       366\n",
      "\n",
      "   micro avg       0.54      0.54      0.54      2395\n",
      "   macro avg       0.55      0.60      0.48      2395\n",
      "weighted avg       0.80      0.54      0.60      2395\n",
      "\n"
     ]
    }
   ],
   "source": [
    "print(classification_report(y_test,prediction))"
   ]
  },
  {
   "cell_type": "code",
   "execution_count": 88,
   "metadata": {},
   "outputs": [
    {
     "data": {
      "text/plain": [
       "array([0, 1], dtype=int64)"
      ]
     },
     "execution_count": 88,
     "metadata": {},
     "output_type": "execute_result"
    }
   ],
   "source": []
  },
  {
   "cell_type": "code",
   "execution_count": 89,
   "metadata": {},
   "outputs": [],
   "source": [
    "from sklearn.tree import export_graphviz\n",
    "export_graphviz(rfc.estimators_[0], out_file='rfc_1.dot', feature_names = features.columns,\n",
    "                class_names = ['penuh','macet'],\n",
    "                rounded = True, proportion = False, precision = 2, filled = True)"
   ]
  },
  {
   "cell_type": "code",
   "execution_count": 90,
   "metadata": {},
   "outputs": [],
   "source": [
    "import pickle"
   ]
  },
  {
   "cell_type": "code",
   "execution_count": 91,
   "metadata": {},
   "outputs": [],
   "source": [
    "pickle.dump(rfc , open('model_rfc.sav' , 'wb'))"
   ]
  }
 ],
 "metadata": {
  "kernelspec": {
   "display_name": "Python 3",
   "language": "python",
   "name": "python3"
  },
  "language_info": {
   "codemirror_mode": {
    "name": "ipython",
    "version": 3
   },
   "file_extension": ".py",
   "mimetype": "text/x-python",
   "name": "python",
   "nbconvert_exporter": "python",
   "pygments_lexer": "ipython3",
   "version": "3.7.0"
  }
 },
 "nbformat": 4,
 "nbformat_minor": 2
}
