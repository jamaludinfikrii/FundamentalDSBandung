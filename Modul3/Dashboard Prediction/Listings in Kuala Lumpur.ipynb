{
 "cells": [
  {
   "cell_type": "markdown",
   "metadata": {},
   "source": [
    "## 1.  Data Extraction"
   ]
  },
  {
   "cell_type": "code",
   "execution_count": 1,
   "metadata": {},
   "outputs": [],
   "source": [
    "import pandas as pd\n",
    "import numpy as np\n",
    "import matplotlib.pyplot as plt\n",
    "import seaborn as sns\n",
    "sns.set_style('whitegrid')"
   ]
  },
  {
   "cell_type": "code",
   "execution_count": 2,
   "metadata": {},
   "outputs": [],
   "source": [
    "df = pd.read_csv('data_kaggle.xls')"
   ]
  },
  {
   "cell_type": "code",
   "execution_count": 3,
   "metadata": {},
   "outputs": [
    {
     "data": {
      "text/html": [
       "<div>\n",
       "<style scoped>\n",
       "    .dataframe tbody tr th:only-of-type {\n",
       "        vertical-align: middle;\n",
       "    }\n",
       "\n",
       "    .dataframe tbody tr th {\n",
       "        vertical-align: top;\n",
       "    }\n",
       "\n",
       "    .dataframe thead th {\n",
       "        text-align: right;\n",
       "    }\n",
       "</style>\n",
       "<table border=\"1\" class=\"dataframe\">\n",
       "  <thead>\n",
       "    <tr style=\"text-align: right;\">\n",
       "      <th></th>\n",
       "      <th>Location</th>\n",
       "      <th>Price</th>\n",
       "      <th>Rooms</th>\n",
       "      <th>Bathrooms</th>\n",
       "      <th>Car Parks</th>\n",
       "      <th>Property Type</th>\n",
       "      <th>Size</th>\n",
       "      <th>Furnishing</th>\n",
       "    </tr>\n",
       "  </thead>\n",
       "  <tbody>\n",
       "    <tr>\n",
       "      <th>0</th>\n",
       "      <td>KLCC, Kuala Lumpur</td>\n",
       "      <td>RM 1,250,000</td>\n",
       "      <td>2+1</td>\n",
       "      <td>3.0</td>\n",
       "      <td>2.0</td>\n",
       "      <td>Serviced Residence</td>\n",
       "      <td>Built-up : 1,335 sq. ft.</td>\n",
       "      <td>Fully Furnished</td>\n",
       "    </tr>\n",
       "    <tr>\n",
       "      <th>1</th>\n",
       "      <td>Damansara Heights, Kuala Lumpur</td>\n",
       "      <td>RM 6,800,000</td>\n",
       "      <td>6</td>\n",
       "      <td>7.0</td>\n",
       "      <td>NaN</td>\n",
       "      <td>Bungalow</td>\n",
       "      <td>Land area : 6900 sq. ft.</td>\n",
       "      <td>Partly Furnished</td>\n",
       "    </tr>\n",
       "    <tr>\n",
       "      <th>2</th>\n",
       "      <td>Dutamas, Kuala Lumpur</td>\n",
       "      <td>RM 1,030,000</td>\n",
       "      <td>3</td>\n",
       "      <td>4.0</td>\n",
       "      <td>2.0</td>\n",
       "      <td>Condominium (Corner)</td>\n",
       "      <td>Built-up : 1,875 sq. ft.</td>\n",
       "      <td>Partly Furnished</td>\n",
       "    </tr>\n",
       "    <tr>\n",
       "      <th>3</th>\n",
       "      <td>Cheras, Kuala Lumpur</td>\n",
       "      <td>NaN</td>\n",
       "      <td>NaN</td>\n",
       "      <td>NaN</td>\n",
       "      <td>NaN</td>\n",
       "      <td>NaN</td>\n",
       "      <td>NaN</td>\n",
       "      <td>NaN</td>\n",
       "    </tr>\n",
       "    <tr>\n",
       "      <th>4</th>\n",
       "      <td>Bukit Jalil, Kuala Lumpur</td>\n",
       "      <td>RM 900,000</td>\n",
       "      <td>4+1</td>\n",
       "      <td>3.0</td>\n",
       "      <td>2.0</td>\n",
       "      <td>Condominium (Corner)</td>\n",
       "      <td>Built-up : 1,513 sq. ft.</td>\n",
       "      <td>Partly Furnished</td>\n",
       "    </tr>\n",
       "  </tbody>\n",
       "</table>\n",
       "</div>"
      ],
      "text/plain": [
       "                          Location         Price Rooms  Bathrooms  Car Parks  \\\n",
       "0               KLCC, Kuala Lumpur  RM 1,250,000   2+1        3.0        2.0   \n",
       "1  Damansara Heights, Kuala Lumpur  RM 6,800,000     6        7.0        NaN   \n",
       "2            Dutamas, Kuala Lumpur  RM 1,030,000     3        4.0        2.0   \n",
       "3             Cheras, Kuala Lumpur           NaN   NaN        NaN        NaN   \n",
       "4        Bukit Jalil, Kuala Lumpur    RM 900,000   4+1        3.0        2.0   \n",
       "\n",
       "          Property Type                      Size        Furnishing  \n",
       "0    Serviced Residence  Built-up : 1,335 sq. ft.   Fully Furnished  \n",
       "1              Bungalow  Land area : 6900 sq. ft.  Partly Furnished  \n",
       "2  Condominium (Corner)  Built-up : 1,875 sq. ft.  Partly Furnished  \n",
       "3                   NaN                       NaN               NaN  \n",
       "4  Condominium (Corner)  Built-up : 1,513 sq. ft.  Partly Furnished  "
      ]
     },
     "execution_count": 3,
     "metadata": {},
     "output_type": "execute_result"
    }
   ],
   "source": [
    "df.head()"
   ]
  },
  {
   "cell_type": "code",
   "execution_count": 4,
   "metadata": {},
   "outputs": [
    {
     "data": {
      "text/html": [
       "<div>\n",
       "<style scoped>\n",
       "    .dataframe tbody tr th:only-of-type {\n",
       "        vertical-align: middle;\n",
       "    }\n",
       "\n",
       "    .dataframe tbody tr th {\n",
       "        vertical-align: top;\n",
       "    }\n",
       "\n",
       "    .dataframe thead th {\n",
       "        text-align: right;\n",
       "    }\n",
       "</style>\n",
       "<table border=\"1\" class=\"dataframe\">\n",
       "  <thead>\n",
       "    <tr style=\"text-align: right;\">\n",
       "      <th></th>\n",
       "      <th>Bathrooms</th>\n",
       "      <th>Car Parks</th>\n",
       "    </tr>\n",
       "  </thead>\n",
       "  <tbody>\n",
       "    <tr>\n",
       "      <th>count</th>\n",
       "      <td>51870.000000</td>\n",
       "      <td>36316.000000</td>\n",
       "    </tr>\n",
       "    <tr>\n",
       "      <th>mean</th>\n",
       "      <td>3.073434</td>\n",
       "      <td>2.007848</td>\n",
       "    </tr>\n",
       "    <tr>\n",
       "      <th>std</th>\n",
       "      <td>1.631079</td>\n",
       "      <td>1.310427</td>\n",
       "    </tr>\n",
       "    <tr>\n",
       "      <th>min</th>\n",
       "      <td>1.000000</td>\n",
       "      <td>1.000000</td>\n",
       "    </tr>\n",
       "    <tr>\n",
       "      <th>25%</th>\n",
       "      <td>2.000000</td>\n",
       "      <td>1.000000</td>\n",
       "    </tr>\n",
       "    <tr>\n",
       "      <th>50%</th>\n",
       "      <td>2.000000</td>\n",
       "      <td>2.000000</td>\n",
       "    </tr>\n",
       "    <tr>\n",
       "      <th>75%</th>\n",
       "      <td>4.000000</td>\n",
       "      <td>2.000000</td>\n",
       "    </tr>\n",
       "    <tr>\n",
       "      <th>max</th>\n",
       "      <td>20.000000</td>\n",
       "      <td>30.000000</td>\n",
       "    </tr>\n",
       "  </tbody>\n",
       "</table>\n",
       "</div>"
      ],
      "text/plain": [
       "          Bathrooms     Car Parks\n",
       "count  51870.000000  36316.000000\n",
       "mean       3.073434      2.007848\n",
       "std        1.631079      1.310427\n",
       "min        1.000000      1.000000\n",
       "25%        2.000000      1.000000\n",
       "50%        2.000000      2.000000\n",
       "75%        4.000000      2.000000\n",
       "max       20.000000     30.000000"
      ]
     },
     "execution_count": 4,
     "metadata": {},
     "output_type": "execute_result"
    }
   ],
   "source": [
    "df.describe()"
   ]
  },
  {
   "cell_type": "code",
   "execution_count": 5,
   "metadata": {},
   "outputs": [
    {
     "name": "stdout",
     "output_type": "stream",
     "text": [
      "<class 'pandas.core.frame.DataFrame'>\n",
      "RangeIndex: 53883 entries, 0 to 53882\n",
      "Data columns (total 8 columns):\n",
      "Location         53883 non-null object\n",
      "Price            53635 non-null object\n",
      "Rooms            52177 non-null object\n",
      "Bathrooms        51870 non-null float64\n",
      "Car Parks        36316 non-null float64\n",
      "Property Type    53858 non-null object\n",
      "Size             52820 non-null object\n",
      "Furnishing       46953 non-null object\n",
      "dtypes: float64(2), object(6)\n",
      "memory usage: 3.3+ MB\n"
     ]
    }
   ],
   "source": [
    "df.info()"
   ]
  },
  {
   "cell_type": "code",
   "execution_count": 6,
   "metadata": {},
   "outputs": [
    {
     "data": {
      "text/html": [
       "<div>\n",
       "<style scoped>\n",
       "    .dataframe tbody tr th:only-of-type {\n",
       "        vertical-align: middle;\n",
       "    }\n",
       "\n",
       "    .dataframe tbody tr th {\n",
       "        vertical-align: top;\n",
       "    }\n",
       "\n",
       "    .dataframe thead th {\n",
       "        text-align: right;\n",
       "    }\n",
       "</style>\n",
       "<table border=\"1\" class=\"dataframe\">\n",
       "  <thead>\n",
       "    <tr style=\"text-align: right;\">\n",
       "      <th></th>\n",
       "      <th>dataFeatures</th>\n",
       "      <th>dataType</th>\n",
       "      <th>null</th>\n",
       "      <th>nullPct</th>\n",
       "      <th>unique</th>\n",
       "      <th>uniqueSample</th>\n",
       "    </tr>\n",
       "  </thead>\n",
       "  <tbody>\n",
       "    <tr>\n",
       "      <th>0</th>\n",
       "      <td>Location</td>\n",
       "      <td>object</td>\n",
       "      <td>0</td>\n",
       "      <td>0.00</td>\n",
       "      <td>112</td>\n",
       "      <td>[Other, Kuala Lumpur, Gombak, Kuala Lumpur]</td>\n",
       "    </tr>\n",
       "    <tr>\n",
       "      <th>1</th>\n",
       "      <td>Price</td>\n",
       "      <td>object</td>\n",
       "      <td>248</td>\n",
       "      <td>0.46</td>\n",
       "      <td>4280</td>\n",
       "      <td>[RM 7,180,000, RM 951,600]</td>\n",
       "    </tr>\n",
       "    <tr>\n",
       "      <th>2</th>\n",
       "      <td>Rooms</td>\n",
       "      <td>object</td>\n",
       "      <td>1706</td>\n",
       "      <td>3.17</td>\n",
       "      <td>43</td>\n",
       "      <td>[3, 9+1]</td>\n",
       "    </tr>\n",
       "    <tr>\n",
       "      <th>3</th>\n",
       "      <td>Bathrooms</td>\n",
       "      <td>float64</td>\n",
       "      <td>2013</td>\n",
       "      <td>3.74</td>\n",
       "      <td>17</td>\n",
       "      <td>[14.0, 16.0]</td>\n",
       "    </tr>\n",
       "    <tr>\n",
       "      <th>4</th>\n",
       "      <td>Car Parks</td>\n",
       "      <td>float64</td>\n",
       "      <td>17567</td>\n",
       "      <td>32.60</td>\n",
       "      <td>21</td>\n",
       "      <td>[16.0, 6.0]</td>\n",
       "    </tr>\n",
       "    <tr>\n",
       "      <th>5</th>\n",
       "      <td>Property Type</td>\n",
       "      <td>object</td>\n",
       "      <td>25</td>\n",
       "      <td>0.05</td>\n",
       "      <td>99</td>\n",
       "      <td>[2-sty Terrace/Link House (Corner), 4-sty Terr...</td>\n",
       "    </tr>\n",
       "    <tr>\n",
       "      <th>6</th>\n",
       "      <td>Size</td>\n",
       "      <td>object</td>\n",
       "      <td>1063</td>\n",
       "      <td>1.97</td>\n",
       "      <td>6190</td>\n",
       "      <td>[Land area : 10387 sq. ft., Land area : 22&amp;#21...</td>\n",
       "    </tr>\n",
       "    <tr>\n",
       "      <th>7</th>\n",
       "      <td>Furnishing</td>\n",
       "      <td>object</td>\n",
       "      <td>6930</td>\n",
       "      <td>12.86</td>\n",
       "      <td>4</td>\n",
       "      <td>[nan, Partly Furnished]</td>\n",
       "    </tr>\n",
       "  </tbody>\n",
       "</table>\n",
       "</div>"
      ],
      "text/plain": [
       "    dataFeatures dataType   null  nullPct  unique  \\\n",
       "0       Location   object      0     0.00     112   \n",
       "1          Price   object    248     0.46    4280   \n",
       "2          Rooms   object   1706     3.17      43   \n",
       "3      Bathrooms  float64   2013     3.74      17   \n",
       "4      Car Parks  float64  17567    32.60      21   \n",
       "5  Property Type   object     25     0.05      99   \n",
       "6           Size   object   1063     1.97    6190   \n",
       "7     Furnishing   object   6930    12.86       4   \n",
       "\n",
       "                                        uniqueSample  \n",
       "0        [Other, Kuala Lumpur, Gombak, Kuala Lumpur]  \n",
       "1                         [RM 7,180,000, RM 951,600]  \n",
       "2                                           [3, 9+1]  \n",
       "3                                       [14.0, 16.0]  \n",
       "4                                        [16.0, 6.0]  \n",
       "5  [2-sty Terrace/Link House (Corner), 4-sty Terr...  \n",
       "6  [Land area : 10387 sq. ft., Land area : 22&#21...  \n",
       "7                            [nan, Partly Furnished]  "
      ]
     },
     "execution_count": 6,
     "metadata": {},
     "output_type": "execute_result"
    }
   ],
   "source": [
    "listItem = []\n",
    "for col in df.columns :\n",
    "    listItem.append([col, df[col].dtype, df[col].isna().sum(), round((df[col].isna().sum()/len(df[col])) * 100,2),\n",
    "                    df[col].nunique(), list(df[col].drop_duplicates().sample(2).values)]);\n",
    "\n",
    "dfDesc = pd.DataFrame(columns=['dataFeatures', 'dataType', 'null', 'nullPct', 'unique', 'uniqueSample'],\n",
    "                     data=listItem)\n",
    "dfDesc"
   ]
  },
  {
   "cell_type": "markdown",
   "metadata": {},
   "source": [
    "## 2. Data Cleaning"
   ]
  },
  {
   "cell_type": "markdown",
   "metadata": {},
   "source": [
    "### 2.1 Handle Missing Value"
   ]
  },
  {
   "cell_type": "code",
   "execution_count": 7,
   "metadata": {},
   "outputs": [
    {
     "data": {
      "text/html": [
       "<div>\n",
       "<style scoped>\n",
       "    .dataframe tbody tr th:only-of-type {\n",
       "        vertical-align: middle;\n",
       "    }\n",
       "\n",
       "    .dataframe tbody tr th {\n",
       "        vertical-align: top;\n",
       "    }\n",
       "\n",
       "    .dataframe thead th {\n",
       "        text-align: right;\n",
       "    }\n",
       "</style>\n",
       "<table border=\"1\" class=\"dataframe\">\n",
       "  <thead>\n",
       "    <tr style=\"text-align: right;\">\n",
       "      <th></th>\n",
       "      <th>dataFeatures</th>\n",
       "      <th>dataType</th>\n",
       "      <th>null</th>\n",
       "      <th>nullPct</th>\n",
       "      <th>unique</th>\n",
       "      <th>uniqueSample</th>\n",
       "    </tr>\n",
       "  </thead>\n",
       "  <tbody>\n",
       "    <tr>\n",
       "      <th>0</th>\n",
       "      <td>Location</td>\n",
       "      <td>object</td>\n",
       "      <td>0</td>\n",
       "      <td>0.0</td>\n",
       "      <td>98</td>\n",
       "      <td>[Taman Melawati, Kuala Lumpur, Jalan Kuching, ...</td>\n",
       "    </tr>\n",
       "    <tr>\n",
       "      <th>1</th>\n",
       "      <td>Price</td>\n",
       "      <td>object</td>\n",
       "      <td>0</td>\n",
       "      <td>0.0</td>\n",
       "      <td>3634</td>\n",
       "      <td>[RM 2,716,200, RM 4,286,400]</td>\n",
       "    </tr>\n",
       "    <tr>\n",
       "      <th>2</th>\n",
       "      <td>Rooms</td>\n",
       "      <td>object</td>\n",
       "      <td>0</td>\n",
       "      <td>0.0</td>\n",
       "      <td>43</td>\n",
       "      <td>[4+2, 14]</td>\n",
       "    </tr>\n",
       "    <tr>\n",
       "      <th>3</th>\n",
       "      <td>Bathrooms</td>\n",
       "      <td>float64</td>\n",
       "      <td>0</td>\n",
       "      <td>0.0</td>\n",
       "      <td>17</td>\n",
       "      <td>[10.0, 7.0]</td>\n",
       "    </tr>\n",
       "    <tr>\n",
       "      <th>4</th>\n",
       "      <td>Property Type</td>\n",
       "      <td>object</td>\n",
       "      <td>0</td>\n",
       "      <td>0.0</td>\n",
       "      <td>94</td>\n",
       "      <td>[Residential Land (Intermediate), Apartment (P...</td>\n",
       "    </tr>\n",
       "    <tr>\n",
       "      <th>5</th>\n",
       "      <td>Size</td>\n",
       "      <td>object</td>\n",
       "      <td>0</td>\n",
       "      <td>0.0</td>\n",
       "      <td>5427</td>\n",
       "      <td>[Built-up : 4,123 sq. ft., Land area : 3926 sq...</td>\n",
       "    </tr>\n",
       "    <tr>\n",
       "      <th>6</th>\n",
       "      <td>Furnishing</td>\n",
       "      <td>object</td>\n",
       "      <td>0</td>\n",
       "      <td>0.0</td>\n",
       "      <td>4</td>\n",
       "      <td>[Partly Furnished, Unknown]</td>\n",
       "    </tr>\n",
       "  </tbody>\n",
       "</table>\n",
       "</div>"
      ],
      "text/plain": [
       "    dataFeatures dataType  null  nullPct  unique  \\\n",
       "0       Location   object     0      0.0      98   \n",
       "1          Price   object     0      0.0    3634   \n",
       "2          Rooms   object     0      0.0      43   \n",
       "3      Bathrooms  float64     0      0.0      17   \n",
       "4  Property Type   object     0      0.0      94   \n",
       "5           Size   object     0      0.0    5427   \n",
       "6     Furnishing   object     0      0.0       4   \n",
       "\n",
       "                                        uniqueSample  \n",
       "0  [Taman Melawati, Kuala Lumpur, Jalan Kuching, ...  \n",
       "1                       [RM 2,716,200, RM 4,286,400]  \n",
       "2                                          [4+2, 14]  \n",
       "3                                        [10.0, 7.0]  \n",
       "4  [Residential Land (Intermediate), Apartment (P...  \n",
       "5  [Built-up : 4,123 sq. ft., Land area : 3926 sq...  \n",
       "6                        [Partly Furnished, Unknown]  "
      ]
     },
     "execution_count": 7,
     "metadata": {},
     "output_type": "execute_result"
    }
   ],
   "source": [
    "df.dropna(subset=['Price','Rooms','Bathrooms','Property Type','Size','Furnishing'],inplace=True)\n",
    "df.drop(['Car Parks'],axis=1,inplace=True)\n",
    "listItem = []\n",
    "for col in df.columns :\n",
    "    listItem.append([col, df[col].dtype, df[col].isna().sum(), round((df[col].isna().sum()/len(df[col])) * 100,2),\n",
    "                    df[col].nunique(), list(df[col].drop_duplicates().sample(2).values)]);\n",
    "\n",
    "dfDesc = pd.DataFrame(columns=['dataFeatures', 'dataType', 'null', 'nullPct', 'unique', 'uniqueSample'],\n",
    "                     data=listItem)\n",
    "dfDesc"
   ]
  },
  {
   "cell_type": "markdown",
   "metadata": {},
   "source": [
    "### 2.2 Location Colomn"
   ]
  },
  {
   "cell_type": "markdown",
   "metadata": {},
   "source": [
    "> Location Selection, only select location which has a value counts more than 100"
   ]
  },
  {
   "cell_type": "code",
   "execution_count": 8,
   "metadata": {},
   "outputs": [],
   "source": [
    "df['Location'] = df['Location'].str.lower()\n",
    "df['Location'] = df['Location'].str.replace(', kuala lumpur','')"
   ]
  },
  {
   "cell_type": "code",
   "execution_count": 9,
   "metadata": {},
   "outputs": [
    {
     "data": {
      "text/plain": [
       "97"
      ]
     },
     "execution_count": 9,
     "metadata": {},
     "output_type": "execute_result"
    }
   ],
   "source": [
    "len(sorted(df['Location'].unique()))"
   ]
  },
  {
   "cell_type": "code",
   "execution_count": 10,
   "metadata": {},
   "outputs": [],
   "source": [
    "vc_location = df['Location'].value_counts()\n",
    "list_location_to_remove = vc_location[vc_location < 100].index\n",
    "index_to_remove = df.loc[np.isin(df[\"Location\"], list_location_to_remove)].index\n",
    "df.drop(index_to_remove , inplace=True)\n",
    "df.reset_index(drop=True,inplace=True)"
   ]
  },
  {
   "cell_type": "code",
   "execution_count": 11,
   "metadata": {},
   "outputs": [
    {
     "data": {
      "text/plain": [
       "48"
      ]
     },
     "execution_count": 11,
     "metadata": {},
     "output_type": "execute_result"
    }
   ],
   "source": [
    "len(df['Location'].value_counts())"
   ]
  },
  {
   "cell_type": "markdown",
   "metadata": {},
   "source": [
    "### 2.3 Price Colomn Cleaning"
   ]
  },
  {
   "cell_type": "markdown",
   "metadata": {},
   "source": [
    "> Formatting the Price"
   ]
  },
  {
   "cell_type": "code",
   "execution_count": 12,
   "metadata": {},
   "outputs": [],
   "source": [
    "df['Price'] = df['Price'].str.replace('RM ', '')\n",
    "df['Price'] = df['Price'].str.replace(',','')\n",
    "df['Price'] = pd.to_numeric(df['Price'])"
   ]
  },
  {
   "cell_type": "markdown",
   "metadata": {},
   "source": [
    "> Handle Outlier Data With IQR Method"
   ]
  },
  {
   "cell_type": "code",
   "execution_count": 13,
   "metadata": {},
   "outputs": [],
   "source": [
    "pd.set_option('display.float_format', lambda x: '%.5f' % x)"
   ]
  },
  {
   "cell_type": "code",
   "execution_count": 14,
   "metadata": {},
   "outputs": [
    {
     "data": {
      "text/plain": [
       "count        44636.00000\n",
       "mean       1787142.44146\n",
       "std        7958177.81104\n",
       "min            308.00000\n",
       "25%         598000.00000\n",
       "50%         999999.50000\n",
       "75%        1930000.00000\n",
       "max     1600000000.00000\n",
       "Name: Price, dtype: float64"
      ]
     },
     "execution_count": 14,
     "metadata": {},
     "output_type": "execute_result"
    }
   ],
   "source": [
    "df[\"Price\"].describe()"
   ]
  },
  {
   "cell_type": "code",
   "execution_count": 15,
   "metadata": {},
   "outputs": [],
   "source": [
    "def check_outlier(dataframe, col):\n",
    "    q1 = dataframe[col].quantile(0.25)\n",
    "    q3 = dataframe[col].quantile(0.75)\n",
    "    iqr = q3-q1\n",
    "    upper_limit = q3 + (1.5 * iqr)\n",
    "    lower_limit = q1 - (1.5 * iqr)\n",
    "    return dataframe[(dataframe[col] < lower_limit) | (dataframe[col] > upper_limit)].index ,upper_limit,lower_limit\n",
    "id_to_drop,upper,lower = check_outlier(df,'Price')\n",
    "df.drop(id_to_drop,inplace=True)"
   ]
  },
  {
   "cell_type": "code",
   "execution_count": 16,
   "metadata": {},
   "outputs": [
    {
     "data": {
      "text/plain": [
       "<matplotlib.axes._subplots.AxesSubplot at 0x13cc4aef860>"
      ]
     },
     "execution_count": 16,
     "metadata": {},
     "output_type": "execute_result"
    },
    {
     "data": {
      "image/png": "[encoded data removed]",
      "text/plain": [
       "<Figure size 432x288 with 1 Axes>"
      ]
     },
     "metadata": {
      "needs_background": "light"
     },
     "output_type": "display_data"
    }
   ],
   "source": [
    "df['Price'].hist()"
   ]
  },
  {
   "cell_type": "markdown",
   "metadata": {},
   "source": [
    "### 2.4 Rooms Colomn Cleaning"
   ]
  },
  {
   "cell_type": "code",
   "execution_count": 17,
   "metadata": {},
   "outputs": [
    {
     "data": {
      "text/plain": [
       "0    2+1\n",
       "2      3\n",
       "3    4+1\n",
       "5      5\n",
       "6    4+1\n",
       "Name: Rooms, dtype: object"
      ]
     },
     "execution_count": 17,
     "metadata": {},
     "output_type": "execute_result"
    }
   ],
   "source": [
    "df['Rooms'][0:5]"
   ]
  },
  {
   "cell_type": "markdown",
   "metadata": {},
   "source": [
    "> Convert Room"
   ]
  },
  {
   "cell_type": "code",
   "execution_count": 18,
   "metadata": {},
   "outputs": [],
   "source": [
    "import re"
   ]
  },
  {
   "cell_type": "code",
   "execution_count": 19,
   "metadata": {},
   "outputs": [],
   "source": [
    "def convert_room(rooms):\n",
    "        if rooms.endswith(\"+\"):\n",
    "            return int(rooms[:-1])\n",
    "        if re.search(\"[0-9]+\\+[0-9]+\", rooms) is not None:\n",
    "            tmp = rooms.split(\"+\")\n",
    "            return int(tmp[0]) + int(tmp[1])\n",
    "        if rooms == \"20 Above\":\n",
    "            return 20\n",
    "        if rooms == \"Studio\":\n",
    "            return 1\n",
    "        return rooms"
   ]
  },
  {
   "cell_type": "code",
   "execution_count": 20,
   "metadata": {},
   "outputs": [],
   "source": [
    "df['Rooms'] = pd.to_numeric(df['Rooms'].apply(convert_room))"
   ]
  },
  {
   "cell_type": "code",
   "execution_count": 21,
   "metadata": {},
   "outputs": [
    {
     "data": {
      "text/plain": [
       "<matplotlib.axes._subplots.AxesSubplot at 0x13cc1e146a0>"
      ]
     },
     "execution_count": 21,
     "metadata": {},
     "output_type": "execute_result"
    },
    {
     "data": {
      "image/png": "[encoded data removed]",
      "text/plain": [
       "<Figure size 432x288 with 1 Axes>"
      ]
     },
     "metadata": {
      "needs_background": "light"
     },
     "output_type": "display_data"
    }
   ],
   "source": [
    "df['Rooms'].hist()"
   ]
  },
  {
   "cell_type": "markdown",
   "metadata": {},
   "source": [
    "### 2.5 Handling Bathrooms Colomn "
   ]
  },
  {
   "cell_type": "code",
   "execution_count": 22,
   "metadata": {},
   "outputs": [],
   "source": [
    "def to_int(x):\n",
    "    return int(x)"
   ]
  },
  {
   "cell_type": "code",
   "execution_count": 23,
   "metadata": {},
   "outputs": [],
   "source": [
    "df['Bathrooms'] = df['Bathrooms'].apply(to_int)"
   ]
  },
  {
   "cell_type": "code",
   "execution_count": 24,
   "metadata": {},
   "outputs": [
    {
     "data": {
      "text/plain": [
       "<matplotlib.axes._subplots.AxesSubplot at 0x13cc333bb70>"
      ]
     },
     "execution_count": 24,
     "metadata": {},
     "output_type": "execute_result"
    },
    {
     "data": {
      "image/png": "[encoded data removed]",
      "text/plain": [
       "<Figure size 432x288 with 1 Axes>"
      ]
     },
     "metadata": {
      "needs_background": "light"
     },
     "output_type": "display_data"
    }
   ],
   "source": [
    "df['Bathrooms'].hist()"
   ]
  },
  {
   "cell_type": "markdown",
   "metadata": {},
   "source": [
    "### 2.6 Handling Property Type"
   ]
  },
  {
   "cell_type": "code",
   "execution_count": 25,
   "metadata": {},
   "outputs": [],
   "source": [
    "def simplify_property_type(prop_type):\n",
    "    super_types = [\n",
    "        \"Terrace/Link House\", \"Serviced Residence\", \"Condominium\", \n",
    "        \"Semi-detached House\", \"Bungalow\", \"Apartment\", \"Townhouse\", \n",
    "        \"Flat\", \"Residential Land\", \"Cluster House\"]\n",
    "    for super_type in super_types:\n",
    "        if re.search(super_type, prop_type, flags=re.IGNORECASE) is not None:\n",
    "            return super_type\n",
    "    \n",
    "    return prop_type"
   ]
  },
  {
   "cell_type": "code",
   "execution_count": 26,
   "metadata": {},
   "outputs": [],
   "source": [
    "df['Property Type Group'] = df['Property Type'].apply(simplify_property_type)"
   ]
  },
  {
   "cell_type": "code",
   "execution_count": 27,
   "metadata": {},
   "outputs": [
    {
     "data": {
      "text/plain": [
       "Condominium            18986\n",
       "Serviced Residence     11032\n",
       "Terrace/Link House      6289\n",
       "Semi-detached House     1458\n",
       "Apartment               1324\n",
       "Bungalow                 743\n",
       "Townhouse                441\n",
       "Flat                     232\n",
       "Residential Land          13\n",
       "Cluster House              5\n",
       "Name: Property Type Group, dtype: int64"
      ]
     },
     "execution_count": 27,
     "metadata": {},
     "output_type": "execute_result"
    }
   ],
   "source": [
    "df['Property Type Group'].value_counts()"
   ]
  },
  {
   "cell_type": "markdown",
   "metadata": {},
   "source": [
    "> Deleting the data with Property type group Residental Land and Cluster House, because this group too small"
   ]
  },
  {
   "cell_type": "code",
   "execution_count": 28,
   "metadata": {},
   "outputs": [],
   "source": [
    "df.drop(df[(df['Property Type Group'] == 'Residential Land') | (df['Property Type Group'] == 'Cluster House')].index,inplace=True)"
   ]
  },
  {
   "cell_type": "markdown",
   "metadata": {},
   "source": [
    "### 2.7 Size Colomn"
   ]
  },
  {
   "cell_type": "code",
   "execution_count": 29,
   "metadata": {},
   "outputs": [],
   "source": [
    "def size_type(size):\n",
    "    size = size.split(':')\n",
    "    size_type = size[0]\n",
    "    return size_type\n",
    "\n",
    "def size_num(size):\n",
    "    size = size.split(':')\n",
    "    size_num = size[1]\n",
    "    size_num = size_num.replace(' sq. ft.','')\n",
    "    size_num = size_num.lower()\n",
    "    size_num = size_num.replace(' ','')\n",
    "    size_num = size_num.replace('sf','')\n",
    "    if 'x' in size_num:\n",
    "        num = size_num.split('x')\n",
    "        try:\n",
    "            return int(num[0]) * int(num[1])\n",
    "        except:\n",
    "            return None\n",
    "    try:\n",
    "        return int(size_num.replace(',',''))\n",
    "    except:\n",
    "        return None"
   ]
  },
  {
   "cell_type": "code",
   "execution_count": 30,
   "metadata": {},
   "outputs": [],
   "source": [
    "df['Size Type'] = df['Size'].apply(size_type)"
   ]
  },
  {
   "cell_type": "code",
   "execution_count": 31,
   "metadata": {},
   "outputs": [],
   "source": [
    "df['Size Num'] = df['Size'].apply(size_num)"
   ]
  },
  {
   "cell_type": "markdown",
   "metadata": {},
   "source": [
    "> Outlier Checking"
   ]
  },
  {
   "cell_type": "code",
   "execution_count": 32,
   "metadata": {},
   "outputs": [
    {
     "data": {
      "text/plain": [
       "count      40210.00000\n",
       "mean        3617.94332\n",
       "std       230404.95272\n",
       "min            0.00000\n",
       "25%          990.00000\n",
       "50%         1328.00000\n",
       "75%         1876.00000\n",
       "max     40232000.00000\n",
       "Name: Size Num, dtype: float64"
      ]
     },
     "execution_count": 32,
     "metadata": {},
     "output_type": "execute_result"
    }
   ],
   "source": [
    "df['Size Num'].describe()"
   ]
  },
  {
   "cell_type": "code",
   "execution_count": 33,
   "metadata": {},
   "outputs": [],
   "source": [
    "df.drop(df[df['Size Num'] < 100].index,inplace=True)\n",
    "index,upper,lower= check_outlier(df,'Size Num')\n",
    "df.drop(index,inplace=True)\n",
    "df.dropna(inplace=True)"
   ]
  },
  {
   "cell_type": "code",
   "execution_count": 34,
   "metadata": {},
   "outputs": [
    {
     "data": {
      "text/html": [
       "<div>\n",
       "<style scoped>\n",
       "    .dataframe tbody tr th:only-of-type {\n",
       "        vertical-align: middle;\n",
       "    }\n",
       "\n",
       "    .dataframe tbody tr th {\n",
       "        vertical-align: top;\n",
       "    }\n",
       "\n",
       "    .dataframe thead th {\n",
       "        text-align: right;\n",
       "    }\n",
       "</style>\n",
       "<table border=\"1\" class=\"dataframe\">\n",
       "  <thead>\n",
       "    <tr style=\"text-align: right;\">\n",
       "      <th></th>\n",
       "      <th>Location</th>\n",
       "      <th>Price</th>\n",
       "      <th>Rooms</th>\n",
       "      <th>Bathrooms</th>\n",
       "      <th>Property Type</th>\n",
       "      <th>Size</th>\n",
       "      <th>Furnishing</th>\n",
       "      <th>Property Type Group</th>\n",
       "      <th>Size Type</th>\n",
       "      <th>Size Num</th>\n",
       "    </tr>\n",
       "  </thead>\n",
       "  <tbody>\n",
       "    <tr>\n",
       "      <th>0</th>\n",
       "      <td>klcc</td>\n",
       "      <td>1250000</td>\n",
       "      <td>3</td>\n",
       "      <td>3</td>\n",
       "      <td>Serviced Residence</td>\n",
       "      <td>Built-up : 1,335 sq. ft.</td>\n",
       "      <td>Fully Furnished</td>\n",
       "      <td>Serviced Residence</td>\n",
       "      <td>Built-up</td>\n",
       "      <td>1335.00000</td>\n",
       "    </tr>\n",
       "    <tr>\n",
       "      <th>2</th>\n",
       "      <td>dutamas</td>\n",
       "      <td>1030000</td>\n",
       "      <td>3</td>\n",
       "      <td>4</td>\n",
       "      <td>Condominium (Corner)</td>\n",
       "      <td>Built-up : 1,875 sq. ft.</td>\n",
       "      <td>Partly Furnished</td>\n",
       "      <td>Condominium</td>\n",
       "      <td>Built-up</td>\n",
       "      <td>1875.00000</td>\n",
       "    </tr>\n",
       "    <tr>\n",
       "      <th>3</th>\n",
       "      <td>bukit jalil</td>\n",
       "      <td>900000</td>\n",
       "      <td>5</td>\n",
       "      <td>3</td>\n",
       "      <td>Condominium (Corner)</td>\n",
       "      <td>Built-up : 1,513 sq. ft.</td>\n",
       "      <td>Partly Furnished</td>\n",
       "      <td>Condominium</td>\n",
       "      <td>Built-up</td>\n",
       "      <td>1513.00000</td>\n",
       "    </tr>\n",
       "    <tr>\n",
       "      <th>6</th>\n",
       "      <td>taman tun dr ismail</td>\n",
       "      <td>1950000</td>\n",
       "      <td>5</td>\n",
       "      <td>4</td>\n",
       "      <td>2-sty Terrace/Link House (EndLot)</td>\n",
       "      <td>Land area : 25x75 sq. ft.</td>\n",
       "      <td>Partly Furnished</td>\n",
       "      <td>Terrace/Link House</td>\n",
       "      <td>Land area</td>\n",
       "      <td>1875.00000</td>\n",
       "    </tr>\n",
       "    <tr>\n",
       "      <th>7</th>\n",
       "      <td>sri petaling</td>\n",
       "      <td>385000</td>\n",
       "      <td>3</td>\n",
       "      <td>2</td>\n",
       "      <td>Apartment (Intermediate)</td>\n",
       "      <td>Built-up : 904 sq. ft.</td>\n",
       "      <td>Partly Furnished</td>\n",
       "      <td>Apartment</td>\n",
       "      <td>Built-up</td>\n",
       "      <td>904.00000</td>\n",
       "    </tr>\n",
       "  </tbody>\n",
       "</table>\n",
       "</div>"
      ],
      "text/plain": [
       "              Location    Price  Rooms  Bathrooms  \\\n",
       "0                 klcc  1250000      3          3   \n",
       "2              dutamas  1030000      3          4   \n",
       "3          bukit jalil   900000      5          3   \n",
       "6  taman tun dr ismail  1950000      5          4   \n",
       "7         sri petaling   385000      3          2   \n",
       "\n",
       "                       Property Type                       Size  \\\n",
       "0                 Serviced Residence   Built-up : 1,335 sq. ft.   \n",
       "2               Condominium (Corner)   Built-up : 1,875 sq. ft.   \n",
       "3               Condominium (Corner)   Built-up : 1,513 sq. ft.   \n",
       "6  2-sty Terrace/Link House (EndLot)  Land area : 25x75 sq. ft.   \n",
       "7           Apartment (Intermediate)     Built-up : 904 sq. ft.   \n",
       "\n",
       "         Furnishing Property Type Group   Size Type   Size Num  \n",
       "0   Fully Furnished  Serviced Residence   Built-up  1335.00000  \n",
       "2  Partly Furnished         Condominium   Built-up  1875.00000  \n",
       "3  Partly Furnished         Condominium   Built-up  1513.00000  \n",
       "6  Partly Furnished  Terrace/Link House  Land area  1875.00000  \n",
       "7  Partly Furnished           Apartment   Built-up   904.00000  "
      ]
     },
     "execution_count": 34,
     "metadata": {},
     "output_type": "execute_result"
    }
   ],
   "source": [
    "df.head()"
   ]
  },
  {
   "cell_type": "markdown",
   "metadata": {},
   "source": [
    "### 2.8 Furnishing Colomn Handling"
   ]
  },
  {
   "cell_type": "code",
   "execution_count": 35,
   "metadata": {},
   "outputs": [
    {
     "data": {
      "text/plain": [
       "Partly Furnished    19492\n",
       "Fully Furnished     11773\n",
       "Unfurnished          4379\n",
       "Unknown               370\n",
       "Name: Furnishing, dtype: int64"
      ]
     },
     "execution_count": 35,
     "metadata": {},
     "output_type": "execute_result"
    }
   ],
   "source": [
    "df['Furnishing'].value_counts()"
   ]
  },
  {
   "cell_type": "markdown",
   "metadata": {},
   "source": [
    "## 3.  Modelling"
   ]
  },
  {
   "cell_type": "markdown",
   "metadata": {},
   "source": [
    "### 3.1 First Modelling"
   ]
  },
  {
   "cell_type": "code",
   "execution_count": 36,
   "metadata": {},
   "outputs": [],
   "source": [
    "from sklearn.model_selection import KFold"
   ]
  },
  {
   "cell_type": "code",
   "execution_count": 37,
   "metadata": {},
   "outputs": [],
   "source": [
    "from sklearn.linear_model import LinearRegression,Lasso,Ridge\n",
    "from sklearn.tree import DecisionTreeRegressor\n",
    "from sklearn.ensemble import RandomForestRegressor,GradientBoostingRegressor\n",
    "from sklearn.metrics import mean_absolute_error,mean_squared_error,r2_score"
   ]
  },
  {
   "cell_type": "code",
   "execution_count": 38,
   "metadata": {},
   "outputs": [],
   "source": [
    "x = df[['Location','Rooms','Bathrooms','Furnishing','Property Type Group','Size Type','Size Num']]\n",
    "y = df['Price']"
   ]
  },
  {
   "cell_type": "code",
   "execution_count": 39,
   "metadata": {},
   "outputs": [],
   "source": [
    "x = pd.get_dummies(x,drop_first=True)"
   ]
  },
  {
   "cell_type": "code",
   "execution_count": 40,
   "metadata": {},
   "outputs": [],
   "source": [
    "def regression_model(n_cv):\n",
    "    score = []\n",
    "    model_name = ['Linear Regression','Lasso','Ridge','DecisionTreeRegressor','RandomForestRegressor','GradientBoostingRegressor']\n",
    "    models = [LinearRegression,Lasso,Ridge,DecisionTreeRegressor,RandomForestRegressor,GradientBoostingRegressor]\n",
    "    for item in models:\n",
    "        rmse = []\n",
    "        mae = []\n",
    "        kf = KFold(n_splits=n_cv,shuffle=True)\n",
    "        for train_index , test_index in kf.split(x,y):\n",
    "            X_train,X_test,y_train,y_test = x.iloc[train_index],x.iloc[test_index],y.iloc[train_index],y.iloc[test_index]\n",
    "            model = item()\n",
    "            model.fit(X_train,y_train)\n",
    "            prediction = model.predict(X_test)\n",
    "            mae.append(round(mean_absolute_error(y_test,prediction),2))\n",
    "            rmse.append(round(np.sqrt(mean_squared_error(y_test,prediction)),2))\n",
    "\n",
    "        temp = [\n",
    "            sum(mae)/n_cv,\n",
    "            sum(rmse)/n_cv\n",
    "        ]\n",
    "        score.append(temp)\n",
    "    return pd.DataFrame(score,columns=['MAE','RMSE'],index=model_name)"
   ]
  },
  {
   "cell_type": "code",
   "execution_count": 41,
   "metadata": {},
   "outputs": [],
   "source": [
    "# regression_model(5)"
   ]
  },
  {
   "cell_type": "markdown",
   "metadata": {},
   "source": [
    "### 3.2 Second Modelling"
   ]
  },
  {
   "cell_type": "code",
   "execution_count": 42,
   "metadata": {},
   "outputs": [],
   "source": [
    "x_y = df[['Location','Rooms','Bathrooms','Furnishing','Property Type Group','Size Type','Size Num','Price']]\n",
    "x_y = x_y[x_y['Price'] < 1200000]"
   ]
  },
  {
   "cell_type": "code",
   "execution_count": 43,
   "metadata": {},
   "outputs": [],
   "source": [
    "x_y = x_y[x_y['Price'] > 20000]"
   ]
  },
  {
   "cell_type": "code",
   "execution_count": 44,
   "metadata": {},
   "outputs": [],
   "source": [
    "x_y = x_y.drop(x_y[x_y['Furnishing'] == 'Unknown'].index)\n",
    "x = x_y.drop(['Price'],axis=1)\n",
    "y = x_y['Price']\n"
   ]
  },
  {
   "cell_type": "code",
   "execution_count": 45,
   "metadata": {},
   "outputs": [],
   "source": [
    "x =pd.get_dummies(x,drop_first=True)"
   ]
  },
  {
   "cell_type": "code",
   "execution_count": 46,
   "metadata": {},
   "outputs": [],
   "source": [
    "# regression_model(5)"
   ]
  },
  {
   "cell_type": "code",
   "execution_count": null,
   "metadata": {},
   "outputs": [],
   "source": []
  },
  {
   "cell_type": "code",
   "execution_count": 47,
   "metadata": {},
   "outputs": [],
   "source": [
    "from sklearn.model_selection import train_test_split"
   ]
  },
  {
   "cell_type": "code",
   "execution_count": 48,
   "metadata": {},
   "outputs": [],
   "source": [
    "X_train,X_test, y_train,y_test = train_test_split(x,y)"
   ]
  },
  {
   "cell_type": "code",
   "execution_count": 49,
   "metadata": {},
   "outputs": [],
   "source": [
    "model = RandomForestRegressor()"
   ]
  },
  {
   "cell_type": "code",
   "execution_count": 50,
   "metadata": {},
   "outputs": [
    {
     "name": "stderr",
     "output_type": "stream",
     "text": [
      "C:\\ProgramData\\Anaconda3\\lib\\site-packages\\sklearn\\ensemble\\forest.py:246: FutureWarning: The default value of n_estimators will change from 10 in version 0.20 to 100 in 0.22.\n",
      "  \"10 in version 0.20 to 100 in 0.22.\", FutureWarning)\n"
     ]
    },
    {
     "data": {
      "text/plain": [
       "RandomForestRegressor(bootstrap=True, criterion='mse', max_depth=None,\n",
       "           max_features='auto', max_leaf_nodes=None,\n",
       "           min_impurity_decrease=0.0, min_impurity_split=None,\n",
       "           min_samples_leaf=1, min_samples_split=2,\n",
       "           min_weight_fraction_leaf=0.0, n_estimators=10, n_jobs=None,\n",
       "           oob_score=False, random_state=None, verbose=0, warm_start=False)"
      ]
     },
     "execution_count": 50,
     "metadata": {},
     "output_type": "execute_result"
    }
   ],
   "source": [
    "model.fit(X_train,y_train)"
   ]
  },
  {
   "cell_type": "code",
   "execution_count": 51,
   "metadata": {},
   "outputs": [],
   "source": [
    "prediction = model.predict(X_test)"
   ]
  },
  {
   "cell_type": "code",
   "execution_count": 52,
   "metadata": {},
   "outputs": [
    {
     "data": {
      "text/plain": [
       "<matplotlib.axes._subplots.AxesSubplot at 0x13cc5ad4780>"
      ]
     },
     "execution_count": 52,
     "metadata": {},
     "output_type": "execute_result"
    },
    {
     "data": {
      "image/png": "[encoded data removed]",
      "text/plain": [
       "<Figure size 1080x576 with 1 Axes>"
      ]
     },
     "metadata": {
      "needs_background": "light"
     },
     "output_type": "display_data"
    }
   ],
   "source": [
    "plt.figure(figsize=(15,8))\n",
    "sns.scatterplot(prediction,y_test)"
   ]
  },
  {
   "cell_type": "code",
   "execution_count": 53,
   "metadata": {},
   "outputs": [],
   "source": [
    "df_prediction = pd.DataFrame({'y_true' : y_test , 'y_pred' : prediction})\n",
    "df_prediction['Selisih'] = abs(df_prediction['y_true'] - df_prediction['y_pred'])"
   ]
  },
  {
   "cell_type": "code",
   "execution_count": 54,
   "metadata": {},
   "outputs": [
    {
     "data": {
      "text/html": [
       "<div>\n",
       "<style scoped>\n",
       "    .dataframe tbody tr th:only-of-type {\n",
       "        vertical-align: middle;\n",
       "    }\n",
       "\n",
       "    .dataframe tbody tr th {\n",
       "        vertical-align: top;\n",
       "    }\n",
       "\n",
       "    .dataframe thead th {\n",
       "        text-align: right;\n",
       "    }\n",
       "</style>\n",
       "<table border=\"1\" class=\"dataframe\">\n",
       "  <thead>\n",
       "    <tr style=\"text-align: right;\">\n",
       "      <th></th>\n",
       "      <th>y_true</th>\n",
       "      <th>y_pred</th>\n",
       "      <th>Selisih</th>\n",
       "    </tr>\n",
       "  </thead>\n",
       "  <tbody>\n",
       "    <tr>\n",
       "      <th>9923</th>\n",
       "      <td>1150864</td>\n",
       "      <td>507102.22222</td>\n",
       "      <td>643761.77778</td>\n",
       "    </tr>\n",
       "    <tr>\n",
       "      <th>9073</th>\n",
       "      <td>1100000</td>\n",
       "      <td>460600.00000</td>\n",
       "      <td>639400.00000</td>\n",
       "    </tr>\n",
       "    <tr>\n",
       "      <th>40383</th>\n",
       "      <td>350000</td>\n",
       "      <td>955552.75833</td>\n",
       "      <td>605552.75833</td>\n",
       "    </tr>\n",
       "    <tr>\n",
       "      <th>4380</th>\n",
       "      <td>1160000</td>\n",
       "      <td>573890.00000</td>\n",
       "      <td>586110.00000</td>\n",
       "    </tr>\n",
       "    <tr>\n",
       "      <th>35575</th>\n",
       "      <td>1050000</td>\n",
       "      <td>477700.00000</td>\n",
       "      <td>572300.00000</td>\n",
       "    </tr>\n",
       "    <tr>\n",
       "      <th>7424</th>\n",
       "      <td>1199494</td>\n",
       "      <td>630164.62204</td>\n",
       "      <td>569329.37796</td>\n",
       "    </tr>\n",
       "    <tr>\n",
       "      <th>15847</th>\n",
       "      <td>488000</td>\n",
       "      <td>1030000.00000</td>\n",
       "      <td>542000.00000</td>\n",
       "    </tr>\n",
       "    <tr>\n",
       "      <th>19834</th>\n",
       "      <td>450000</td>\n",
       "      <td>975475.10101</td>\n",
       "      <td>525475.10101</td>\n",
       "    </tr>\n",
       "    <tr>\n",
       "      <th>13147</th>\n",
       "      <td>1080000</td>\n",
       "      <td>570763.80952</td>\n",
       "      <td>509236.19048</td>\n",
       "    </tr>\n",
       "    <tr>\n",
       "      <th>39875</th>\n",
       "      <td>308000</td>\n",
       "      <td>803920.00000</td>\n",
       "      <td>495920.00000</td>\n",
       "    </tr>\n",
       "    <tr>\n",
       "      <th>17845</th>\n",
       "      <td>1050000</td>\n",
       "      <td>556166.66667</td>\n",
       "      <td>493833.33333</td>\n",
       "    </tr>\n",
       "    <tr>\n",
       "      <th>22627</th>\n",
       "      <td>399999</td>\n",
       "      <td>887931.00000</td>\n",
       "      <td>487932.00000</td>\n",
       "    </tr>\n",
       "    <tr>\n",
       "      <th>19334</th>\n",
       "      <td>1150000</td>\n",
       "      <td>666737.50000</td>\n",
       "      <td>483262.50000</td>\n",
       "    </tr>\n",
       "    <tr>\n",
       "      <th>27200</th>\n",
       "      <td>920000</td>\n",
       "      <td>442466.66667</td>\n",
       "      <td>477533.33333</td>\n",
       "    </tr>\n",
       "    <tr>\n",
       "      <th>15652</th>\n",
       "      <td>490000</td>\n",
       "      <td>964585.00000</td>\n",
       "      <td>474585.00000</td>\n",
       "    </tr>\n",
       "    <tr>\n",
       "      <th>37235</th>\n",
       "      <td>1151820</td>\n",
       "      <td>684330.00000</td>\n",
       "      <td>467490.00000</td>\n",
       "    </tr>\n",
       "    <tr>\n",
       "      <th>7599</th>\n",
       "      <td>635000</td>\n",
       "      <td>1090392.85714</td>\n",
       "      <td>455392.85714</td>\n",
       "    </tr>\n",
       "    <tr>\n",
       "      <th>11680</th>\n",
       "      <td>450000</td>\n",
       "      <td>904512.52381</td>\n",
       "      <td>454512.52381</td>\n",
       "    </tr>\n",
       "    <tr>\n",
       "      <th>17889</th>\n",
       "      <td>520000</td>\n",
       "      <td>964585.00000</td>\n",
       "      <td>444585.00000</td>\n",
       "    </tr>\n",
       "    <tr>\n",
       "      <th>1551</th>\n",
       "      <td>585000</td>\n",
       "      <td>1015000.00000</td>\n",
       "      <td>430000.00000</td>\n",
       "    </tr>\n",
       "    <tr>\n",
       "      <th>1703</th>\n",
       "      <td>768888</td>\n",
       "      <td>343250.00000</td>\n",
       "      <td>425638.00000</td>\n",
       "    </tr>\n",
       "    <tr>\n",
       "      <th>20904</th>\n",
       "      <td>628000</td>\n",
       "      <td>1045111.11111</td>\n",
       "      <td>417111.11111</td>\n",
       "    </tr>\n",
       "    <tr>\n",
       "      <th>1545</th>\n",
       "      <td>1000000</td>\n",
       "      <td>586583.33333</td>\n",
       "      <td>413416.66667</td>\n",
       "    </tr>\n",
       "    <tr>\n",
       "      <th>33747</th>\n",
       "      <td>630000</td>\n",
       "      <td>1043300.00000</td>\n",
       "      <td>413300.00000</td>\n",
       "    </tr>\n",
       "    <tr>\n",
       "      <th>30658</th>\n",
       "      <td>948800</td>\n",
       "      <td>536110.73517</td>\n",
       "      <td>412689.26483</td>\n",
       "    </tr>\n",
       "    <tr>\n",
       "      <th>19931</th>\n",
       "      <td>440000</td>\n",
       "      <td>851785.83333</td>\n",
       "      <td>411785.83333</td>\n",
       "    </tr>\n",
       "    <tr>\n",
       "      <th>25971</th>\n",
       "      <td>620000</td>\n",
       "      <td>1029166.66667</td>\n",
       "      <td>409166.66667</td>\n",
       "    </tr>\n",
       "    <tr>\n",
       "      <th>29895</th>\n",
       "      <td>529000</td>\n",
       "      <td>937800.00000</td>\n",
       "      <td>408800.00000</td>\n",
       "    </tr>\n",
       "    <tr>\n",
       "      <th>6162</th>\n",
       "      <td>360000</td>\n",
       "      <td>768000.00000</td>\n",
       "      <td>408000.00000</td>\n",
       "    </tr>\n",
       "    <tr>\n",
       "      <th>27354</th>\n",
       "      <td>488000</td>\n",
       "      <td>895420.00000</td>\n",
       "      <td>407420.00000</td>\n",
       "    </tr>\n",
       "    <tr>\n",
       "      <th>...</th>\n",
       "      <td>...</td>\n",
       "      <td>...</td>\n",
       "      <td>...</td>\n",
       "    </tr>\n",
       "    <tr>\n",
       "      <th>2966</th>\n",
       "      <td>550000</td>\n",
       "      <td>550000.00000</td>\n",
       "      <td>0.00000</td>\n",
       "    </tr>\n",
       "    <tr>\n",
       "      <th>23439</th>\n",
       "      <td>799000</td>\n",
       "      <td>799000.00000</td>\n",
       "      <td>0.00000</td>\n",
       "    </tr>\n",
       "    <tr>\n",
       "      <th>24519</th>\n",
       "      <td>350000</td>\n",
       "      <td>350000.00000</td>\n",
       "      <td>0.00000</td>\n",
       "    </tr>\n",
       "    <tr>\n",
       "      <th>20813</th>\n",
       "      <td>1120000</td>\n",
       "      <td>1120000.00000</td>\n",
       "      <td>0.00000</td>\n",
       "    </tr>\n",
       "    <tr>\n",
       "      <th>19917</th>\n",
       "      <td>360000</td>\n",
       "      <td>360000.00000</td>\n",
       "      <td>0.00000</td>\n",
       "    </tr>\n",
       "    <tr>\n",
       "      <th>5957</th>\n",
       "      <td>850000</td>\n",
       "      <td>850000.00000</td>\n",
       "      <td>0.00000</td>\n",
       "    </tr>\n",
       "    <tr>\n",
       "      <th>5455</th>\n",
       "      <td>510300</td>\n",
       "      <td>510300.00000</td>\n",
       "      <td>0.00000</td>\n",
       "    </tr>\n",
       "    <tr>\n",
       "      <th>25709</th>\n",
       "      <td>542700</td>\n",
       "      <td>542700.00000</td>\n",
       "      <td>0.00000</td>\n",
       "    </tr>\n",
       "    <tr>\n",
       "      <th>41457</th>\n",
       "      <td>990000</td>\n",
       "      <td>990000.00000</td>\n",
       "      <td>0.00000</td>\n",
       "    </tr>\n",
       "    <tr>\n",
       "      <th>30700</th>\n",
       "      <td>728000</td>\n",
       "      <td>728000.00000</td>\n",
       "      <td>0.00000</td>\n",
       "    </tr>\n",
       "    <tr>\n",
       "      <th>4463</th>\n",
       "      <td>510300</td>\n",
       "      <td>510300.00000</td>\n",
       "      <td>0.00000</td>\n",
       "    </tr>\n",
       "    <tr>\n",
       "      <th>15597</th>\n",
       "      <td>1120000</td>\n",
       "      <td>1120000.00000</td>\n",
       "      <td>0.00000</td>\n",
       "    </tr>\n",
       "    <tr>\n",
       "      <th>5946</th>\n",
       "      <td>510300</td>\n",
       "      <td>510300.00000</td>\n",
       "      <td>0.00000</td>\n",
       "    </tr>\n",
       "    <tr>\n",
       "      <th>25138</th>\n",
       "      <td>518000</td>\n",
       "      <td>518000.00000</td>\n",
       "      <td>0.00000</td>\n",
       "    </tr>\n",
       "    <tr>\n",
       "      <th>36111</th>\n",
       "      <td>850000</td>\n",
       "      <td>850000.00000</td>\n",
       "      <td>0.00000</td>\n",
       "    </tr>\n",
       "    <tr>\n",
       "      <th>39812</th>\n",
       "      <td>580000</td>\n",
       "      <td>580000.00000</td>\n",
       "      <td>0.00000</td>\n",
       "    </tr>\n",
       "    <tr>\n",
       "      <th>8877</th>\n",
       "      <td>561100</td>\n",
       "      <td>561100.00000</td>\n",
       "      <td>0.00000</td>\n",
       "    </tr>\n",
       "    <tr>\n",
       "      <th>26455</th>\n",
       "      <td>850000</td>\n",
       "      <td>850000.00000</td>\n",
       "      <td>0.00000</td>\n",
       "    </tr>\n",
       "    <tr>\n",
       "      <th>17793</th>\n",
       "      <td>500000</td>\n",
       "      <td>500000.00000</td>\n",
       "      <td>0.00000</td>\n",
       "    </tr>\n",
       "    <tr>\n",
       "      <th>43213</th>\n",
       "      <td>650000</td>\n",
       "      <td>650000.00000</td>\n",
       "      <td>0.00000</td>\n",
       "    </tr>\n",
       "    <tr>\n",
       "      <th>9187</th>\n",
       "      <td>650000</td>\n",
       "      <td>650000.00000</td>\n",
       "      <td>0.00000</td>\n",
       "    </tr>\n",
       "    <tr>\n",
       "      <th>4373</th>\n",
       "      <td>780000</td>\n",
       "      <td>780000.00000</td>\n",
       "      <td>0.00000</td>\n",
       "    </tr>\n",
       "    <tr>\n",
       "      <th>8598</th>\n",
       "      <td>500000</td>\n",
       "      <td>500000.00000</td>\n",
       "      <td>0.00000</td>\n",
       "    </tr>\n",
       "    <tr>\n",
       "      <th>13481</th>\n",
       "      <td>330000</td>\n",
       "      <td>330000.00000</td>\n",
       "      <td>0.00000</td>\n",
       "    </tr>\n",
       "    <tr>\n",
       "      <th>14527</th>\n",
       "      <td>1120000</td>\n",
       "      <td>1120000.00000</td>\n",
       "      <td>0.00000</td>\n",
       "    </tr>\n",
       "    <tr>\n",
       "      <th>33616</th>\n",
       "      <td>1120000</td>\n",
       "      <td>1120000.00000</td>\n",
       "      <td>0.00000</td>\n",
       "    </tr>\n",
       "    <tr>\n",
       "      <th>11523</th>\n",
       "      <td>550000</td>\n",
       "      <td>550000.00000</td>\n",
       "      <td>0.00000</td>\n",
       "    </tr>\n",
       "    <tr>\n",
       "      <th>24965</th>\n",
       "      <td>993000</td>\n",
       "      <td>993000.00000</td>\n",
       "      <td>0.00000</td>\n",
       "    </tr>\n",
       "    <tr>\n",
       "      <th>13913</th>\n",
       "      <td>730000</td>\n",
       "      <td>730000.00000</td>\n",
       "      <td>0.00000</td>\n",
       "    </tr>\n",
       "    <tr>\n",
       "      <th>25699</th>\n",
       "      <td>950000</td>\n",
       "      <td>950000.00000</td>\n",
       "      <td>0.00000</td>\n",
       "    </tr>\n",
       "  </tbody>\n",
       "</table>\n",
       "<p>6069 rows × 3 columns</p>\n",
       "</div>"
      ],
      "text/plain": [
       "        y_true        y_pred      Selisih\n",
       "9923   1150864  507102.22222 643761.77778\n",
       "9073   1100000  460600.00000 639400.00000\n",
       "40383   350000  955552.75833 605552.75833\n",
       "4380   1160000  573890.00000 586110.00000\n",
       "35575  1050000  477700.00000 572300.00000\n",
       "7424   1199494  630164.62204 569329.37796\n",
       "15847   488000 1030000.00000 542000.00000\n",
       "19834   450000  975475.10101 525475.10101\n",
       "13147  1080000  570763.80952 509236.19048\n",
       "39875   308000  803920.00000 495920.00000\n",
       "17845  1050000  556166.66667 493833.33333\n",
       "22627   399999  887931.00000 487932.00000\n",
       "19334  1150000  666737.50000 483262.50000\n",
       "27200   920000  442466.66667 477533.33333\n",
       "15652   490000  964585.00000 474585.00000\n",
       "37235  1151820  684330.00000 467490.00000\n",
       "7599    635000 1090392.85714 455392.85714\n",
       "11680   450000  904512.52381 454512.52381\n",
       "17889   520000  964585.00000 444585.00000\n",
       "1551    585000 1015000.00000 430000.00000\n",
       "1703    768888  343250.00000 425638.00000\n",
       "20904   628000 1045111.11111 417111.11111\n",
       "1545   1000000  586583.33333 413416.66667\n",
       "33747   630000 1043300.00000 413300.00000\n",
       "30658   948800  536110.73517 412689.26483\n",
       "19931   440000  851785.83333 411785.83333\n",
       "25971   620000 1029166.66667 409166.66667\n",
       "29895   529000  937800.00000 408800.00000\n",
       "6162    360000  768000.00000 408000.00000\n",
       "27354   488000  895420.00000 407420.00000\n",
       "...        ...           ...          ...\n",
       "2966    550000  550000.00000      0.00000\n",
       "23439   799000  799000.00000      0.00000\n",
       "24519   350000  350000.00000      0.00000\n",
       "20813  1120000 1120000.00000      0.00000\n",
       "19917   360000  360000.00000      0.00000\n",
       "5957    850000  850000.00000      0.00000\n",
       "5455    510300  510300.00000      0.00000\n",
       "25709   542700  542700.00000      0.00000\n",
       "41457   990000  990000.00000      0.00000\n",
       "30700   728000  728000.00000      0.00000\n",
       "4463    510300  510300.00000      0.00000\n",
       "15597  1120000 1120000.00000      0.00000\n",
       "5946    510300  510300.00000      0.00000\n",
       "25138   518000  518000.00000      0.00000\n",
       "36111   850000  850000.00000      0.00000\n",
       "39812   580000  580000.00000      0.00000\n",
       "8877    561100  561100.00000      0.00000\n",
       "26455   850000  850000.00000      0.00000\n",
       "17793   500000  500000.00000      0.00000\n",
       "43213   650000  650000.00000      0.00000\n",
       "9187    650000  650000.00000      0.00000\n",
       "4373    780000  780000.00000      0.00000\n",
       "8598    500000  500000.00000      0.00000\n",
       "13481   330000  330000.00000      0.00000\n",
       "14527  1120000 1120000.00000      0.00000\n",
       "33616  1120000 1120000.00000      0.00000\n",
       "11523   550000  550000.00000      0.00000\n",
       "24965   993000  993000.00000      0.00000\n",
       "13913   730000  730000.00000      0.00000\n",
       "25699   950000  950000.00000      0.00000\n",
       "\n",
       "[6069 rows x 3 columns]"
      ]
     },
     "execution_count": 54,
     "metadata": {},
     "output_type": "execute_result"
    }
   ],
   "source": [
    "df_prediction.sort_values(by='Selisih',ascending=False)"
   ]
  },
  {
   "cell_type": "code",
   "execution_count": 55,
   "metadata": {},
   "outputs": [
    {
     "data": {
      "text/plain": [
       "60022.69845758582"
      ]
     },
     "execution_count": 55,
     "metadata": {},
     "output_type": "execute_result"
    }
   ],
   "source": [
    "mean_absolute_error(y_test,prediction)"
   ]
  },
  {
   "cell_type": "code",
   "execution_count": 56,
   "metadata": {},
   "outputs": [
    {
     "data": {
      "text/plain": [
       "0.8485389569903663"
      ]
     },
     "execution_count": 56,
     "metadata": {},
     "output_type": "execute_result"
    }
   ],
   "source": [
    "r2_score(y_test,prediction)"
   ]
  },
  {
   "cell_type": "code",
   "execution_count": 57,
   "metadata": {},
   "outputs": [
    {
     "data": {
      "text/plain": [
       "<matplotlib.axes._subplots.AxesSubplot at 0x13cc6dd9f98>"
      ]
     },
     "execution_count": 57,
     "metadata": {},
     "output_type": "execute_result"
    },
    {
     "data": {
      "image/png": "[encoded data removed]",
      "text/plain": [
       "<Figure size 1080x1080 with 1 Axes>"
      ]
     },
     "metadata": {
      "needs_background": "light"
     },
     "output_type": "display_data"
    }
   ],
   "source": [
    "plt.figure(figsize=(15,15))\n",
    "feature_importance = pd.Series(model.feature_importances_,index=x.columns).sort_values(ascending=False).head(10)\n",
    "sns.barplot(x=feature_importance.values , y = feature_importance.index)"
   ]
  },
  {
   "cell_type": "markdown",
   "metadata": {},
   "source": [
    "## Export Model"
   ]
  },
  {
   "cell_type": "code",
   "execution_count": 58,
   "metadata": {},
   "outputs": [],
   "source": [
    "import pickle"
   ]
  },
  {
   "cell_type": "code",
   "execution_count": 59,
   "metadata": {},
   "outputs": [],
   "source": [
    "filename = 'finalized_model.sav'\n",
    "pickle.dump(model, open(filename, 'wb'))"
   ]
  },
  {
   "cell_type": "code",
   "execution_count": 60,
   "metadata": {},
   "outputs": [
    {
     "data": {
      "text/plain": [
       "Index(['Location', 'Rooms', 'Bathrooms', 'Furnishing', 'Property Type Group',\n",
       "       'Size Type', 'Size Num', 'Price'],\n",
       "      dtype='object')"
      ]
     },
     "execution_count": 60,
     "metadata": {},
     "output_type": "execute_result"
    }
   ],
   "source": [
    "x_y.columns"
   ]
  },
  {
   "cell_type": "code",
   "execution_count": 61,
   "metadata": {},
   "outputs": [],
   "source": [
    "filename = 'x_dummies_colomn.sav'\n",
    "pickle.dump(x.columns, open(filename , 'wb'))"
   ]
  },
  {
   "cell_type": "code",
   "execution_count": 62,
   "metadata": {},
   "outputs": [],
   "source": [
    "filename = 'real_colomn.sav'\n",
    "pickle.dump(x_y.drop('Price',axis=1).columns, open(filename , 'wb'))"
   ]
  },
  {
   "cell_type": "code",
   "execution_count": 65,
   "metadata": {},
   "outputs": [
    {
     "data": {
      "text/plain": [
       "Index(['Location', 'Rooms', 'Bathrooms', 'Furnishing', 'Property Type Group',\n",
       "       'Size Type', 'Size Num', 'Price'],\n",
       "      dtype='object')"
      ]
     },
     "execution_count": 65,
     "metadata": {},
     "output_type": "execute_result"
    }
   ],
   "source": [
    "x_y.columns"
   ]
  }
 ],
 "metadata": {
  "kernelspec": {
   "display_name": "Python 3",
   "language": "python",
   "name": "python3"
  },
  "language_info": {
   "codemirror_mode": {
    "name": "ipython",
    "version": 3
   },
   "file_extension": ".py",
   "mimetype": "text/x-python",
   "name": "python",
   "nbconvert_exporter": "python",
   "pygments_lexer": "ipython3",
   "version": "3.7.0"
  }
 },
 "nbformat": 4,
 "nbformat_minor": 2
}
